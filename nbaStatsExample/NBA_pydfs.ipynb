{
 "cells": [
  {
   "cell_type": "code",
   "execution_count": null,
   "id": "2243a9e9-1c22-4f55-ad7d-324688b6ab1d",
   "metadata": {},
   "outputs": [],
   "source": [
    "from pydfs_lineup_optimizer import get_optimizer, Site, Sport"
   ]
  },
  {
   "cell_type": "code",
   "execution_count": null,
   "id": "93f5ad36-a5b2-4531-b165-4fd7033aea5e",
   "metadata": {},
   "outputs": [],
   "source": [
    "optimizer = get_optimizer(Site.FANDUEL, Sport.BASKETBALL)"
   ]
  },
  {
   "cell_type": "code",
   "execution_count": null,
   "id": "0ee268cb-2ac6-47e1-90b9-2204994cc7ba",
   "metadata": {},
   "outputs": [],
   "source": [
    "optimizer"
   ]
  },
  {
   "cell_type": "code",
   "execution_count": null,
   "id": "bd8e8d57-d97a-4d7c-ae9f-baa83e116711",
   "metadata": {},
   "outputs": [],
   "source": [
    "optimizer.load_players_from_csv(r\"/Users/ericmartinez/Downloads/FanDuel-NBA-2024 ET-01 ET-22 ET-98659-players-list.csv\")"
   ]
  },
  {
   "cell_type": "code",
   "execution_count": null,
   "id": "4477c67d-8fea-4e20-9ef9-883e6ecc44ad",
   "metadata": {},
   "outputs": [],
   "source": [
    "optimizer.optimize(n=100, max_exposure = .2)"
   ]
  },
  {
   "cell_type": "code",
   "execution_count": null,
   "id": "3ea4cf0c-39e4-49b0-84cc-5e5d66e9683a",
   "metadata": {},
   "outputs": [],
   "source": [
    "jaden = optimizer.player_pool.get_player_by_name(\"Jaden Ivey\")\n",
    "jaden.min_exposure = .5"
   ]
  },
  {
   "cell_type": "code",
   "execution_count": null,
   "id": "3ef27f91-a5e9-4a54-98a2-ffe976a1cdc4",
   "metadata": {},
   "outputs": [],
   "source": [
    "roddy = optimizer.player_pool.get_player_by_name(\"David Roddy\")\n",
    "roddy.min_exposure = .2"
   ]
  },
  {
   "cell_type": "code",
   "execution_count": null,
   "id": "d3a0196f-e0d4-403d-a8c9-a2ab9d57bdbd",
   "metadata": {},
   "outputs": [],
   "source": [
    "optimizer.player_pool.lock_player(jaden)\n",
    "optimizer.player_pool.lock_player(roddy)"
   ]
  },
  {
   "cell_type": "code",
   "execution_count": null,
   "id": "7d0c46f3-98a4-40b1-aa6f-ef6bf3d6d8a6",
   "metadata": {},
   "outputs": [],
   "source": [
    "for lineup in lineups: \n",
    "    print(lineup)"
   ]
  },
  {
   "cell_type": "code",
   "execution_count": null,
   "id": "f90d8af0-ca84-4c25-b446-d2f64d067a9a",
   "metadata": {},
   "outputs": [],
   "source": [
    "lineups"
   ]
  },
  {
   "cell_type": "code",
   "execution_count": null,
   "id": "cc83fcf3-d1fc-4cc0-a609-c22057b38a31",
   "metadata": {},
   "outputs": [],
   "source": [
    "optimizer.export(r'result.csv')"
   ]
  },
  {
   "cell_type": "code",
   "execution_count": null,
   "id": "a69c80ed-d369-4ce1-b4d4-09dcad3f4abc",
   "metadata": {},
   "outputs": [],
   "source": [
    "import pandas as pd"
   ]
  },
  {
   "cell_type": "code",
   "execution_count": null,
   "id": "ff234748-46d4-42d9-b6ec-721a93def861",
   "metadata": {},
   "outputs": [],
   "source": [
    "df = pd.read_csv(r'results.csv')"
   ]
  },
  {
   "cell_type": "code",
   "execution_count": null,
   "id": "15e9db08-fb71-4d14-8653-e4a8b28d6f6b",
   "metadata": {},
   "outputs": [],
   "source": [
    "df.head()"
   ]
  },
  {
   "cell_type": "code",
   "execution_count": null,
   "id": "d73fb2c2-f126-447c-9fd5-2c1174b5299a",
   "metadata": {},
   "outputs": [],
   "source": []
  },
  {
   "cell_type": "code",
   "execution_count": null,
   "id": "149fc699-1e97-4de7-a0c8-ea6680317e10",
   "metadata": {},
   "outputs": [],
   "source": []
  },
  {
   "cell_type": "code",
   "execution_count": null,
   "id": "a774357f-02ab-468f-984a-0aa8b1875e28",
   "metadata": {},
   "outputs": [],
   "source": [
    "# jaden ivey pistons x 2\n",
    "# max strus cle\n",
    "# coby white chi\n",
    "# david roddy mem\n",
    "# jaren jackson jr\n",
    "# jontay porter tor high risk / high reward\n",
    "# RJ Barrett tor\n",
    "# Scottie Barnes\n",
    "# John Konchar mem"
   ]
  }
 ],
 "metadata": {
  "kernelspec": {
   "display_name": "Python 3 (ipykernel)",
   "language": "python",
   "name": "python3"
  },
  "language_info": {
   "codemirror_mode": {
    "name": "ipython",
    "version": 3
   },
   "file_extension": ".py",
   "mimetype": "text/x-python",
   "name": "python",
   "nbconvert_exporter": "python",
   "pygments_lexer": "ipython3",
   "version": "3.12.0"
  }
 },
 "nbformat": 4,
 "nbformat_minor": 5
}
