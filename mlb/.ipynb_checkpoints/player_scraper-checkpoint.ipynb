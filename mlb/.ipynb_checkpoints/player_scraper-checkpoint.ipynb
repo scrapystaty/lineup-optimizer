{
 "cells": [
  {
   "cell_type": "code",
   "execution_count": null,
   "id": "cd51cb0d-772d-406b-b85f-cf37e372061c",
   "metadata": {},
   "outputs": [],
   "source": [
    "from selenium import webdriver\n",
    "from selenium.webdriver.support.ui import Select\n",
    "from selenium.webdriver.support.ui import WebDriverWait\n",
    "from selenium.webdriver.support import expected_conditions as EC\n",
    "from selenium.webdriver.common.by import By\n",
    "from bs4 import BeautifulSoup\n",
    "from selenium.webdriver.chrome.service import Service\n",
    "from webdriver_manager.chrome import ChromeDriverManager\n",
    "import pandas as pd\n",
    "\n",
    "# Proxy configuration\n",
    "PROXY = \"127.0.0.1:24000\"\n",
    "# Path to chromedriver executable\n",
    "PATH = \"/opt/homebrew/Caskroom/chromedriver/121.0.6167.85/chromedriver-mac-arm64/chromedriver\"\n",
    "\n",
    "chrome_options = webdriver.ChromeOptions()\n",
    "chrome_options.add_argument('--proxy-server=%s' % PROXY)\n",
    "\n",
    "# player_ids = ['677950', '572233', '682998', '666150', '656896', '553993', '672515', '672695', '607054', '664983', '645444', '606466', '666971', '656976', '592626']\n",
    "timeout = 25\n",
    "# mlb_seasons = ['2023', '2022', '2021']\n",
    "player_ids = [['dbacks', 'Alek Thomas', 'alek-thomas-677950'], ['dbacks', 'Ryne Nelson', 'href=\"/player/694297\", 'Pitcher']]\n"
   ]
  },
  {
   "cell_type": "code",
   "execution_count": null,
   "id": "682db800-4a45-41dc-8f1c-6c694d39fcdd",
   "metadata": {},
   "outputs": [],
   "source": [
    "driver = webdriver.Chrome(service=Service(ChromeDriverManager().install()), options=chrome_options)"
   ]
  },
  {
   "cell_type": "code",
   "execution_count": null,
   "id": "51254977-9fee-4b7c-99dc-f16cd24c4e9e",
   "metadata": {},
   "outputs": [],
   "source": [
    "url = f\"https://baseballsavant.mlb.com/savant-player/alek-thomas-677950?stats=statcast-r-hitting-mlb\"\n",
    "driver.get(url)\n",
    "\n",
    "pitches = Select(driver.find_element(By.XPATH, r'//*[@id=\"pitchChartBreakdown\"]'))\n",
    "pitches.select_by_index(0)\n",
    "\n",
    "handedness = Select(driver.find_element(By.XPATH, r'//*[@id=\"pitchChartHandedness\"]'))\n",
    "handedness.select_by_index(1)\n",
    "\n",
    "headers_present = EC.visibility_of_element_located((By.XPATH, r'//*[@id=\"detailedPitches\"]/tbody/tr[1]/td[2]/span'))\n",
    "WebDriverWait(driver, timeout).until(headers_present)\n",
    "\n",
    "src = driver.page_source\n",
    "parser = BeautifulSoup(src, \"lxml\")\n",
    "table = parser.find(\"div\", attrs = {\"id\": \"pitchTable\"})\n",
    "\n",
    "headers = table.findAll('th')\n",
    "headerlist = [h.text.strip() for h in headers[:]]\n",
    "headerlist.insert(0, \"Name\")\n",
    "headerlist.insert(2, \"Team\")\n"
   ]
  },
  {
   "cell_type": "code",
   "execution_count": null,
   "id": "721b69c3-f5b5-4b91-a48d-fdd101758e2d",
   "metadata": {},
   "outputs": [],
   "source": [
    "headerlist "
   ]
  },
  {
   "cell_type": "code",
   "execution_count": null,
   "id": "e9e2d426-fe53-4a31-b3fc-3ced412596c0",
   "metadata": {},
   "outputs": [],
   "source": [
    "for player in player_ids:\n",
    "    url = f\"https://baseballsavant.mlb.com/savant-player/{player[-1]}?stats=statcast-r-hitting-mlb\"\n",
    "    driver.get(url)\n",
    "\n",
    "    pitches = Select(driver.find_element(By.XPATH, r'//*[@id=\"pitchChartBreakdown\"]'))\n",
    "    pitches.select_by_index(0)\n",
    "\n",
    "    handedness = Select(driver.find_element(By.XPATH, r'//*[@id=\"pitchChartHandedness\"]'))\n",
    "\n",
    "    for hand in range(1, len(handedness.options)):\n",
    "        handedness.select_by_index(hand)\n",
    "        \n",
    "        first_row_present = EC.visibility_of_element_located((By.XPATH, r'//*[@id=\"detailedPitches\"]'))\n",
    "        WebDriverWait(driver, timeout).until(first_row_present)\n",
    "\n",
    "        src = driver.page_source\n",
    "        parser = BeautifulSoup(src, \"lxml\")\n",
    "        table = parser.find(\"div\", attrs = {\"id\": \"pitchTable\"})\n",
    "    \n",
    "        rows = table.findAll('tr')[1:]\n",
    "    \n",
    "        player_stats = []\n",
    "        for i in range(len(rows)):\n",
    "            row_cells = []\n",
    "            for td in rows[i].findAll('td'):\n",
    "                row_cells.append(td.getText().strip())\n",
    "            row_cells.insert(0, player[1])\n",
    "            row_cells.insert(2, player[0])\n",
    "            player_stats.append(row_cells)\n",
    "    "
   ]
  },
  {
   "cell_type": "code",
   "execution_count": null,
   "id": "29ab99ca-a6b4-4ed0-85c5-efe6e40ee61b",
   "metadata": {},
   "outputs": [],
   "source": [
    "driver.quit()"
   ]
  },
  {
   "cell_type": "code",
   "execution_count": null,
   "id": "a278ffba-4ded-411a-9916-358b143adb32",
   "metadata": {},
   "outputs": [],
   "source": [
    "player_stats"
   ]
  },
  {
   "cell_type": "code",
   "execution_count": null,
   "id": "3153a458-8403-43b3-9382-1fcde78d0308",
   "metadata": {},
   "outputs": [],
   "source": [
    "rows"
   ]
  },
  {
   "cell_type": "code",
   "execution_count": null,
   "id": "35ada7f5-95ea-464c-bfb7-1559af630571",
   "metadata": {},
   "outputs": [],
   "source": [
    "df = pd.DataFrame(player_stats, columns=headerlist)"
   ]
  },
  {
   "cell_type": "code",
   "execution_count": null,
   "id": "199b196e-9ff1-42b5-ac88-7df7adc43458",
   "metadata": {},
   "outputs": [],
   "source": [
    "df"
   ]
  },
  {
   "cell_type": "code",
   "execution_count": null,
   "id": "ddfb4798-7d46-4e5a-92b4-0b103289ac73",
   "metadata": {},
   "outputs": [],
   "source": []
  },
  {
   "cell_type": "code",
   "execution_count": null,
   "id": "c18a19a0-908f-4945-948a-e95f3b183fed",
   "metadata": {},
   "outputs": [],
   "source": []
  },
  {
   "cell_type": "code",
   "execution_count": null,
   "id": "b56ec528-a2ef-42f3-b99e-16743f3173fe",
   "metadata": {},
   "outputs": [],
   "source": [
    "import requests\n",
    "from bs4 import BeautifulSoup\n",
    "import pandas as pd\n",
    "\n",
    "\n",
    "payload = {}\n",
    "headers = {\n",
    "  'User-Agent': 'Mozilla/5.0 (Macintosh; Intel Mac OS X 10.15; rv:122.0) Gecko/20100101 Firefox/122.0',\n",
    "  'Accept': '*/*',\n",
    "  'Accept-Language': 'en-US,en;q=0.5',\n",
    "  'Accept-Encoding': 'gzip, deflate, br',\n",
    "  'X-Requested-With': 'XMLHttpRequest',\n",
    "  'Connection': 'keep-alive',\n",
    "  'Referer': 'https://baseballsavant.mlb.com/savant-player/alek-thomas-677950?stats=statcast-r-hitting-mlb',\n",
    "  'Cookie': '__cflb=02DiuJFcgbX2zpcHdRurfpjkBTD5BPySo6gPFqPfkQ556; AMCV_A65F776A5245B01B0A490D44%40AdobeOrg=1099438348%7CMCIDTS%7C19755%7CMCMID%7C08223760795725670020171971273569729942%7CMCAAMLH-1707411436%7C7%7CMCAAMB-1707411436%7C6G1ynYcLPuiQxYZrsz_pkqfLG9yMXBpb2zX5dvJdYQJzPXImdj0y%7CMCOPTOUT-1706813836s%7CNONE%7CMCAID%7CNONE%7CMCSYNCSOP%7C411-19762%7CvVersion%7C2.1.0; s_cc=true; s_sq=%5B%5BB%5D%5D; AMCVS_A65F776A5245B01B0A490D44%40AdobeOrg=1; s_vi=[CS]v1|32DDE6B6150B13BF-40000A6BE1F97D36[CE]; s_ecid=MCMID%7C08223760795725670020171971273569729942; _dd_s=rum=0&expire=1706807948264',\n",
    "  'Sec-Fetch-Dest': 'empty',\n",
    "  'Sec-Fetch-Mode': 'cors',\n",
    "  'Sec-Fetch-Site': 'same-origin',\n",
    "  'TE': 'trailers'\n",
    "}\n",
    "\n",
    "\n",
    "players = [['dbacks', 'Alek Thomas', '677950']]\n",
    "handedness =['R', 'L']"
   ]
  },
  {
   "cell_type": "code",
   "execution_count": null,
   "id": "a8e1a760-2231-490b-9897-d641a066e819",
   "metadata": {},
   "outputs": [],
   "source": [
    "for player in players:\n",
    "    player_stats = []\n",
    "    for hand in handedness:\n",
    "        url = f\"https://baseballsavant.mlb.com/player-services/statcast-pitches-breakdown?playerId={player[-1]}&position=8&hand={hand}&pitchBreakdown=pitches&timeFrame=yearly&season=&pitchType=&count=&updatePitches=true\"\n",
    "\n",
    "        r = requests.get(url, headers=headers)\n",
    "\n",
    "        parser = BeautifulSoup(r.content, \"html.parser\")\n",
    "        table = parser.find(id=\"detailedPitches\")\n",
    "\n",
    "        headersTH = table.find_all('th')\n",
    "        headerlist = [h.text.strip() for h in headersTH[:]]\n",
    "        headerlist.insert(0, \"Name\")\n",
    "        headerlist.insert(2, \"Team\")\n",
    "        headerlist.insert(3, \"Hand\") \n",
    "    \n",
    "        rows = table.findAll('tr')[1:]\n",
    "    \n",
    "        for i in range(len(rows)):\n",
    "            row_cells = []\n",
    "            for td in rows[i].findAll('td'):\n",
    "                row_cells.append(td.getText().strip())\n",
    "            row_cells.insert(0, player[1])\n",
    "            row_cells.insert(2, player[0])\n",
    "            row_cells.insert(3, hand)\n",
    "            player_stats.append(row_cells)"
   ]
  },
  {
   "cell_type": "code",
   "execution_count": null,
   "id": "ca6537fe-e7c9-4eb7-a4d2-de590ec23abf",
   "metadata": {},
   "outputs": [],
   "source": []
  },
  {
   "cell_type": "code",
   "execution_count": null,
   "id": "7a36a04a-0560-449a-b359-e0010609b28d",
   "metadata": {},
   "outputs": [],
   "source": [
    "headerlist"
   ]
  },
  {
   "cell_type": "code",
   "execution_count": null,
   "id": "dc304683-1944-4755-b2fd-6206ace67920",
   "metadata": {},
   "outputs": [],
   "source": [
    "player_stats"
   ]
  },
  {
   "cell_type": "code",
   "execution_count": null,
   "id": "db6cbe22-e7d8-4206-9110-611e0b606443",
   "metadata": {},
   "outputs": [],
   "source": [
    "df = pd.DataFrame(player_stats, columns=headerlist)\n"
   ]
  },
  {
   "cell_type": "code",
   "execution_count": null,
   "id": "2e8bd17a-0565-4a72-a382-0c2a894e18dd",
   "metadata": {},
   "outputs": [],
   "source": [
    "df"
   ]
  },
  {
   "cell_type": "code",
   "execution_count": null,
   "id": "eef191ed-15c4-40ca-943c-ef8d179f9dbd",
   "metadata": {},
   "outputs": [],
   "source": []
  },
  {
   "cell_type": "code",
   "execution_count": null,
   "id": "e9d20a03-a88f-4fc9-bd60-5d6cf6e05374",
   "metadata": {},
   "outputs": [],
   "source": []
  },
  {
   "cell_type": "code",
   "execution_count": null,
   "id": "49bc0914-02f2-4484-9ace-a1142760c765",
   "metadata": {},
   "outputs": [],
   "source": []
  },
  {
   "cell_type": "code",
   "execution_count": null,
   "id": "ca8c384f-1102-4383-897c-89c6ddb7aca4",
   "metadata": {},
   "outputs": [],
   "source": [
    "from selenium import webdriver\n",
    "from selenium.webdriver.support.ui import Select\n",
    "from selenium.webdriver.support.ui import WebDriverWait\n",
    "from selenium.webdriver.support import expected_conditions as EC\n",
    "from selenium.webdriver.common.by import By\n",
    "from bs4 import BeautifulSoup\n",
    "from selenium.webdriver.chrome.service import Service\n",
    "from webdriver_manager.chrome import ChromeDriverManager\n",
    "import pandas as pd\n",
    "\n",
    "# Proxy configuration\n",
    "PROXY = \"127.0.0.1:24000\"\n",
    "# Path to chromedriver executable\n",
    "PATH = \"/opt/homebrew/Caskroom/chromedriver/121.0.6167.85/chromedriver-mac-arm64/chromedriver\"\n",
    "\n",
    "chrome_options = webdriver.ChromeOptions()\n",
    "chrome_options.add_argument('--proxy-server=%s' % PROXY)\n",
    "\n",
    "timeout = 25\n",
    "\n",
    "handedness =['R', 'L']\n",
    "player_stats = []\n",
    "headerlist = []\n",
    "pitcher_stats = []\n",
    "players = [['dbacks', 'Miguel Castro', 'miguel-castro-612434', 'Pitcher']]\n",
    "driver = webdriver.Chrome(service=Service(ChromeDriverManager().install()), options=chrome_options)"
   ]
  },
  {
   "cell_type": "code",
   "execution_count": null,
   "id": "deb50045-d107-4401-a1a5-84111b40518b",
   "metadata": {},
   "outputs": [],
   "source": [
    "def missing_stats(pitches_less, pitches_more):  \n",
    "    pitches_needed = []\n",
    "    for row in pitches_more:\n",
    "        yearPitch = row.findAll('td')[0].getText().strip() + row.findAll('td')[1].getText().strip()\n",
    "        pitches_needed.append(yearPitch)\n",
    "    \n",
    "    pitches_got = []\n",
    "    for row in pitches_less:\n",
    "        yearPitch = row.findAll('td')[0].getText().strip() + row.findAll('td')[1].getText().strip()\n",
    "        pitches_got.append(yearPitch)\n",
    "\n",
    "    missing_pitch = []\n",
    "    for pitch in pitches_needed:\n",
    "        if pitch not in pitches_got:\n",
    "            missing_pitch.append(pitch)\n",
    "\n",
    "    missing_pitch_arr = []\n",
    "    missing_pitch_arr.append(missing_pitch[0][:4])\n",
    "    missing_pitch_arr.append(missing_pitch[0][4:])\n",
    "\n",
    "    # for stat in spinDirectionRows[2:]:\n",
    "    #     missing_pitch_arr.append('') # appends empty string for value to keep the correct amount of cols\n",
    "    \n",
    "    # spinDirection_stats.append(missing_pitch_arr) # appends missing pitch"
   ]
  },
  {
   "cell_type": "code",
   "execution_count": null,
   "id": "a6a60b06-6455-4b13-ba5f-60735be8aa93",
   "metadata": {},
   "outputs": [],
   "source": [
    "for player in players:\n",
    "    url = f\"https://baseballsavant.mlb.com/savant-player/{player[2]}?stats=statcast-r-pitching-mlb\"\n",
    "    driver.get(url)\n",
    "\n",
    "    detailedPitches_present = EC.visibility_of_element_located((By.XPATH, r'//*[@id=\"detailedPitches\"]/tbody/tr[1]/td[2]/span'))\n",
    "    WebDriverWait(driver, timeout).until(detailedPitches_present)\n",
    "\n",
    "    src = driver.page_source\n",
    "    parser = BeautifulSoup(src, \"lxml\")\n",
    "\n",
    "    pitchMovement = parser.find(\"table\", attrs = {\"id\": \"pitchMovement\"})\n",
    "    pitchTracking = parser.find(\"table\", attrs = {\"id\": \"detailedPitches\"})\n",
    "    runValues = parser.find(\"table\", attrs = {\"id\": \"runValues\"})\n",
    "    spinDirection = parser.find(\"table\", attrs = {\"id\": \"spinAxis\"})\n",
    "    \n",
    "    if not headerlist:\n",
    "        pitchMovementHeaders = pitchMovement.findAll('th')\n",
    "        pitchMovementHeadersList = [h.text.strip() for h in pitchMovementHeaders[:]]\n",
    "\n",
    "        pitchTrackingHeaders = pitchTracking.findAll('th')\n",
    "        pitchTrackingHeadersList = [h.text.strip() for h in pitchTrackingHeaders[:]]\n",
    "\n",
    "        runValuesHeaders = runValues.findAll('th')\n",
    "        runValuesHeadersList = [h.text.strip() for h in runValuesHeaders[:]]\n",
    "\n",
    "        spinDirectionHeaders = spinDirection.findAll('th')\n",
    "        spinDirectionHeadersList = [h.text.strip() for h in spinDirectionHeaders[:]]\n",
    "    \n",
    "        pitchMovementHeadersList_2 = pitchMovementHeadersList[2:]\n",
    "        pitchMovementHeadersList_2[0] = 'Name'\n",
    "        headerlist.extend(pitchMovementHeadersList_2)\n",
    "        headerlist.extend(pitchTrackingHeadersList[3:])\n",
    "        headerlist.extend(runValuesHeadersList[3:])\n",
    "        headerlist.extend(spinDirectionHeadersList[3:])\n",
    "\n",
    "    pitchMovementRows = pitchMovement.findAll('tr')[2:]\n",
    "    pitchTrackingRows = pitchTracking.findAll('tr')[1:]\n",
    "    runValuesRows = runValues.findAll('tr')[1:]\n",
    "    spinDirectionRows = spinDirection.findAll('tr')[1:]\n",
    "    \n",
    "    pitchMovement_stats = []\n",
    "    pitchTracking_stats = []\n",
    "    runValues_stats = []\n",
    "    spinDirection_stats = []\n",
    "    \n",
    "    for i in range(len(pitchMovementRows)):\n",
    "        row_cells = []\n",
    "        for td in pitchMovementRows[i].findAll('td'):\n",
    "            row_cells.append(td.getText().strip())\n",
    "        pitchMovement_stats.append(row_cells)\n",
    "\n",
    "    for i in range(len(pitchTrackingRows)):\n",
    "        row_cells = []\n",
    "        for td in pitchTrackingRows[i].findAll('td'):\n",
    "            row_cells.append(td.getText().strip())\n",
    "        pitchTracking_stats.append(row_cells)\n",
    "\n",
    "    for i in range(len(runValuesRows)):\n",
    "        row_cells = []\n",
    "        for td in runValuesRows[i].findAll('td'):\n",
    "            row_cells.append(td.getText().strip())\n",
    "        runValues_stats.append(row_cells)\n",
    "\n",
    "    for i in range(len(spinDirectionRows)):\n",
    "        row_cells = []\n",
    "        for td in spinDirectionRows[i].findAll('td'):\n",
    "            row_cells.append(td.getText().strip())\n",
    "        spinDirection_stats.append(row_cells)\n",
    "\n",
    "    if (len(pitchTrackingRows) > len(spinDirectionRows)):\n",
    "        missing_stats(spinDirectionRows, pitchTrackingRows)\n",
    "    elif (len(pitchTrackingRows) > len(runValuesRows)):\n",
    "        missing_stats(runValuesRows, pitchTrackingRows)\n",
    "    elif (len(pitchTrackingRows) > len(pitchMovementRows)):\n",
    "        missing_stats(pitchMovementRows, pitchTrackingRows)   \n",
    "\n",
    "    for i in range(len(pitchMovementRows)):\n",
    "        for pitch in pitchMovement_stats:\n",
    "            if pitch[1] == pitchTracking_stats[i][1] and pitch[0] == pitchTracking_stats[i][0]:\n",
    "                pitch.extend(pitchTracking_stats[i][3:])\n",
    "\n",
    "    for i in range(len(pitchMovementRows)):\n",
    "        for pitch in pitchMovement_stats:\n",
    "            if pitch[1] == runValues_stats[i][1] and pitch[0] == runValues_stats[i][0]:\n",
    "                pitch.extend(runValues_stats[i][3:])\n",
    "\n",
    "    for i in range(len(pitchMovementRows)):\n",
    "        for pitch in pitchMovement_stats:\n",
    "            if pitch[1] == spinDirection_stats[i][1] and pitch[0] == spinDirection_stats[i][0]:\n",
    "                pitch.extend(spinDirection_stats[i][3:])\n",
    "\n",
    "    for pitch in pitchMovement_stats: \n",
    "        pitch.insert(0, player[1])\n",
    "        pitcher_stats.append(pitch)\n",
    "\n",
    "driver.quit()\n",
    "df = pd.DataFrame(pitchMovement_stats, columns=headerlist)"
   ]
  },
  {
   "cell_type": "code",
   "execution_count": null,
   "id": "7731eb79-decf-404e-a538-492b2edf282b",
   "metadata": {},
   "outputs": [],
   "source": [
    "pitchMovement_stats"
   ]
  },
  {
   "cell_type": "code",
   "execution_count": null,
   "id": "82bbce66-efaa-4433-bc70-c99d972ef903",
   "metadata": {},
   "outputs": [],
   "source": [
    "pitcher_stats.(pitchMovement_stats)"
   ]
  },
  {
   "cell_type": "code",
   "execution_count": null,
   "id": "59b14882-3b50-4047-83f0-8f40196c6cd1",
   "metadata": {},
   "outputs": [],
   "source": [
    "pitcher_stats"
   ]
  },
  {
   "cell_type": "code",
   "execution_count": null,
   "id": "4136fc43-3766-492e-973a-c3ffb2bf14a3",
   "metadata": {},
   "outputs": [],
   "source": [
    "driver.quit()"
   ]
  },
  {
   "cell_type": "code",
   "execution_count": null,
   "id": "be082c5c-1568-4587-9b8d-726d17e53561",
   "metadata": {},
   "outputs": [],
   "source": [
    "for i in range(len(pitchMovementRows)):\n",
    "    for pitch in pitcher1_stats:\n",
    "        if pitch[1] == pitcher2_stats[i][1]:\n",
    "            pitch.extend(pitcher2_stats[i][3:])"
   ]
  },
  {
   "cell_type": "code",
   "execution_count": null,
   "id": "ba372ea9-094b-446e-843f-e3ad25add491",
   "metadata": {},
   "outputs": [],
   "source": [
    "for i in range(len(pitchMovementRows)):\n",
    "    for pitch in pitcher1_stats:\n",
    "        if pitch[1] == pitcher3_stats[i][1]:\n",
    "            pitch.extend(pitcher3_stats[i][3:])"
   ]
  },
  {
   "cell_type": "code",
   "execution_count": null,
   "id": "67f4e47d-d4ec-471b-a7d5-ce9b72ccb16b",
   "metadata": {},
   "outputs": [],
   "source": [
    "for i in range(len(pitchMovementRows)):\n",
    "    for pitch in pitcher1_stats:\n",
    "        if pitch[1] == pitcher4_stats[i][1]:\n",
    "            pitch.extend(pitcher4_stats[i][3:])"
   ]
  },
  {
   "cell_type": "code",
   "execution_count": null,
   "id": "87c85282-c4f5-421a-868f-3da39d0a8c73",
   "metadata": {},
   "outputs": [],
   "source": [
    "for pitch in pitcher1_stats[1:]: \n",
    "    pitch.insert(0, 'Brandon')"
   ]
  },
  {
   "cell_type": "code",
   "execution_count": null,
   "id": "fd468c43-e49f-4cec-a45d-ebe82799e3e0",
   "metadata": {},
   "outputs": [],
   "source": [
    "df2 = pd.DataFrame(pitcher_stats, columns=headerlist)"
   ]
  },
  {
   "cell_type": "code",
   "execution_count": null,
   "id": "720ae64e-4a5b-4008-8d94-dabdd30f4bc3",
   "metadata": {},
   "outputs": [],
   "source": [
    "df2"
   ]
  },
  {
   "cell_type": "code",
   "execution_count": null,
   "id": "418abd84-1e42-4265-8e09-c6303f5f9eed",
   "metadata": {},
   "outputs": [],
   "source": []
  },
  {
   "cell_type": "code",
   "execution_count": null,
   "id": "a80a12cb-23b9-4039-89e6-cd9399fd8522",
   "metadata": {},
   "outputs": [],
   "source": [
    "pitchMovementRows\n",
    "# len(pitchTrackingRows)\n",
    "# len(runValuesRows)\n",
    "# len(spinDirectionRows)"
   ]
  },
  {
   "cell_type": "code",
   "execution_count": null,
   "id": "35df207f-060b-492b-bf7b-38aa01fa947b",
   "metadata": {},
   "outputs": [],
   "source": [
    "def missing_stats(pitches_less, pitches_more):  \n",
    "    pitches_needed = []\n",
    "    for row in pitches_more:\n",
    "        yearPitch = row.findAll('td')[0].getText().strip() + row.findAll('td')[1].getText().strip()\n",
    "        pitches_needed.append(yearPitch)\n",
    "    \n",
    "    pitches_got = []\n",
    "    for row in pitches_less:\n",
    "        yearPitch = row.findAll('td')[0].getText().strip() + row.findAll('td')[1].getText().strip()\n",
    "        pitches_got.append(yearPitch)\n",
    "\n",
    "    missing_pitch = []\n",
    "    for pitch in pitches_needed:\n",
    "        if pitch not in pitches_got:\n",
    "            missing_pitch.append(pitch)\n",
    "\n",
    "    missing_pitch_arr = []\n",
    "    missing_pitch_arr.append(missing_pitch[0][:4])\n",
    "    missing_pitch_arr.append(missing_pitch[0][4:])\n",
    "\n",
    "    for stat in spinDirectionRows[2:]:\n",
    "        missing_pitch_arr.append('') # appends empty string for value to keep the correct amount of cols\n",
    "    \n",
    "    spinDirection_stats.append(missing_pitch_arr) # appends missing pitch"
   ]
  },
  {
   "cell_type": "code",
   "execution_count": null,
   "id": "5fcdaf41-43da-4f35-9eb5-00daea1a372f",
   "metadata": {},
   "outputs": [],
   "source": [
    "missing_stats(spinDirectionRows, pitchTrackingRows)"
   ]
  },
  {
   "cell_type": "code",
   "execution_count": null,
   "id": "7daa269c-c43b-4f84-90c3-4b20bf548d31",
   "metadata": {},
   "outputs": [],
   "source": [
    "spinDirection_stats"
   ]
  },
  {
   "cell_type": "code",
   "execution_count": null,
   "id": "eb5cbe82-e823-4076-a7c0-6975f81c27d1",
   "metadata": {},
   "outputs": [],
   "source": [
    "if (len(pitchTrackingRows) > len(pitchMovementRows)) {\n",
    "    \n",
    "}"
   ]
  },
  {
   "cell_type": "code",
   "execution_count": null,
   "id": "3760275f-ddfa-40b5-ad87-a0c56493c6df",
   "metadata": {},
   "outputs": [],
   "source": [
    "spinDirection_stats = []\n",
    "for i in range(len(spinDirectionRows)):\n",
    "        row_cells = []\n",
    "        for td in spinDirectionRows[i].findAll('td'):\n",
    "            row_cells.append(td.getText().strip())\n",
    "        spinDirection_stats.append(row_cells)\n",
    "spinDirection_stats "
   ]
  },
  {
   "cell_type": "code",
   "execution_count": null,
   "id": "23616c00-1375-48e0-a6ec-b76fd853632a",
   "metadata": {},
   "outputs": [],
   "source": [
    "pitches_needed = []\n",
    "for row in pitchTrackingRows:\n",
    "    yearPitch = row.findAll('td')[0].getText().strip() + row.findAll('td')[1].getText().strip()\n",
    "    pitches_needed.append(yearPitch)\n",
    "pitches_needed    "
   ]
  },
  {
   "cell_type": "code",
   "execution_count": null,
   "id": "3f7e436b-4f8d-458f-8519-e805971a032b",
   "metadata": {},
   "outputs": [],
   "source": [
    "pitches_got = []\n",
    "for row in spinDirectionRows:\n",
    "    yearPitch = row.findAll('td')[0].getText().strip() + row.findAll('td')[1].getText().strip()\n",
    "    pitches_got.append(yearPitch)\n",
    "\n",
    "missing_pitch = []\n",
    "for pitch in pitches_needed:\n",
    "    if pitch not in pitches_got:\n",
    "        missing_pitch.append(pitch)\n"
   ]
  },
  {
   "cell_type": "code",
   "execution_count": null,
   "id": "74f5e01c-0aac-48b2-8e20-3e43260ccee0",
   "metadata": {},
   "outputs": [],
   "source": [
    "missing_pitch_arr = []\n",
    "for pitch in missing_pitch:\n",
    "    missing_pitch_arr.append(pitch[0][:4])\n",
    "    missing_pitch_arr.append([0][4:])   \n",
    "    "
   ]
  },
  {
   "cell_type": "code",
   "execution_count": null,
   "id": "0609f654-3b97-4bd3-aacc-bda984378d3e",
   "metadata": {},
   "outputs": [],
   "source": [
    "missing_pitch_arr"
   ]
  },
  {
   "cell_type": "code",
   "execution_count": null,
   "id": "19314716-e36b-4102-9914-4fc688b58a38",
   "metadata": {},
   "outputs": [],
   "source": [
    "missing_pitch_year = missing_pitch[0][:4]"
   ]
  },
  {
   "cell_type": "code",
   "execution_count": null,
   "id": "ab196764-841e-4222-a8a5-42cbf559e2db",
   "metadata": {},
   "outputs": [],
   "source": [
    "missing_pitch_arr = []"
   ]
  },
  {
   "cell_type": "code",
   "execution_count": null,
   "id": "40bbec95-e9aa-4dd2-91c4-24b225e9cfcf",
   "metadata": {},
   "outputs": [],
   "source": [
    "missing_pitch_type = missing_pitch[0][4:]"
   ]
  },
  {
   "cell_type": "code",
   "execution_count": null,
   "id": "4a97cd32-ad4f-43a7-b30c-05daaea96ae7",
   "metadata": {},
   "outputs": [],
   "source": [
    "missing_pitch_arr.append(missing_pitch[0][:4])\n",
    "missing_pitch_arr.append(missing_pitch[0][4:])"
   ]
  },
  {
   "cell_type": "code",
   "execution_count": null,
   "id": "d3a2cb0c-d064-4b91-ae22-632594e6083e",
   "metadata": {},
   "outputs": [],
   "source": [
    "missing_pitch_arr"
   ]
  },
  {
   "cell_type": "code",
   "execution_count": null,
   "id": "7730b60b-7764-4197-a802-2b6f8a203899",
   "metadata": {},
   "outputs": [],
   "source": [
    "for stat in spinDirectionRows[2:]:\n",
    "    missing_pitch_arr.append('') # appends empty string for value to keep the correct amount of cols"
   ]
  },
  {
   "cell_type": "code",
   "execution_count": null,
   "id": "196abbe6-8bac-43a6-bf86-772b436ba1e2",
   "metadata": {},
   "outputs": [],
   "source": [
    "spinDirection_stats.append(missing_pitch_arr) # appends missing pitch"
   ]
  },
  {
   "cell_type": "code",
   "execution_count": null,
   "id": "2db9412b-a668-4373-b5ec-14976fc59103",
   "metadata": {},
   "outputs": [],
   "source": [
    "# len(pitchMovement_stats)\n",
    "# len(pitchTracking_stats)\n",
    "# len(runValues_stats)\n",
    "# len(spinDirection_stats)"
   ]
  },
  {
   "cell_type": "code",
   "execution_count": null,
   "id": "a3771a67-639c-4c29-aad7-3d8bb8016fe6",
   "metadata": {},
   "outputs": [],
   "source": [
    "def largest_pitch_count():\n",
    "    pitch_count = []\n",
    "    pitch_count.append(pitchMovementRows)\n",
    "    pitch_count.append(pitchTrackingRows)\n",
    "    pitch_count.append(runValuesRows)\n",
    "    pitch_count.append(spinDirectionRows)\n",
    "    return max(pitch_count, key=len)\n",
    "\n",
    "if (len(largest_pitch_count()) > 5):    \n",
    "    print(largest_pitch_count)\n",
    "\n",
    "# pitchMovementRows\n",
    "# len(pitchTrackingRows)\n",
    "# len(runValuesRows)\n",
    "# len(spinDirectionRows)"
   ]
  },
  {
   "cell_type": "code",
   "execution_count": null,
   "id": "1ae37758-fa42-41f0-b7a6-1701ca55465f",
   "metadata": {},
   "outputs": [],
   "source": [
    "len(largest_pitch_count())"
   ]
  },
  {
   "cell_type": "code",
   "execution_count": null,
   "id": "fc11617b-fabe-460e-86f7-236d7dee82a5",
   "metadata": {},
   "outputs": [],
   "source": [
    "len(pitch_count[-1])"
   ]
  },
  {
   "cell_type": "code",
   "execution_count": null,
   "id": "4533ed0c-96cf-4d2d-a63e-9fa7ff65829c",
   "metadata": {},
   "outputs": [],
   "source": [
    "runValues_stats[0]"
   ]
  },
  {
   "cell_type": "code",
   "execution_count": 1,
   "id": "63fed15c-8e93-41c6-b40a-0ad18e61cee4",
   "metadata": {},
   "outputs": [
    {
     "ename": "TimeoutException",
     "evalue": "Message: \nStacktrace:\n0   chromedriver                        0x00000001010727dc chromedriver + 4040668\n1   chromedriver                        0x000000010106a9e0 chromedriver + 4008416\n2   chromedriver                        0x0000000100cdd870 chromedriver + 284784\n3   chromedriver                        0x0000000100d21080 chromedriver + 561280\n4   chromedriver                        0x0000000100d5b048 chromedriver + 798792\n5   chromedriver                        0x0000000100d1574c chromedriver + 513868\n6   chromedriver                        0x0000000100d16044 chromedriver + 516164\n7   chromedriver                        0x0000000101037a04 chromedriver + 3799556\n8   chromedriver                        0x000000010103bee4 chromedriver + 3817188\n9   chromedriver                        0x0000000101020260 chromedriver + 3703392\n10  chromedriver                        0x000000010103ca2c chromedriver + 3820076\n11  chromedriver                        0x000000010101301c chromedriver + 3649564\n12  chromedriver                        0x0000000101059e3c chromedriver + 3939900\n13  chromedriver                        0x0000000101059fb4 chromedriver + 3940276\n14  chromedriver                        0x000000010106a660 chromedriver + 4007520\n15  libsystem_pthread.dylib             0x000000018c32a034 _pthread_start + 136\n16  libsystem_pthread.dylib             0x000000018c324e3c thread_start + 8\n",
     "output_type": "error",
     "traceback": [
      "\u001b[0;31m---------------------------------------------------------------------------\u001b[0m",
      "\u001b[0;31mTimeoutException\u001b[0m                          Traceback (most recent call last)",
      "Cell \u001b[0;32mIn[1], line 120\u001b[0m\n\u001b[1;32m    117\u001b[0m driver\u001b[38;5;241m.\u001b[39mget(url)\n\u001b[1;32m    119\u001b[0m detailedPitches_present \u001b[38;5;241m=\u001b[39m EC\u001b[38;5;241m.\u001b[39mvisibility_of_element_located((By\u001b[38;5;241m.\u001b[39mXPATH, \u001b[38;5;124mr\u001b[39m\u001b[38;5;124m'\u001b[39m\u001b[38;5;124m//*[@id=\u001b[39m\u001b[38;5;124m\"\u001b[39m\u001b[38;5;124mdetailedPitches\u001b[39m\u001b[38;5;124m\"\u001b[39m\u001b[38;5;124m]/tbody/tr[1]/td[2]/span\u001b[39m\u001b[38;5;124m'\u001b[39m))\n\u001b[0;32m--> 120\u001b[0m \u001b[43mWebDriverWait\u001b[49m\u001b[43m(\u001b[49m\u001b[43mdriver\u001b[49m\u001b[43m,\u001b[49m\u001b[43m \u001b[49m\u001b[43mtimeout\u001b[49m\u001b[43m)\u001b[49m\u001b[38;5;241;43m.\u001b[39;49m\u001b[43muntil\u001b[49m\u001b[43m(\u001b[49m\u001b[43mdetailedPitches_present\u001b[49m\u001b[43m)\u001b[49m\n\u001b[1;32m    122\u001b[0m src \u001b[38;5;241m=\u001b[39m driver\u001b[38;5;241m.\u001b[39mpage_source\n\u001b[1;32m    123\u001b[0m parser \u001b[38;5;241m=\u001b[39m BeautifulSoup(src, \u001b[38;5;124m\"\u001b[39m\u001b[38;5;124mlxml\u001b[39m\u001b[38;5;124m\"\u001b[39m)\n",
      "File \u001b[0;32m~/anaconda3/envs/lo-env/lib/python3.12/site-packages/selenium/webdriver/support/wait.py:105\u001b[0m, in \u001b[0;36mWebDriverWait.until\u001b[0;34m(self, method, message)\u001b[0m\n\u001b[1;32m    103\u001b[0m     \u001b[38;5;28;01mif\u001b[39;00m time\u001b[38;5;241m.\u001b[39mmonotonic() \u001b[38;5;241m>\u001b[39m end_time:\n\u001b[1;32m    104\u001b[0m         \u001b[38;5;28;01mbreak\u001b[39;00m\n\u001b[0;32m--> 105\u001b[0m \u001b[38;5;28;01mraise\u001b[39;00m TimeoutException(message, screen, stacktrace)\n",
      "\u001b[0;31mTimeoutException\u001b[0m: Message: \nStacktrace:\n0   chromedriver                        0x00000001010727dc chromedriver + 4040668\n1   chromedriver                        0x000000010106a9e0 chromedriver + 4008416\n2   chromedriver                        0x0000000100cdd870 chromedriver + 284784\n3   chromedriver                        0x0000000100d21080 chromedriver + 561280\n4   chromedriver                        0x0000000100d5b048 chromedriver + 798792\n5   chromedriver                        0x0000000100d1574c chromedriver + 513868\n6   chromedriver                        0x0000000100d16044 chromedriver + 516164\n7   chromedriver                        0x0000000101037a04 chromedriver + 3799556\n8   chromedriver                        0x000000010103bee4 chromedriver + 3817188\n9   chromedriver                        0x0000000101020260 chromedriver + 3703392\n10  chromedriver                        0x000000010103ca2c chromedriver + 3820076\n11  chromedriver                        0x000000010101301c chromedriver + 3649564\n12  chromedriver                        0x0000000101059e3c chromedriver + 3939900\n13  chromedriver                        0x0000000101059fb4 chromedriver + 3940276\n14  chromedriver                        0x000000010106a660 chromedriver + 4007520\n15  libsystem_pthread.dylib             0x000000018c32a034 _pthread_start + 136\n16  libsystem_pthread.dylib             0x000000018c324e3c thread_start + 8\n"
     ]
    }
   ],
   "source": [
    "# from players import players\n",
    "\n",
    "import requests\n",
    "from selenium import webdriver\n",
    "from selenium.webdriver.support.ui import Select\n",
    "from selenium.webdriver.support.ui import WebDriverWait\n",
    "from selenium.webdriver.support import expected_conditions as EC\n",
    "from selenium.webdriver.common.by import By\n",
    "from bs4 import BeautifulSoup\n",
    "from selenium.webdriver.chrome.service import Service\n",
    "from webdriver_manager.chrome import ChromeDriverManager\n",
    "import pandas as pd\n",
    "\n",
    "\n",
    "payload = {}\n",
    "headers = {\n",
    "  'User-Agent': 'Mozilla/5.0 (Macintosh; Intel Mac OS X 10.15; rv:122.0) Gecko/20100101 Firefox/122.0',\n",
    "  'Accept': '*/*',\n",
    "  'Accept-Language': 'en-US,en;q=0.5',\n",
    "  'Accept-Encoding': 'gzip, deflate, br',\n",
    "  'X-Requested-With': 'XMLHttpRequest',\n",
    "  'Connection': 'keep-alive',\n",
    "  'Referer': 'https://baseballsavant.mlb.com/savant-player/alek-thomas-677950?stats=statcast-r-hitting-mlb',\n",
    "  'Cookie': '__cflb=02DiuJFcgbX2zpcHdRurfpjkBTD5BPySo6gPFqPfkQ556; AMCV_A65F776A5245B01B0A490D44%40AdobeOrg=1099438348%7CMCIDTS%7C19755%7CMCMID%7C08223760795725670020171971273569729942%7CMCAAMLH-1707411436%7C7%7CMCAAMB-1707411436%7C6G1ynYcLPuiQxYZrsz_pkqfLG9yMXBpb2zX5dvJdYQJzPXImdj0y%7CMCOPTOUT-1706813836s%7CNONE%7CMCAID%7CNONE%7CMCSYNCSOP%7C411-19762%7CvVersion%7C2.1.0; s_cc=true; s_sq=%5B%5BB%5D%5D; AMCVS_A65F776A5245B01B0A490D44%40AdobeOrg=1; s_vi=[CS]v1|32DDE6B6150B13BF-40000A6BE1F97D36[CE]; s_ecid=MCMID%7C08223760795725670020171971273569729942; _dd_s=rum=0&expire=1706807948264',\n",
    "  'Sec-Fetch-Dest': 'empty',\n",
    "  'Sec-Fetch-Mode': 'cors',\n",
    "  'Sec-Fetch-Site': 'same-origin',\n",
    "  'TE': 'trailers'\n",
    "}\n",
    "\n",
    "handedness =['R', 'L']\n",
    "pitcher_headerlist = []\n",
    "hitter_headerlist = []\n",
    "player_stats = []\n",
    "pitcher_stats = []\n",
    "players = [['dbacks', 'Cristian Mena', 'cristian-mena-691441', 'Pitcher']]\n",
    "\n",
    "# Proxy configuration\n",
    "PROXY = \"127.0.0.1:24000\"\n",
    "# Path to chromedriver executable\n",
    "PATH = \"/opt/homebrew/Caskroom/chromedriver/121.0.6167.85/chromedriver-mac-arm64/chromedriver\"\n",
    "\n",
    "chrome_options = webdriver.ChromeOptions()\n",
    "chrome_options.add_argument('--proxy-server=%s' % PROXY)\n",
    "\n",
    "timeout = 25\n",
    "\n",
    "driver = webdriver.Chrome(service=Service(ChromeDriverManager().install()), options=chrome_options)\n",
    "\n",
    "# pitcher function\n",
    "def missing_stats(pitches_less, pitches_more, pitches_less_stats):  \n",
    "    pitches_needed = []\n",
    "    for row in pitches_more:\n",
    "        yearPitch = row.findAll('td')[0].getText().strip() + row.findAll('td')[1].getText().strip()\n",
    "        pitches_needed.append(yearPitch)\n",
    "    \n",
    "    pitches_got = []\n",
    "    for row in pitches_less:\n",
    "        yearPitch = row.findAll('td')[0].getText().strip() + row.findAll('td')[1].getText().strip()\n",
    "        pitches_got.append(yearPitch)\n",
    "\n",
    "    missing_pitch = []\n",
    "    for pitch in pitches_needed:\n",
    "        if pitch not in pitches_got:\n",
    "            missing_pitch.append(pitch)\n",
    "\n",
    "    missing_pitch_arr = []\n",
    "    for pitch in missing_pitch:\n",
    "        missing_pitch_arr.append(pitch[:4])\n",
    "        missing_pitch_arr.append(pitch[4:])   \n",
    "\n",
    "    for stat in pitches_less[2:]:\n",
    "        missing_pitch_arr.append('') # appends empty string for value to keep the correct amount of cols\n",
    "    \n",
    "    for pitch in missing_pitch_arr:\n",
    "        pitches_less_stats.append(pitch) # appends missing pitch\n",
    "\n",
    "def largest_pitch_count():\n",
    "    pitch_count = []\n",
    "    pitch_count.append(pitchMovementRows)\n",
    "    pitch_count.append(pitchTrackingRows)\n",
    "    pitch_count.append(runValuesRows)\n",
    "    pitch_count.append(spinDirectionRows)\n",
    "    return max(pitch_count, key=len)\n",
    "\n",
    "\n",
    "for player in players:\n",
    "    if player[-1] != \"Pitcher\":    \n",
    "        for hand in handedness:\n",
    "            url = f\"https://baseballsavant.mlb.com/player-services/statcast-pitches-breakdown?playerId={player[2].split('-')[-1]}&position=8&hand={hand}&pitchBreakdown=pitches&timeFrame=yearly&season=&pitchType=&count=&updatePitches=true\"\n",
    "\n",
    "            r = requests.get(url, headers=headers)\n",
    "\n",
    "            parser = BeautifulSoup(r.content, \"html.parser\")\n",
    "            table = parser.find(id=\"detailedPitches\")\n",
    "\n",
    "            headersTH = table.find_all('th')\n",
    "            hitter_headerlist = [h.text.strip() for h in headersTH[:]]\n",
    "            hitter_headerlist.insert(0, \"Name\")\n",
    "            hitter_headerlist.insert(2, \"Team\")\n",
    "            hitter_headerlist.insert(3, \"Hand\") \n",
    "    \n",
    "            rows = table.findAll('tr')[1:]\n",
    "    \n",
    "            for i in range(len(rows)):\n",
    "                row_cells = []\n",
    "                for td in rows[i].findAll('td'):\n",
    "                    row_cells.append(td.getText().strip())\n",
    "                row_cells.insert(0, player[1])\n",
    "                row_cells.insert(2, player[0])\n",
    "                row_cells.insert(3, hand)\n",
    "                player_stats.append(row_cells)\n",
    "    else:\n",
    "        \n",
    "\n",
    "        url = f\"https://baseballsavant.mlb.com/savant-player/{player[2]}?stats=statcast-r-pitching-mlb\"\n",
    "        driver.get(url)\n",
    "\n",
    "        detailedPitches_present = EC.presence_of_element_located((By.XPATH, r'//*[@id=\"detailedPitches\"]/tbody/tr[1]/td[2]/span'))\n",
    "        WebDriverWait(driver, timeout).until(detailedPitches_present)\n",
    "\n",
    "        src = driver.page_source\n",
    "        parser = BeautifulSoup(src, \"lxml\")\n",
    "\n",
    "        pitchMovement = parser.find(\"table\", attrs = {\"id\": \"pitchMovement\"})\n",
    "        pitchTracking = parser.find(\"table\", attrs = {\"id\": \"detailedPitches\"})\n",
    "        runValues = parser.find(\"table\", attrs = {\"id\": \"runValues\"})\n",
    "        spinDirection = parser.find(\"table\", attrs = {\"id\": \"spinAxis\"})\n",
    "    \n",
    "        if not pitcher_headerlist:\n",
    "            pitchMovementHeaders = pitchMovement.findAll('th')\n",
    "            pitchMovementHeadersList = [h.text.strip() for h in pitchMovementHeaders[:]]\n",
    "\n",
    "            pitchTrackingHeaders = pitchTracking.findAll('th')\n",
    "            pitchTrackingHeadersList = [h.text.strip() for h in pitchTrackingHeaders[:]]\n",
    "\n",
    "            runValuesHeaders = runValues.findAll('th')\n",
    "            runValuesHeadersList = [h.text.strip() for h in runValuesHeaders[:]]\n",
    "\n",
    "            spinDirectionHeaders = spinDirection.findAll('th')\n",
    "            spinDirectionHeadersList = [h.text.strip() for h in spinDirectionHeaders[:]]\n",
    "    \n",
    "            pitchMovementHeadersList_2 = pitchMovementHeadersList[2:]\n",
    "            pitchMovementHeadersList_2[0] = 'Name'\n",
    "            pitcher_headerlist.extend(pitchMovementHeadersList_2)\n",
    "            pitcher_headerlist.extend(pitchTrackingHeadersList[3:])\n",
    "            pitcher_headerlist.extend(runValuesHeadersList[3:])\n",
    "            pitcher_headerlist.extend(spinDirectionHeadersList[3:])\n",
    "\n",
    "        pitchMovementRows = pitchMovement.findAll('tr')[2:]\n",
    "        pitchTrackingRows = pitchTracking.findAll('tr')[1:]\n",
    "        runValuesRows = runValues.findAll('tr')[1:]\n",
    "        spinDirectionRows = spinDirection.findAll('tr')[1:]\n",
    "    \n",
    "        pitchMovement_stats = []\n",
    "        pitchTracking_stats = []\n",
    "        runValues_stats = []\n",
    "        spinDirection_stats = []\n",
    "\n",
    "        for i in range(len(pitchMovementRows)):\n",
    "            row_cells = []\n",
    "            for td in pitchMovementRows[i].findAll('td'):\n",
    "                row_cells.append(td.getText().strip())\n",
    "            pitchMovement_stats.append(row_cells)\n",
    "\n",
    "        for i in range(len(pitchTrackingRows)):\n",
    "            row_cells = []\n",
    "            for td in pitchTrackingRows[i].findAll('td'):\n",
    "                row_cells.append(td.getText().strip())\n",
    "            pitchTracking_stats.append(row_cells)\n",
    "\n",
    "        for i in range(len(runValuesRows)):\n",
    "            row_cells = []\n",
    "            for td in runValuesRows[i].findAll('td'):\n",
    "                row_cells.append(td.getText().strip())\n",
    "            runValues_stats.append(row_cells)\n",
    "\n",
    "        for i in range(len(spinDirectionRows)):\n",
    "            row_cells = []\n",
    "            for td in spinDirectionRows[i].findAll('td'):\n",
    "                row_cells.append(td.getText().strip())\n",
    "            spinDirection_stats.append(row_cells)\n",
    "\n",
    "        if (len(largest_pitch_count()) > len(spinDirectionRows)):\n",
    "            missing_stats(spinDirectionRows, largest_pitch_count(), spinDirection_stats)\n",
    "        if (len(largest_pitch_count()) > len(pitchTrackingRows)):\n",
    "            missing_stats(pitchTrackingRows, largest_pitch_count(), pitchTracking_stats)   \n",
    "        if (len(largest_pitch_count()) > len(runValuesRows)):\n",
    "            missing_stats(runValuesRows, largest_pitch_count(), runValues_stats)\n",
    "        if (len(largest_pitch_count()) > len(pitchMovementRows)):\n",
    "            missing_stats(pitchMovementRows, largest_pitch_count(), pitchMovement_stats) \n",
    "            \n",
    "\n",
    "        for i in range(len(pitchMovement_stats)):\n",
    "            for pitch in pitchMovement_stats:\n",
    "                if pitch[1] == pitchTracking_stats[i][1] and pitch[0] == pitchTracking_stats[i][0]:\n",
    "                    pitch.extend(pitchTracking_stats[i][3:])\n",
    "\n",
    "        for i in range(len(pitchMovement_stats)):\n",
    "            for pitch in pitchMovement_stats:\n",
    "                if pitch[1] == runValues_stats[i][1] and pitch[0] == runValues_stats[i][0]:\n",
    "                    pitch.extend(runValues_stats[i][3:])\n",
    "\n",
    "        for i in range(len(pitchMovement_stats)):\n",
    "            for pitch in pitchMovement_stats:\n",
    "                if pitch[1] == spinDirection_stats[i][1] and pitch[0] == spinDirection_stats[i][0]:\n",
    "                    pitch.extend(spinDirection_stats[i][3:])\n",
    "    \n",
    "        for pitch in pitchMovement_stats: \n",
    "            pitch.insert(0, player[1])\n",
    "            pitcher_stats.append(pitch)\n",
    "\n",
    "driver.quit()\n",
    "\n",
    "pitchers_df = pd.DataFrame(pitcher_stats, columns=pitcher_headerlist)\n",
    "hitters_df = pd.DataFrame(player_stats, columns=hitter_headerlist)\n",
    "\n",
    "print(pitchers_df)\n",
    "print(hitters_df)"
   ]
  },
  {
   "cell_type": "code",
   "execution_count": 4,
   "id": "c64724dc-6a99-4bc6-af9c-29c83a5ca1be",
   "metadata": {},
   "outputs": [],
   "source": [
    "driver.quit()"
   ]
  },
  {
   "cell_type": "code",
   "execution_count": 2,
   "id": "b7233e60-8f4a-4d48-a8df-926b50ebfddd",
   "metadata": {},
   "outputs": [
    {
     "ename": "NameError",
     "evalue": "name 'parser' is not defined",
     "output_type": "error",
     "traceback": [
      "\u001b[0;31m---------------------------------------------------------------------------\u001b[0m",
      "\u001b[0;31mNameError\u001b[0m                                 Traceback (most recent call last)",
      "Cell \u001b[0;32mIn[2], line 1\u001b[0m\n\u001b[0;32m----> 1\u001b[0m level \u001b[38;5;241m=\u001b[39m \u001b[43mparser\u001b[49m\u001b[38;5;241m.\u001b[39mfind(\u001b[38;5;124m\"\u001b[39m\u001b[38;5;124mdiv\u001b[39m\u001b[38;5;124m\"\u001b[39m, attrs \u001b[38;5;241m=\u001b[39m {\u001b[38;5;124m\"\u001b[39m\u001b[38;5;124mid\u001b[39m\u001b[38;5;124m\"\u001b[39m: \u001b[38;5;124m\"\u001b[39m\u001b[38;5;124mmlb_career\u001b[39m\u001b[38;5;124m\"\u001b[39m})\n",
      "\u001b[0;31mNameError\u001b[0m: name 'parser' is not defined"
     ]
    }
   ],
   "source": [
    "level = parser.find(\"div\", attrs = {\"id\": \"mlb_career\"})"
   ]
  },
  {
   "cell_type": "code",
   "execution_count": 3,
   "id": "890a5b99-6258-4327-9665-4a70c81120d4",
   "metadata": {},
   "outputs": [
    {
     "ename": "NameError",
     "evalue": "name 'level' is not defined",
     "output_type": "error",
     "traceback": [
      "\u001b[0;31m---------------------------------------------------------------------------\u001b[0m",
      "\u001b[0;31mNameError\u001b[0m                                 Traceback (most recent call last)",
      "Cell \u001b[0;32mIn[3], line 1\u001b[0m\n\u001b[0;32m----> 1\u001b[0m \u001b[43mlevel\u001b[49m\n",
      "\u001b[0;31mNameError\u001b[0m: name 'level' is not defined"
     ]
    }
   ],
   "source": [
    "level"
   ]
  }
 ],
 "metadata": {
  "kernelspec": {
   "display_name": "Python 3 (ipykernel)",
   "language": "python",
   "name": "python3"
  },
  "language_info": {
   "codemirror_mode": {
    "name": "ipython",
    "version": 3
   },
   "file_extension": ".py",
   "mimetype": "text/x-python",
   "name": "python",
   "nbconvert_exporter": "python",
   "pygments_lexer": "ipython3",
   "version": "3.12.0"
  }
 },
 "nbformat": 4,
 "nbformat_minor": 5
}
