{
 "cells": [
  {
   "cell_type": "code",
   "execution_count": null,
   "id": "cd51cb0d-772d-406b-b85f-cf37e372061c",
   "metadata": {},
   "outputs": [],
   "source": [
    "from selenium import webdriver\n",
    "from selenium.webdriver.support.ui import Select\n",
    "from selenium.webdriver.support.ui import WebDriverWait\n",
    "from selenium.webdriver.support import expected_conditions as EC\n",
    "from selenium.webdriver.common.by import By\n",
    "from bs4 import BeautifulSoup\n",
    "from selenium.webdriver.chrome.service import Service\n",
    "from webdriver_manager.chrome import ChromeDriverManager\n",
    "import pandas as pd\n",
    "\n",
    "# Proxy configuration\n",
    "PROXY = \"127.0.0.1:24000\"\n",
    "# Path to chromedriver executable\n",
    "PATH = \"/opt/homebrew/Caskroom/chromedriver/121.0.6167.85/chromedriver-mac-arm64/chromedriver\"\n",
    "\n",
    "chrome_options = webdriver.ChromeOptions()\n",
    "chrome_options.add_argument('--proxy-server=%s' % PROXY)\n",
    "\n",
    "# player_ids = ['677950', '572233', '682998', '666150', '656896', '553993', '672515', '672695', '607054', '664983', '645444', '606466', '666971', '656976', '592626']\n",
    "timeout = 25\n",
    "# mlb_seasons = ['2023', '2022', '2021']\n",
    "player_ids = [['dbacks', 'Alek Thomas', 'alek-thomas-677950']]\n"
   ]
  },
  {
   "cell_type": "code",
   "execution_count": null,
   "id": "682db800-4a45-41dc-8f1c-6c694d39fcdd",
   "metadata": {},
   "outputs": [],
   "source": [
    "driver = webdriver.Chrome(service=Service(ChromeDriverManager().install()), options=chrome_options)"
   ]
  },
  {
   "cell_type": "code",
   "execution_count": null,
   "id": "51254977-9fee-4b7c-99dc-f16cd24c4e9e",
   "metadata": {},
   "outputs": [],
   "source": [
    "url = f\"https://baseballsavant.mlb.com/savant-player/alek-thomas-677950?stats=statcast-r-hitting-mlb\"\n",
    "driver.get(url)\n",
    "\n",
    "pitches = Select(driver.find_element(By.XPATH, r'//*[@id=\"pitchChartBreakdown\"]'))\n",
    "pitches.select_by_index(0)\n",
    "\n",
    "handedness = Select(driver.find_element(By.XPATH, r'//*[@id=\"pitchChartHandedness\"]'))\n",
    "handedness.select_by_index(1)\n",
    "\n",
    "headers_present = EC.visibility_of_element_located((By.XPATH, r'//*[@id=\"detailedPitches\"]/tbody/tr[1]/td[2]/span'))\n",
    "WebDriverWait(driver, timeout).until(headers_present)\n",
    "\n",
    "src = driver.page_source\n",
    "parser = BeautifulSoup(src, \"lxml\")\n",
    "table = parser.find(\"div\", attrs = {\"id\": \"pitchTable\"})\n",
    "\n",
    "headers = table.findAll('th')\n",
    "headerlist = [h.text.strip() for h in headers[:]]\n",
    "headerlist.insert(0, \"Name\")\n",
    "headerlist.insert(2, \"Team\")\n"
   ]
  },
  {
   "cell_type": "code",
   "execution_count": null,
   "id": "721b69c3-f5b5-4b91-a48d-fdd101758e2d",
   "metadata": {},
   "outputs": [],
   "source": [
    "headerlist "
   ]
  },
  {
   "cell_type": "code",
   "execution_count": null,
   "id": "e9e2d426-fe53-4a31-b3fc-3ced412596c0",
   "metadata": {},
   "outputs": [],
   "source": [
    "for player in player_ids:\n",
    "    url = f\"https://baseballsavant.mlb.com/savant-player/{player[-1]}?stats=statcast-r-hitting-mlb\"\n",
    "    driver.get(url)\n",
    "\n",
    "    pitches = Select(driver.find_element(By.XPATH, r'//*[@id=\"pitchChartBreakdown\"]'))\n",
    "    pitches.select_by_index(0)\n",
    "\n",
    "    handedness = Select(driver.find_element(By.XPATH, r'//*[@id=\"pitchChartHandedness\"]'))\n",
    "\n",
    "    for hand in range(1, len(handedness.options)):\n",
    "        handedness.select_by_index(hand)\n",
    "        \n",
    "        first_row_present = EC.visibility_of_element_located((By.XPATH, r'//*[@id=\"detailedPitches\"]'))\n",
    "        WebDriverWait(driver, timeout).until(first_row_present)\n",
    "\n",
    "        src = driver.page_source\n",
    "        parser = BeautifulSoup(src, \"lxml\")\n",
    "        table = parser.find(\"div\", attrs = {\"id\": \"pitchTable\"})\n",
    "    \n",
    "        rows = table.findAll('tr')[1:]\n",
    "    \n",
    "        player_stats = []\n",
    "        for i in range(len(rows)):\n",
    "            row_cells = []\n",
    "            for td in rows[i].findAll('td'):\n",
    "                row_cells.append(td.getText().strip())\n",
    "            row_cells.insert(0, player[1])\n",
    "            row_cells.insert(2, player[0])\n",
    "            player_stats.append(row_cells)\n",
    "    "
   ]
  },
  {
   "cell_type": "code",
   "execution_count": null,
   "id": "29ab99ca-a6b4-4ed0-85c5-efe6e40ee61b",
   "metadata": {},
   "outputs": [],
   "source": [
    "driver.quit()"
   ]
  },
  {
   "cell_type": "code",
   "execution_count": null,
   "id": "a278ffba-4ded-411a-9916-358b143adb32",
   "metadata": {},
   "outputs": [],
   "source": [
    "player_stats"
   ]
  },
  {
   "cell_type": "code",
   "execution_count": null,
   "id": "3153a458-8403-43b3-9382-1fcde78d0308",
   "metadata": {},
   "outputs": [],
   "source": [
    "rows"
   ]
  },
  {
   "cell_type": "code",
   "execution_count": null,
   "id": "35ada7f5-95ea-464c-bfb7-1559af630571",
   "metadata": {},
   "outputs": [],
   "source": [
    "df = pd.DataFrame(player_stats, columns=headerlist)"
   ]
  },
  {
   "cell_type": "code",
   "execution_count": null,
   "id": "199b196e-9ff1-42b5-ac88-7df7adc43458",
   "metadata": {},
   "outputs": [],
   "source": [
    "df"
   ]
  },
  {
   "cell_type": "code",
   "execution_count": null,
   "id": "ddfb4798-7d46-4e5a-92b4-0b103289ac73",
   "metadata": {},
   "outputs": [],
   "source": []
  },
  {
   "cell_type": "code",
   "execution_count": null,
   "id": "c18a19a0-908f-4945-948a-e95f3b183fed",
   "metadata": {},
   "outputs": [],
   "source": []
  },
  {
   "cell_type": "code",
   "execution_count": null,
   "id": "b56ec528-a2ef-42f3-b99e-16743f3173fe",
   "metadata": {},
   "outputs": [],
   "source": [
    "import requests\n",
    "from bs4 import BeautifulSoup\n",
    "import pandas as pd\n",
    "\n",
    "\n",
    "payload = {}\n",
    "headers = {\n",
    "  'User-Agent': 'Mozilla/5.0 (Macintosh; Intel Mac OS X 10.15; rv:122.0) Gecko/20100101 Firefox/122.0',\n",
    "  'Accept': '*/*',\n",
    "  'Accept-Language': 'en-US,en;q=0.5',\n",
    "  'Accept-Encoding': 'gzip, deflate, br',\n",
    "  'X-Requested-With': 'XMLHttpRequest',\n",
    "  'Connection': 'keep-alive',\n",
    "  'Referer': 'https://baseballsavant.mlb.com/savant-player/alek-thomas-677950?stats=statcast-r-hitting-mlb',\n",
    "  'Cookie': '__cflb=02DiuJFcgbX2zpcHdRurfpjkBTD5BPySo6gPFqPfkQ556; AMCV_A65F776A5245B01B0A490D44%40AdobeOrg=1099438348%7CMCIDTS%7C19755%7CMCMID%7C08223760795725670020171971273569729942%7CMCAAMLH-1707411436%7C7%7CMCAAMB-1707411436%7C6G1ynYcLPuiQxYZrsz_pkqfLG9yMXBpb2zX5dvJdYQJzPXImdj0y%7CMCOPTOUT-1706813836s%7CNONE%7CMCAID%7CNONE%7CMCSYNCSOP%7C411-19762%7CvVersion%7C2.1.0; s_cc=true; s_sq=%5B%5BB%5D%5D; AMCVS_A65F776A5245B01B0A490D44%40AdobeOrg=1; s_vi=[CS]v1|32DDE6B6150B13BF-40000A6BE1F97D36[CE]; s_ecid=MCMID%7C08223760795725670020171971273569729942; _dd_s=rum=0&expire=1706807948264',\n",
    "  'Sec-Fetch-Dest': 'empty',\n",
    "  'Sec-Fetch-Mode': 'cors',\n",
    "  'Sec-Fetch-Site': 'same-origin',\n",
    "  'TE': 'trailers'\n",
    "}\n",
    "\n",
    "\n",
    "players = [['dbacks', 'Alek Thomas', '677950']]\n",
    "handedness =['R', 'L']"
   ]
  },
  {
   "cell_type": "code",
   "execution_count": null,
   "id": "a8e1a760-2231-490b-9897-d641a066e819",
   "metadata": {},
   "outputs": [],
   "source": [
    "for player in players:\n",
    "    player_stats = []\n",
    "    for hand in handedness:\n",
    "        url = f\"https://baseballsavant.mlb.com/player-services/statcast-pitches-breakdown?playerId={player[-1]}&position=8&hand={hand}&pitchBreakdown=pitches&timeFrame=yearly&season=&pitchType=&count=&updatePitches=true\"\n",
    "\n",
    "        r = requests.get(url, headers=headers)\n",
    "\n",
    "        parser = BeautifulSoup(r.content, \"html.parser\")\n",
    "        table = parser.find(id=\"detailedPitches\")\n",
    "\n",
    "        headersTH = table.find_all('th')\n",
    "        headerlist = [h.text.strip() for h in headersTH[:]]\n",
    "        headerlist.insert(0, \"Name\")\n",
    "        headerlist.insert(2, \"Team\")\n",
    "        headerlist.insert(3, \"Hand\") \n",
    "    \n",
    "        rows = table.findAll('tr')[1:]\n",
    "    \n",
    "        for i in range(len(rows)):\n",
    "            row_cells = []\n",
    "            for td in rows[i].findAll('td'):\n",
    "                row_cells.append(td.getText().strip())\n",
    "            row_cells.insert(0, player[1])\n",
    "            row_cells.insert(2, player[0])\n",
    "            row_cells.insert(3, hand)\n",
    "            player_stats.append(row_cells)"
   ]
  },
  {
   "cell_type": "code",
   "execution_count": null,
   "id": "ca6537fe-e7c9-4eb7-a4d2-de590ec23abf",
   "metadata": {},
   "outputs": [],
   "source": []
  },
  {
   "cell_type": "code",
   "execution_count": null,
   "id": "7a36a04a-0560-449a-b359-e0010609b28d",
   "metadata": {},
   "outputs": [],
   "source": [
    "headerlist"
   ]
  },
  {
   "cell_type": "code",
   "execution_count": null,
   "id": "dc304683-1944-4755-b2fd-6206ace67920",
   "metadata": {},
   "outputs": [],
   "source": [
    "player_stats"
   ]
  },
  {
   "cell_type": "code",
   "execution_count": null,
   "id": "db6cbe22-e7d8-4206-9110-611e0b606443",
   "metadata": {},
   "outputs": [],
   "source": [
    "df = pd.DataFrame(player_stats, columns=headerlist)\n"
   ]
  },
  {
   "cell_type": "code",
   "execution_count": null,
   "id": "2e8bd17a-0565-4a72-a382-0c2a894e18dd",
   "metadata": {},
   "outputs": [],
   "source": [
    "df"
   ]
  },
  {
   "cell_type": "code",
   "execution_count": null,
   "id": "eef191ed-15c4-40ca-943c-ef8d179f9dbd",
   "metadata": {},
   "outputs": [],
   "source": []
  },
  {
   "cell_type": "code",
   "execution_count": null,
   "id": "e9d20a03-a88f-4fc9-bd60-5d6cf6e05374",
   "metadata": {},
   "outputs": [],
   "source": []
  },
  {
   "cell_type": "code",
   "execution_count": null,
   "id": "49bc0914-02f2-4484-9ace-a1142760c765",
   "metadata": {},
   "outputs": [],
   "source": []
  },
  {
   "cell_type": "code",
   "execution_count": 1,
   "id": "ca8c384f-1102-4383-897c-89c6ddb7aca4",
   "metadata": {},
   "outputs": [],
   "source": [
    "from selenium import webdriver\n",
    "from selenium.webdriver.support.ui import Select\n",
    "from selenium.webdriver.support.ui import WebDriverWait\n",
    "from selenium.webdriver.support import expected_conditions as EC\n",
    "from selenium.webdriver.common.by import By\n",
    "from bs4 import BeautifulSoup\n",
    "from selenium.webdriver.chrome.service import Service\n",
    "from webdriver_manager.chrome import ChromeDriverManager\n",
    "import pandas as pd\n",
    "\n",
    "# Proxy configuration\n",
    "PROXY = \"127.0.0.1:24000\"\n",
    "# Path to chromedriver executable\n",
    "PATH = \"/opt/homebrew/Caskroom/chromedriver/121.0.6167.85/chromedriver-mac-arm64/chromedriver\"\n",
    "\n",
    "chrome_options = webdriver.ChromeOptions()\n",
    "chrome_options.add_argument('--proxy-server=%s' % PROXY)\n",
    "\n",
    "timeout = 25\n",
    "\n",
    "handedness =['R', 'L']\n",
    "player_stats = []\n",
    "headerlist = []\n",
    "pitcher_stats = []\n",
    "players = [['dbacks', 'Ryne Nelson', 'ryne-nelson-669194', 'Pitcher']]\n",
    "driver = webdriver.Chrome(service=Service(ChromeDriverManager().install()), options=chrome_options)"
   ]
  },
  {
   "cell_type": "code",
   "execution_count": 2,
   "id": "a6a60b06-6455-4b13-ba5f-60735be8aa93",
   "metadata": {},
   "outputs": [
    {
     "ename": "IndexError",
     "evalue": "list index out of range",
     "output_type": "error",
     "traceback": [
      "\u001b[0;31m---------------------------------------------------------------------------\u001b[0m",
      "\u001b[0;31mIndexError\u001b[0m                                Traceback (most recent call last)",
      "Cell \u001b[0;32mIn[2], line 81\u001b[0m\n\u001b[1;32m     79\u001b[0m \u001b[38;5;28;01mfor\u001b[39;00m i \u001b[38;5;129;01min\u001b[39;00m \u001b[38;5;28mrange\u001b[39m(\u001b[38;5;28mlen\u001b[39m(pitchMovementRows)):\n\u001b[1;32m     80\u001b[0m     \u001b[38;5;28;01mfor\u001b[39;00m pitch \u001b[38;5;129;01min\u001b[39;00m pitchMovement_stats:\n\u001b[0;32m---> 81\u001b[0m         \u001b[38;5;28;01mif\u001b[39;00m pitch[\u001b[38;5;241m1\u001b[39m] \u001b[38;5;241m==\u001b[39m \u001b[43mspinDirectionRows_stats\u001b[49m\u001b[43m[\u001b[49m\u001b[43mi\u001b[49m\u001b[43m]\u001b[49m[\u001b[38;5;241m1\u001b[39m] \u001b[38;5;129;01mand\u001b[39;00m pitch[\u001b[38;5;241m0\u001b[39m] \u001b[38;5;241m==\u001b[39m spinDirectionRows_stats[\u001b[38;5;241m0\u001b[39m][\u001b[38;5;241m0\u001b[39m]:\n\u001b[1;32m     82\u001b[0m             pitch\u001b[38;5;241m.\u001b[39mextend(spinDirectionRows_stats[i][\u001b[38;5;241m3\u001b[39m:])\n\u001b[1;32m     84\u001b[0m \u001b[38;5;28;01mfor\u001b[39;00m pitch \u001b[38;5;129;01min\u001b[39;00m pitchMovement_stats: \n",
      "\u001b[0;31mIndexError\u001b[0m: list index out of range"
     ]
    }
   ],
   "source": [
    "for player in players:\n",
    "    url = f\"https://baseballsavant.mlb.com/savant-player/{player[2]}?stats=statcast-r-pitching-mlb\"\n",
    "    driver.get(url)\n",
    "\n",
    "    detailedPitches_present = EC.visibility_of_element_located((By.XPATH, r'//*[@id=\"detailedPitches\"]/tbody/tr[1]/td[2]/span'))\n",
    "    WebDriverWait(driver, timeout).until(detailedPitches_present)\n",
    "\n",
    "    src = driver.page_source\n",
    "    parser = BeautifulSoup(src, \"lxml\")\n",
    "\n",
    "    pitchMovement = parser.find(\"table\", attrs = {\"id\": \"pitchMovement\"})\n",
    "    pitchTracking = parser.find(\"table\", attrs = {\"id\": \"detailedPitches\"})\n",
    "    runValues = parser.find(\"table\", attrs = {\"id\": \"runValues\"})\n",
    "    spinDirection = parser.find(\"table\", attrs = {\"id\": \"spinAxis\"})\n",
    "    \n",
    "    if not headerlist:\n",
    "        pitchMovementHeaders = pitchMovement.findAll('th')\n",
    "        pitchMovementHeadersList = [h.text.strip() for h in pitchMovementHeaders[:]]\n",
    "\n",
    "        pitchTrackingHeaders = pitchTracking.findAll('th')\n",
    "        pitchTrackingHeadersList = [h.text.strip() for h in pitchTrackingHeaders[:]]\n",
    "\n",
    "        runValuesHeaders = runValues.findAll('th')\n",
    "        runValuesHeadersList = [h.text.strip() for h in runValuesHeaders[:]]\n",
    "\n",
    "        spinDirectionHeaders = spinDirection.findAll('th')\n",
    "        spinDirectionHeadersList = [h.text.strip() for h in spinDirectionHeaders[:]]\n",
    "    \n",
    "        pitchMovementHeadersList_2 = pitchMovementHeadersList[2:]\n",
    "        pitchMovementHeadersList_2[0] = 'Name'\n",
    "        headerlist.extend(pitchMovementHeadersList_2)\n",
    "        headerlist.extend(pitchTrackingHeadersList[3:])\n",
    "        headerlist.extend(runValuesHeadersList[3:])\n",
    "        headerlist.extend(spinDirectionHeadersList[3:])\n",
    "\n",
    "    pitchMovementRows = pitchMovement.findAll('tr')[2:]\n",
    "    pitchTrackingRows = pitchTracking.findAll('tr')[1:]\n",
    "    runValuesRows = runValues.findAll('tr')[1:]\n",
    "    spinDirectionRows = spinDirection.findAll('tr')[1:]\n",
    "    \n",
    "    pitchMovement_stats = []\n",
    "    pitchTracking_stats = []\n",
    "    runValues_stats = []\n",
    "    spinDirectionRows_stats = []\n",
    "    for i in range(len(pitchMovementRows)):\n",
    "        row_cells = []\n",
    "        for td in pitchMovementRows[i].findAll('td'):\n",
    "            row_cells.append(td.getText().strip())\n",
    "        pitchMovement_stats.append(row_cells)\n",
    "\n",
    "    for i in range(len(pitchTrackingRows)):\n",
    "        row_cells = []\n",
    "        for td in pitchTrackingRows[i].findAll('td'):\n",
    "            row_cells.append(td.getText().strip())\n",
    "        pitchTracking_stats.append(row_cells)\n",
    "\n",
    "    for i in range(len(runValuesRows)):\n",
    "        row_cells = []\n",
    "        for td in runValuesRows[i].findAll('td'):\n",
    "            row_cells.append(td.getText().strip())\n",
    "        runValues_stats.append(row_cells)\n",
    "\n",
    "    for i in range(len(spinDirectionRows)):\n",
    "        row_cells = []\n",
    "        for td in spinDirectionRows[i].findAll('td'):\n",
    "            row_cells.append(td.getText().strip())\n",
    "        spinDirectionRows_stats.append(row_cells)\n",
    "\n",
    "    for i in range(len(pitchMovementRows)):\n",
    "        for pitch in pitchMovement_stats:\n",
    "            if pitch[1] == pitchTracking_stats[i][1] and pitch[0] == pitchTracking_stats[0][0]:\n",
    "                pitch.extend(pitchTracking_stats[i][3:])\n",
    "\n",
    "    for i in range(len(pitchMovementRows)):\n",
    "        for pitch in pitchMovement_stats:\n",
    "            if pitch[1] == runValues_stats[i][1] and pitch[0] == runValues_stats[0][0]:\n",
    "                pitch.extend(runValues_stats[i][3:])\n",
    "\n",
    "    for i in range(len(pitchMovementRows)):\n",
    "        for pitch in pitchMovement_stats:\n",
    "            if pitch[1] == spinDirectionRows_stats[i][1] and pitch[0] == spinDirectionRows_stats[0][0]:\n",
    "                pitch.extend(spinDirectionRows_stats[i][3:])\n",
    "    \n",
    "    for pitch in pitchMovement_stats: \n",
    "        pitch.insert(0, player[1])\n",
    "\n",
    "driver.quit()\n",
    "df = pd.DataFrame(pitchMovement_stats, columns=headerlist)"
   ]
  },
  {
   "cell_type": "code",
   "execution_count": 3,
   "id": "4136fc43-3766-492e-973a-c3ffb2bf14a3",
   "metadata": {},
   "outputs": [],
   "source": [
    "driver.quit()"
   ]
  },
  {
   "cell_type": "code",
   "execution_count": null,
   "id": "be082c5c-1568-4587-9b8d-726d17e53561",
   "metadata": {},
   "outputs": [],
   "source": [
    "for i in range(len(pitchMovementRows)):\n",
    "    for pitch in pitcher1_stats:\n",
    "        if pitch[1] == pitcher2_stats[i][1]:\n",
    "            pitch.extend(pitcher2_stats[i][3:])"
   ]
  },
  {
   "cell_type": "code",
   "execution_count": null,
   "id": "ba372ea9-094b-446e-843f-e3ad25add491",
   "metadata": {},
   "outputs": [],
   "source": [
    "for i in range(len(pitchMovementRows)):\n",
    "    for pitch in pitcher1_stats:\n",
    "        if pitch[1] == pitcher3_stats[i][1]:\n",
    "            pitch.extend(pitcher3_stats[i][3:])"
   ]
  },
  {
   "cell_type": "code",
   "execution_count": null,
   "id": "67f4e47d-d4ec-471b-a7d5-ce9b72ccb16b",
   "metadata": {},
   "outputs": [],
   "source": [
    "for i in range(len(pitchMovementRows)):\n",
    "    for pitch in pitcher1_stats:\n",
    "        if pitch[1] == pitcher4_stats[i][1]:\n",
    "            pitch.extend(pitcher4_stats[i][3:])"
   ]
  },
  {
   "cell_type": "code",
   "execution_count": null,
   "id": "87c85282-c4f5-421a-868f-3da39d0a8c73",
   "metadata": {},
   "outputs": [],
   "source": [
    "for pitch in pitcher1_stats[1:]: \n",
    "    pitch.insert(0, 'Brandon')"
   ]
  },
  {
   "cell_type": "code",
   "execution_count": null,
   "id": "5dde42b1-2f60-4c5c-8594-2033a793ee68",
   "metadata": {},
   "outputs": [],
   "source": [
    "pitcher1_stats"
   ]
  },
  {
   "cell_type": "code",
   "execution_count": null,
   "id": "a6853bc4-628a-4ed7-8c67-02e6e07709e2",
   "metadata": {},
   "outputs": [],
   "source": [
    "pitcherpp"
   ]
  },
  {
   "cell_type": "code",
   "execution_count": null,
   "id": "fd468c43-e49f-4cec-a45d-ebe82799e3e0",
   "metadata": {},
   "outputs": [],
   "source": [
    "df = pd.DataFrame(pitcher1_stats, columns=headerlist)"
   ]
  },
  {
   "cell_type": "code",
   "execution_count": null,
   "id": "720ae64e-4a5b-4008-8d94-dabdd30f4bc3",
   "metadata": {},
   "outputs": [],
   "source": [
    "df"
   ]
  },
  {
   "cell_type": "code",
   "execution_count": null,
   "id": "418abd84-1e42-4265-8e09-c6303f5f9eed",
   "metadata": {},
   "outputs": [],
   "source": []
  },
  {
   "cell_type": "code",
   "execution_count": null,
   "id": "bba5794b-3382-49b4-b52c-29d29385b132",
   "metadata": {},
   "outputs": [],
   "source": [
    "spinDirectionRows"
   ]
  },
  {
   "cell_type": "code",
   "execution_count": null,
   "id": "a80a12cb-23b9-4039-89e6-cd9399fd8522",
   "metadata": {},
   "outputs": [],
   "source": []
  },
  {
   "cell_type": "code",
   "execution_count": 4,
   "id": "3760275f-ddfa-40b5-ad87-a0c56493c6df",
   "metadata": {},
   "outputs": [],
   "source": [
    "spinDirection_stats = []\n",
    "for i in range(len(spinDirectionRows)):\n",
    "        row_cells = []\n",
    "        for td in spinDirectionRows[i].findAll('td'):\n",
    "            row_cells.append(td.getText().strip())\n",
    "        spinDirection_stats.append(row_cells)"
   ]
  },
  {
   "cell_type": "code",
   "execution_count": 5,
   "id": "23616c00-1375-48e0-a6ec-b76fd853632a",
   "metadata": {},
   "outputs": [
    {
     "data": {
      "text/plain": [
       "['20234-Seam Fastball',\n",
       " '2023Cutter',\n",
       " '2023Changeup',\n",
       " '2023Slider',\n",
       " '2023Curveball',\n",
       " '20224-Seam Fastball',\n",
       " '2022Curveball',\n",
       " '2022Slider',\n",
       " '2022Changeup',\n",
       " '2022Cutter']"
      ]
     },
     "execution_count": 5,
     "metadata": {},
     "output_type": "execute_result"
    }
   ],
   "source": [
    "pitches_needed = []\n",
    "for row in pitchTrackingRows:\n",
    "    yearPitch = row.findAll('td')[0].getText().strip() + row.findAll('td')[1].getText().strip()\n",
    "    pitches_needed.append(yearPitch)\n",
    "pitches_needed    "
   ]
  },
  {
   "cell_type": "code",
   "execution_count": 6,
   "id": "3f7e436b-4f8d-458f-8519-e805971a032b",
   "metadata": {},
   "outputs": [
    {
     "name": "stdout",
     "output_type": "stream",
     "text": [
      "2022Cutter\n"
     ]
    }
   ],
   "source": [
    "pitches_got = []\n",
    "for row in spinDirectionRows:\n",
    "    yearPitch = row.findAll('td')[0].getText().strip() + row.findAll('td')[1].getText().strip()\n",
    "    pitches_got.append(yearPitch)\n",
    "\n",
    "missing_pitch = []\n",
    "for pitch in pitches_needed:\n",
    "    if pitch not in pitches_got:\n",
    "        missing_pitch.append(pitch)\n"
   ]
  },
  {
   "cell_type": "code",
   "execution_count": 9,
   "id": "2db9412b-a668-4373-b5ec-14976fc59103",
   "metadata": {},
   "outputs": [
    {
     "data": {
      "text/plain": [
       "[['2023', 'Changeup', '312', '83.3', '99', '16.3', '2:00', '2:15', '-15'],\n",
       " ['2023', 'Curveball', '125', '76.5', '72', '15.6', '7:00', '7:00', '0'],\n",
       " ['2023', 'Cutter', '337', '85.5', '31', '5.3', '9:30', '8:45', '45'],\n",
       " ['2023',\n",
       "  '4-Seam Fastball',\n",
       "  '1,272',\n",
       "  '94.4',\n",
       "  '96',\n",
       "  '18.2',\n",
       "  '12:30',\n",
       "  '12:30',\n",
       "  '0'],\n",
       " ['2023', 'Slider', '288', '81.6', '51', '14.5', '8:00', '8:45', '-45'],\n",
       " ['2022', 'Changeup', '16', '81.8', '99', '17.9', '2:00', '1:45', '15'],\n",
       " ['2022', 'Curveball', '33', '76.9', '74', '15.5', '6:45', '6:45', '0'],\n",
       " ['2022',\n",
       "  '4-Seam Fastball',\n",
       "  '176',\n",
       "  '94.8',\n",
       "  '98',\n",
       "  '19.6',\n",
       "  '12:30',\n",
       "  '12:15',\n",
       "  '15'],\n",
       " ['2022', 'Slider', '26', '82.3', '48', '15.0', '7:45', '8:30', '-45']]"
      ]
     },
     "execution_count": 9,
     "metadata": {},
     "output_type": "execute_result"
    }
   ],
   "source": [
    "spinDirection_stats"
   ]
  },
  {
   "cell_type": "code",
   "execution_count": 8,
   "id": "4533ed0c-96cf-4d2d-a63e-9fa7ff65829c",
   "metadata": {},
   "outputs": [
    {
     "data": {
      "text/plain": [
       "['2023Changeup',\n",
       " '2023Curveball',\n",
       " '2023Cutter',\n",
       " '20234-Seam Fastball',\n",
       " '2023Slider',\n",
       " '2022Changeup',\n",
       " '2022Curveball',\n",
       " '20224-Seam Fastball',\n",
       " '2022Slider']"
      ]
     },
     "execution_count": 8,
     "metadata": {},
     "output_type": "execute_result"
    }
   ],
   "source": [
    "pitches_got"
   ]
  }
 ],
 "metadata": {
  "kernelspec": {
   "display_name": "Python 3 (ipykernel)",
   "language": "python",
   "name": "python3"
  },
  "language_info": {
   "codemirror_mode": {
    "name": "ipython",
    "version": 3
   },
   "file_extension": ".py",
   "mimetype": "text/x-python",
   "name": "python",
   "nbconvert_exporter": "python",
   "pygments_lexer": "ipython3",
   "version": "3.12.0"
  }
 },
 "nbformat": 4,
 "nbformat_minor": 5
}
