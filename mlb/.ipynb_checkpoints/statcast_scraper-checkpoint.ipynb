{
 "cells": [
  {
   "cell_type": "code",
   "execution_count": 8,
   "id": "79027eed-fb31-4348-9c30-ec692237d505",
   "metadata": {},
   "outputs": [],
   "source": [
    "from selenium import webdriver\n",
    "from selenium.webdriver.support.ui import Select\n",
    "from selenium.webdriver.support.ui import WebDriverWait\n",
    "from selenium.webdriver.support import expected_conditions as EC\n",
    "from selenium.webdriver.common.by import By\n",
    "from bs4 import BeautifulSoup\n",
    "import pandas as pd\n",
    "player_ids = []"
   ]
  },
  {
   "cell_type": "code",
   "execution_count": 9,
   "id": "4941f0ca-5cbb-4845-87e3-d52bbfd49936",
   "metadata": {},
   "outputs": [],
   "source": [
    "driver = webdriver.Firefox()"
   ]
  },
  {
   "cell_type": "code",
   "execution_count": 10,
   "id": "85b85a57-2586-408c-a668-490e03bd5e22",
   "metadata": {},
   "outputs": [],
   "source": [
    "url = r\"https://baseballsavant.mlb.com/visuals/statcast-pitch-highlighter?playerId=660670&type=&batHand=&pitchHand=&pitchType=&year=2023&zone=\""
   ]
  },
  {
   "cell_type": "code",
   "execution_count": 11,
   "id": "20fc5b79-037a-45cb-afb0-95fb1c114e69",
   "metadata": {},
   "outputs": [],
   "source": [
    "driver.get(url)"
   ]
  },
  {
   "cell_type": "code",
   "execution_count": 12,
   "id": "6ec4dbca-a7e3-41cd-a927-9e821d7ce8cb",
   "metadata": {},
   "outputs": [],
   "source": [
    "select = Select(driver.find_element(By.XPATH,r\"/html/body/div[2]/div/div/div[3]/div[1]/form/div[4]/div/select\"))"
   ]
  },
  {
   "cell_type": "code",
   "execution_count": 15,
   "id": "04fcf4aa-3945-4102-b29a-1637b44004bc",
   "metadata": {},
   "outputs": [],
   "source": [
    "select.select_by_index(0)"
   ]
  },
  {
   "cell_type": "code",
   "execution_count": null,
   "id": "f92b5123-53bb-4250-b10d-96f48f1f6e6f",
   "metadata": {},
   "outputs": [],
   "source": []
  }
 ],
 "metadata": {
  "kernelspec": {
   "display_name": "Python 3 (ipykernel)",
   "language": "python",
   "name": "python3"
  },
  "language_info": {
   "codemirror_mode": {
    "name": "ipython",
    "version": 3
   },
   "file_extension": ".py",
   "mimetype": "text/x-python",
   "name": "python",
   "nbconvert_exporter": "python",
   "pygments_lexer": "ipython3",
   "version": "3.12.0"
  }
 },
 "nbformat": 4,
 "nbformat_minor": 5
}
