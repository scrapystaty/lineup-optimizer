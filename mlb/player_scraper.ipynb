{
 "cells": [
  {
   "cell_type": "code",
   "execution_count": null,
   "id": "cd51cb0d-772d-406b-b85f-cf37e372061c",
   "metadata": {},
   "outputs": [],
   "source": [
    "from selenium import webdriver\n",
    "from selenium.webdriver.support.ui import Select\n",
    "from selenium.webdriver.support.ui import WebDriverWait\n",
    "from selenium.webdriver.support import expected_conditions as EC\n",
    "from selenium.webdriver.common.by import By\n",
    "from bs4 import BeautifulSoup\n",
    "from selenium.webdriver.chrome.service import Service\n",
    "from webdriver_manager.chrome import ChromeDriverManager\n",
    "import pandas as pd\n",
    "\n",
    "# Proxy configuration\n",
    "PROXY = \"127.0.0.1:24000\"\n",
    "# Path to chromedriver executable\n",
    "PATH = \"/opt/homebrew/Caskroom/chromedriver/121.0.6167.85/chromedriver-mac-arm64/chromedriver\"\n",
    "\n",
    "chrome_options = webdriver.ChromeOptions()\n",
    "chrome_options.add_argument('--proxy-server=%s' % PROXY)\n",
    "\n",
    "# player_ids = ['677950', '572233', '682998', '666150', '656896', '553993', '672515', '672695', '607054', '664983', '645444', '606466', '666971', '656976', '592626']\n",
    "timeout = 25\n",
    "# mlb_seasons = ['2023', '2022', '2021']\n",
    "player_ids = [['dbacks', 'Alek Thomas', 'alek-thomas-677950'], ['dbacks', 'Ryne Nelson', 'href=\"/player/694297\", 'Pitcher']]\n"
   ]
  },
  {
   "cell_type": "code",
   "execution_count": null,
   "id": "682db800-4a45-41dc-8f1c-6c694d39fcdd",
   "metadata": {},
   "outputs": [],
   "source": [
    "driver = webdriver.Chrome(service=Service(ChromeDriverManager().install()), options=chrome_options)"
   ]
  },
  {
   "cell_type": "code",
   "execution_count": null,
   "id": "51254977-9fee-4b7c-99dc-f16cd24c4e9e",
   "metadata": {},
   "outputs": [],
   "source": [
    "url = f\"https://baseballsavant.mlb.com/savant-player/alek-thomas-677950?stats=statcast-r-hitting-mlb\"\n",
    "driver.get(url)\n",
    "\n",
    "pitches = Select(driver.find_element(By.XPATH, r'//*[@id=\"pitchChartBreakdown\"]'))\n",
    "pitches.select_by_index(0)\n",
    "\n",
    "handedness = Select(driver.find_element(By.XPATH, r'//*[@id=\"pitchChartHandedness\"]'))\n",
    "handedness.select_by_index(1)\n",
    "\n",
    "headers_present = EC.visibility_of_element_located((By.XPATH, r'//*[@id=\"detailedPitches\"]/tbody/tr[1]/td[2]/span'))\n",
    "WebDriverWait(driver, timeout).until(headers_present)\n",
    "\n",
    "src = driver.page_source\n",
    "parser = BeautifulSoup(src, \"lxml\")\n",
    "table = parser.find(\"div\", attrs = {\"id\": \"pitchTable\"})\n",
    "\n",
    "headers = table.findAll('th')\n",
    "headerlist = [h.text.strip() for h in headers[:]]\n",
    "headerlist.insert(0, \"Name\")\n",
    "headerlist.insert(2, \"Team\")\n"
   ]
  },
  {
   "cell_type": "code",
   "execution_count": null,
   "id": "721b69c3-f5b5-4b91-a48d-fdd101758e2d",
   "metadata": {},
   "outputs": [],
   "source": [
    "headerlist "
   ]
  },
  {
   "cell_type": "code",
   "execution_count": null,
   "id": "e9e2d426-fe53-4a31-b3fc-3ced412596c0",
   "metadata": {},
   "outputs": [],
   "source": [
    "for player in player_ids:\n",
    "    url = f\"https://baseballsavant.mlb.com/savant-player/{player[-1]}?stats=statcast-r-hitting-mlb\"\n",
    "    driver.get(url)\n",
    "\n",
    "    pitches = Select(driver.find_element(By.XPATH, r'//*[@id=\"pitchChartBreakdown\"]'))\n",
    "    pitches.select_by_index(0)\n",
    "\n",
    "    handedness = Select(driver.find_element(By.XPATH, r'//*[@id=\"pitchChartHandedness\"]'))\n",
    "\n",
    "    for hand in range(1, len(handedness.options)):\n",
    "        handedness.select_by_index(hand)\n",
    "        \n",
    "        first_row_present = EC.visibility_of_element_located((By.XPATH, r'//*[@id=\"detailedPitches\"]'))\n",
    "        WebDriverWait(driver, timeout).until(first_row_present)\n",
    "\n",
    "        src = driver.page_source\n",
    "        parser = BeautifulSoup(src, \"lxml\")\n",
    "        table = parser.find(\"div\", attrs = {\"id\": \"pitchTable\"})\n",
    "    \n",
    "        rows = table.findAll('tr')[1:]\n",
    "    \n",
    "        player_stats = []\n",
    "        for i in range(len(rows)):\n",
    "            row_cells = []\n",
    "            for td in rows[i].findAll('td'):\n",
    "                row_cells.append(td.getText().strip())\n",
    "            row_cells.insert(0, player[1])\n",
    "            row_cells.insert(2, player[0])\n",
    "            player_stats.append(row_cells)\n",
    "    "
   ]
  },
  {
   "cell_type": "code",
   "execution_count": null,
   "id": "29ab99ca-a6b4-4ed0-85c5-efe6e40ee61b",
   "metadata": {},
   "outputs": [],
   "source": [
    "driver.quit()"
   ]
  },
  {
   "cell_type": "code",
   "execution_count": null,
   "id": "a278ffba-4ded-411a-9916-358b143adb32",
   "metadata": {},
   "outputs": [],
   "source": [
    "player_stats"
   ]
  },
  {
   "cell_type": "code",
   "execution_count": null,
   "id": "3153a458-8403-43b3-9382-1fcde78d0308",
   "metadata": {},
   "outputs": [],
   "source": [
    "rows"
   ]
  },
  {
   "cell_type": "code",
   "execution_count": null,
   "id": "35ada7f5-95ea-464c-bfb7-1559af630571",
   "metadata": {},
   "outputs": [],
   "source": [
    "df = pd.DataFrame(player_stats, columns=headerlist)"
   ]
  },
  {
   "cell_type": "code",
   "execution_count": null,
   "id": "199b196e-9ff1-42b5-ac88-7df7adc43458",
   "metadata": {},
   "outputs": [],
   "source": [
    "df"
   ]
  },
  {
   "cell_type": "code",
   "execution_count": null,
   "id": "ddfb4798-7d46-4e5a-92b4-0b103289ac73",
   "metadata": {},
   "outputs": [],
   "source": []
  },
  {
   "cell_type": "code",
   "execution_count": null,
   "id": "c18a19a0-908f-4945-948a-e95f3b183fed",
   "metadata": {},
   "outputs": [],
   "source": []
  },
  {
   "cell_type": "code",
   "execution_count": null,
   "id": "b56ec528-a2ef-42f3-b99e-16743f3173fe",
   "metadata": {},
   "outputs": [],
   "source": [
    "import requests\n",
    "from bs4 import BeautifulSoup\n",
    "import pandas as pd\n",
    "\n",
    "\n",
    "payload = {}\n",
    "headers = {\n",
    "  'User-Agent': 'Mozilla/5.0 (Macintosh; Intel Mac OS X 10.15; rv:122.0) Gecko/20100101 Firefox/122.0',\n",
    "  'Accept': '*/*',\n",
    "  'Accept-Language': 'en-US,en;q=0.5',\n",
    "  'Accept-Encoding': 'gzip, deflate, br',\n",
    "  'X-Requested-With': 'XMLHttpRequest',\n",
    "  'Connection': 'keep-alive',\n",
    "  'Referer': 'https://baseballsavant.mlb.com/savant-player/alek-thomas-677950?stats=statcast-r-hitting-mlb',\n",
    "  'Cookie': '__cflb=02DiuJFcgbX2zpcHdRurfpjkBTD5BPySo6gPFqPfkQ556; AMCV_A65F776A5245B01B0A490D44%40AdobeOrg=1099438348%7CMCIDTS%7C19755%7CMCMID%7C08223760795725670020171971273569729942%7CMCAAMLH-1707411436%7C7%7CMCAAMB-1707411436%7C6G1ynYcLPuiQxYZrsz_pkqfLG9yMXBpb2zX5dvJdYQJzPXImdj0y%7CMCOPTOUT-1706813836s%7CNONE%7CMCAID%7CNONE%7CMCSYNCSOP%7C411-19762%7CvVersion%7C2.1.0; s_cc=true; s_sq=%5B%5BB%5D%5D; AMCVS_A65F776A5245B01B0A490D44%40AdobeOrg=1; s_vi=[CS]v1|32DDE6B6150B13BF-40000A6BE1F97D36[CE]; s_ecid=MCMID%7C08223760795725670020171971273569729942; _dd_s=rum=0&expire=1706807948264',\n",
    "  'Sec-Fetch-Dest': 'empty',\n",
    "  'Sec-Fetch-Mode': 'cors',\n",
    "  'Sec-Fetch-Site': 'same-origin',\n",
    "  'TE': 'trailers'\n",
    "}\n",
    "\n",
    "\n",
    "players = [['dbacks', 'Alek Thomas', '677950']]\n",
    "handedness =['R', 'L']"
   ]
  },
  {
   "cell_type": "code",
   "execution_count": null,
   "id": "a8e1a760-2231-490b-9897-d641a066e819",
   "metadata": {},
   "outputs": [],
   "source": [
    "for player in players:\n",
    "    player_stats = []\n",
    "    for hand in handedness:\n",
    "        url = f\"https://baseballsavant.mlb.com/player-services/statcast-pitches-breakdown?playerId={player[-1]}&position=8&hand={hand}&pitchBreakdown=pitches&timeFrame=yearly&season=&pitchType=&count=&updatePitches=true\"\n",
    "\n",
    "        r = requests.get(url, headers=headers)\n",
    "\n",
    "        parser = BeautifulSoup(r.content, \"html.parser\")\n",
    "        table = parser.find(id=\"detailedPitches\")\n",
    "\n",
    "        headersTH = table.find_all('th')\n",
    "        headerlist = [h.text.strip() for h in headersTH[:]]\n",
    "        headerlist.insert(0, \"Name\")\n",
    "        headerlist.insert(2, \"Team\")\n",
    "        headerlist.insert(3, \"Hand\") \n",
    "    \n",
    "        rows = table.findAll('tr')[1:]\n",
    "    \n",
    "        for i in range(len(rows)):\n",
    "            row_cells = []\n",
    "            for td in rows[i].findAll('td'):\n",
    "                row_cells.append(td.getText().strip())\n",
    "            row_cells.insert(0, player[1])\n",
    "            row_cells.insert(2, player[0])\n",
    "            row_cells.insert(3, hand)\n",
    "            player_stats.append(row_cells)"
   ]
  },
  {
   "cell_type": "code",
   "execution_count": null,
   "id": "ca6537fe-e7c9-4eb7-a4d2-de590ec23abf",
   "metadata": {},
   "outputs": [],
   "source": []
  },
  {
   "cell_type": "code",
   "execution_count": null,
   "id": "7a36a04a-0560-449a-b359-e0010609b28d",
   "metadata": {},
   "outputs": [],
   "source": [
    "headerlist"
   ]
  },
  {
   "cell_type": "code",
   "execution_count": null,
   "id": "dc304683-1944-4755-b2fd-6206ace67920",
   "metadata": {},
   "outputs": [],
   "source": [
    "player_stats"
   ]
  },
  {
   "cell_type": "code",
   "execution_count": null,
   "id": "db6cbe22-e7d8-4206-9110-611e0b606443",
   "metadata": {},
   "outputs": [],
   "source": [
    "df = pd.DataFrame(player_stats, columns=headerlist)\n"
   ]
  },
  {
   "cell_type": "code",
   "execution_count": null,
   "id": "2e8bd17a-0565-4a72-a382-0c2a894e18dd",
   "metadata": {},
   "outputs": [],
   "source": [
    "df"
   ]
  },
  {
   "cell_type": "code",
   "execution_count": null,
   "id": "eef191ed-15c4-40ca-943c-ef8d179f9dbd",
   "metadata": {},
   "outputs": [],
   "source": []
  },
  {
   "cell_type": "code",
   "execution_count": null,
   "id": "e9d20a03-a88f-4fc9-bd60-5d6cf6e05374",
   "metadata": {},
   "outputs": [],
   "source": []
  },
  {
   "cell_type": "code",
   "execution_count": null,
   "id": "49bc0914-02f2-4484-9ace-a1142760c765",
   "metadata": {},
   "outputs": [],
   "source": []
  },
  {
   "cell_type": "code",
   "execution_count": null,
   "id": "ca8c384f-1102-4383-897c-89c6ddb7aca4",
   "metadata": {},
   "outputs": [],
   "source": [
    "from selenium import webdriver\n",
    "from selenium.webdriver.support.ui import Select\n",
    "from selenium.webdriver.support.ui import WebDriverWait\n",
    "from selenium.webdriver.support import expected_conditions as EC\n",
    "from selenium.webdriver.common.by import By\n",
    "from bs4 import BeautifulSoup\n",
    "from selenium.webdriver.chrome.service import Service\n",
    "from webdriver_manager.chrome import ChromeDriverManager\n",
    "import pandas as pd\n",
    "\n",
    "# Proxy configuration\n",
    "PROXY = \"127.0.0.1:24000\"\n",
    "# Path to chromedriver executable\n",
    "PATH = \"/opt/homebrew/Caskroom/chromedriver/121.0.6167.85/chromedriver-mac-arm64/chromedriver\"\n",
    "\n",
    "chrome_options = webdriver.ChromeOptions()\n",
    "chrome_options.add_argument('--proxy-server=%s' % PROXY)\n",
    "\n",
    "timeout = 25\n",
    "\n",
    "handedness =['R', 'L']\n",
    "player_stats = []\n",
    "headerlist = []\n",
    "pitcher_stats = []\n",
    "players = [['dbacks', 'Miguel Castro', 'miguel-castro-612434', 'Pitcher']]\n",
    "driver = webdriver.Chrome(service=Service(ChromeDriverManager().install()), options=chrome_options)"
   ]
  },
  {
   "cell_type": "code",
   "execution_count": null,
   "id": "deb50045-d107-4401-a1a5-84111b40518b",
   "metadata": {},
   "outputs": [],
   "source": [
    "def missing_stats(pitches_less, pitches_more):  \n",
    "    pitches_needed = []\n",
    "    for row in pitches_more:\n",
    "        yearPitch = row.findAll('td')[0].getText().strip() + row.findAll('td')[1].getText().strip()\n",
    "        pitches_needed.append(yearPitch)\n",
    "    \n",
    "    pitches_got = []\n",
    "    for row in pitches_less:\n",
    "        yearPitch = row.findAll('td')[0].getText().strip() + row.findAll('td')[1].getText().strip()\n",
    "        pitches_got.append(yearPitch)\n",
    "\n",
    "    missing_pitch = []\n",
    "    for pitch in pitches_needed:\n",
    "        if pitch not in pitches_got:\n",
    "            missing_pitch.append(pitch)\n",
    "\n",
    "    missing_pitch_arr = []\n",
    "    missing_pitch_arr.append(missing_pitch[0][:4])\n",
    "    missing_pitch_arr.append(missing_pitch[0][4:])\n",
    "\n",
    "    # for stat in spinDirectionRows[2:]:\n",
    "    #     missing_pitch_arr.append('') # appends empty string for value to keep the correct amount of cols\n",
    "    \n",
    "    # spinDirection_stats.append(missing_pitch_arr) # appends missing pitch"
   ]
  },
  {
   "cell_type": "code",
   "execution_count": null,
   "id": "a6a60b06-6455-4b13-ba5f-60735be8aa93",
   "metadata": {},
   "outputs": [],
   "source": [
    "for player in players:\n",
    "    url = f\"https://baseballsavant.mlb.com/savant-player/{player[2]}?stats=statcast-r-pitching-mlb\"\n",
    "    driver.get(url)\n",
    "\n",
    "    detailedPitches_present = EC.visibility_of_element_located((By.XPATH, r'//*[@id=\"detailedPitches\"]/tbody/tr[1]/td[2]/span'))\n",
    "    WebDriverWait(driver, timeout).until(detailedPitches_present)\n",
    "\n",
    "    src = driver.page_source\n",
    "    parser = BeautifulSoup(src, \"lxml\")\n",
    "\n",
    "    pitchMovement = parser.find(\"table\", attrs = {\"id\": \"pitchMovement\"})\n",
    "    pitchTracking = parser.find(\"table\", attrs = {\"id\": \"detailedPitches\"})\n",
    "    runValues = parser.find(\"table\", attrs = {\"id\": \"runValues\"})\n",
    "    spinDirection = parser.find(\"table\", attrs = {\"id\": \"spinAxis\"})\n",
    "    \n",
    "    if not headerlist:\n",
    "        pitchMovementHeaders = pitchMovement.findAll('th')\n",
    "        pitchMovementHeadersList = [h.text.strip() for h in pitchMovementHeaders[:]]\n",
    "\n",
    "        pitchTrackingHeaders = pitchTracking.findAll('th')\n",
    "        pitchTrackingHeadersList = [h.text.strip() for h in pitchTrackingHeaders[:]]\n",
    "\n",
    "        runValuesHeaders = runValues.findAll('th')\n",
    "        runValuesHeadersList = [h.text.strip() for h in runValuesHeaders[:]]\n",
    "\n",
    "        spinDirectionHeaders = spinDirection.findAll('th')\n",
    "        spinDirectionHeadersList = [h.text.strip() for h in spinDirectionHeaders[:]]\n",
    "    \n",
    "        pitchMovementHeadersList_2 = pitchMovementHeadersList[2:]\n",
    "        pitchMovementHeadersList_2[0] = 'Name'\n",
    "        headerlist.extend(pitchMovementHeadersList_2)\n",
    "        headerlist.extend(pitchTrackingHeadersList[3:])\n",
    "        headerlist.extend(runValuesHeadersList[3:])\n",
    "        headerlist.extend(spinDirectionHeadersList[3:])\n",
    "\n",
    "    pitchMovementRows = pitchMovement.findAll('tr')[2:]\n",
    "    pitchTrackingRows = pitchTracking.findAll('tr')[1:]\n",
    "    runValuesRows = runValues.findAll('tr')[1:]\n",
    "    spinDirectionRows = spinDirection.findAll('tr')[1:]\n",
    "    \n",
    "    pitchMovement_stats = []\n",
    "    pitchTracking_stats = []\n",
    "    runValues_stats = []\n",
    "    spinDirection_stats = []\n",
    "    \n",
    "    for i in range(len(pitchMovementRows)):\n",
    "        row_cells = []\n",
    "        for td in pitchMovementRows[i].findAll('td'):\n",
    "            row_cells.append(td.getText().strip())\n",
    "        pitchMovement_stats.append(row_cells)\n",
    "\n",
    "    for i in range(len(pitchTrackingRows)):\n",
    "        row_cells = []\n",
    "        for td in pitchTrackingRows[i].findAll('td'):\n",
    "            row_cells.append(td.getText().strip())\n",
    "        pitchTracking_stats.append(row_cells)\n",
    "\n",
    "    for i in range(len(runValuesRows)):\n",
    "        row_cells = []\n",
    "        for td in runValuesRows[i].findAll('td'):\n",
    "            row_cells.append(td.getText().strip())\n",
    "        runValues_stats.append(row_cells)\n",
    "\n",
    "    for i in range(len(spinDirectionRows)):\n",
    "        row_cells = []\n",
    "        for td in spinDirectionRows[i].findAll('td'):\n",
    "            row_cells.append(td.getText().strip())\n",
    "        spinDirection_stats.append(row_cells)\n",
    "\n",
    "    if (len(pitchTrackingRows) > len(spinDirectionRows)):\n",
    "        missing_stats(spinDirectionRows, pitchTrackingRows)\n",
    "    elif (len(pitchTrackingRows) > len(runValuesRows)):\n",
    "        missing_stats(runValuesRows, pitchTrackingRows)\n",
    "    elif (len(pitchTrackingRows) > len(pitchMovementRows)):\n",
    "        missing_stats(pitchMovementRows, pitchTrackingRows)   \n",
    "\n",
    "    for i in range(len(pitchMovementRows)):\n",
    "        for pitch in pitchMovement_stats:\n",
    "            if pitch[1] == pitchTracking_stats[i][1] and pitch[0] == pitchTracking_stats[i][0]:\n",
    "                pitch.extend(pitchTracking_stats[i][3:])\n",
    "\n",
    "    for i in range(len(pitchMovementRows)):\n",
    "        for pitch in pitchMovement_stats:\n",
    "            if pitch[1] == runValues_stats[i][1] and pitch[0] == runValues_stats[i][0]:\n",
    "                pitch.extend(runValues_stats[i][3:])\n",
    "\n",
    "    for i in range(len(pitchMovementRows)):\n",
    "        for pitch in pitchMovement_stats:\n",
    "            if pitch[1] == spinDirection_stats[i][1] and pitch[0] == spinDirection_stats[i][0]:\n",
    "                pitch.extend(spinDirection_stats[i][3:])\n",
    "\n",
    "    for pitch in pitchMovement_stats: \n",
    "        pitch.insert(0, player[1])\n",
    "        pitcher_stats.append(pitch)\n",
    "\n",
    "driver.quit()\n",
    "df = pd.DataFrame(pitchMovement_stats, columns=headerlist)"
   ]
  },
  {
   "cell_type": "code",
   "execution_count": null,
   "id": "7731eb79-decf-404e-a538-492b2edf282b",
   "metadata": {},
   "outputs": [],
   "source": [
    "pitchMovement_stats"
   ]
  },
  {
   "cell_type": "code",
   "execution_count": null,
   "id": "82bbce66-efaa-4433-bc70-c99d972ef903",
   "metadata": {},
   "outputs": [],
   "source": [
    "pitcher_stats.(pitchMovement_stats)"
   ]
  },
  {
   "cell_type": "code",
   "execution_count": null,
   "id": "59b14882-3b50-4047-83f0-8f40196c6cd1",
   "metadata": {},
   "outputs": [],
   "source": [
    "pitcher_stats"
   ]
  },
  {
   "cell_type": "code",
   "execution_count": null,
   "id": "4136fc43-3766-492e-973a-c3ffb2bf14a3",
   "metadata": {},
   "outputs": [],
   "source": [
    "driver.quit()"
   ]
  },
  {
   "cell_type": "code",
   "execution_count": null,
   "id": "be082c5c-1568-4587-9b8d-726d17e53561",
   "metadata": {},
   "outputs": [],
   "source": [
    "for i in range(len(pitchMovementRows)):\n",
    "    for pitch in pitcher1_stats:\n",
    "        if pitch[1] == pitcher2_stats[i][1]:\n",
    "            pitch.extend(pitcher2_stats[i][3:])"
   ]
  },
  {
   "cell_type": "code",
   "execution_count": null,
   "id": "ba372ea9-094b-446e-843f-e3ad25add491",
   "metadata": {},
   "outputs": [],
   "source": [
    "for i in range(len(pitchMovementRows)):\n",
    "    for pitch in pitcher1_stats:\n",
    "        if pitch[1] == pitcher3_stats[i][1]:\n",
    "            pitch.extend(pitcher3_stats[i][3:])"
   ]
  },
  {
   "cell_type": "code",
   "execution_count": null,
   "id": "67f4e47d-d4ec-471b-a7d5-ce9b72ccb16b",
   "metadata": {},
   "outputs": [],
   "source": [
    "for i in range(len(pitchMovementRows)):\n",
    "    for pitch in pitcher1_stats:\n",
    "        if pitch[1] == pitcher4_stats[i][1]:\n",
    "            pitch.extend(pitcher4_stats[i][3:])"
   ]
  },
  {
   "cell_type": "code",
   "execution_count": null,
   "id": "87c85282-c4f5-421a-868f-3da39d0a8c73",
   "metadata": {},
   "outputs": [],
   "source": [
    "for pitch in pitcher1_stats[1:]: \n",
    "    pitch.insert(0, 'Brandon')"
   ]
  },
  {
   "cell_type": "code",
   "execution_count": null,
   "id": "fd468c43-e49f-4cec-a45d-ebe82799e3e0",
   "metadata": {},
   "outputs": [],
   "source": [
    "df2 = pd.DataFrame(pitcher_stats, columns=headerlist)"
   ]
  },
  {
   "cell_type": "code",
   "execution_count": null,
   "id": "720ae64e-4a5b-4008-8d94-dabdd30f4bc3",
   "metadata": {},
   "outputs": [],
   "source": [
    "df2"
   ]
  },
  {
   "cell_type": "code",
   "execution_count": null,
   "id": "418abd84-1e42-4265-8e09-c6303f5f9eed",
   "metadata": {},
   "outputs": [],
   "source": []
  },
  {
   "cell_type": "code",
   "execution_count": null,
   "id": "a80a12cb-23b9-4039-89e6-cd9399fd8522",
   "metadata": {},
   "outputs": [],
   "source": [
    "pitchMovementRows\n",
    "# len(pitchTrackingRows)\n",
    "# len(runValuesRows)\n",
    "# len(spinDirectionRows)"
   ]
  },
  {
   "cell_type": "code",
   "execution_count": null,
   "id": "35df207f-060b-492b-bf7b-38aa01fa947b",
   "metadata": {},
   "outputs": [],
   "source": [
    "def missing_stats(pitches_less, pitches_more):  \n",
    "    pitches_needed = []\n",
    "    for row in pitches_more:\n",
    "        yearPitch = row.findAll('td')[0].getText().strip() + row.findAll('td')[1].getText().strip()\n",
    "        pitches_needed.append(yearPitch)\n",
    "    \n",
    "    pitches_got = []\n",
    "    for row in pitches_less:\n",
    "        yearPitch = row.findAll('td')[0].getText().strip() + row.findAll('td')[1].getText().strip()\n",
    "        pitches_got.append(yearPitch)\n",
    "\n",
    "    missing_pitch = []\n",
    "    for pitch in pitches_needed:\n",
    "        if pitch not in pitches_got:\n",
    "            missing_pitch.append(pitch)\n",
    "\n",
    "    missing_pitch_arr = []\n",
    "    missing_pitch_arr.append(missing_pitch[0][:4])\n",
    "    missing_pitch_arr.append(missing_pitch[0][4:])\n",
    "\n",
    "    for stat in spinDirectionRows[2:]:\n",
    "        missing_pitch_arr.append('') # appends empty string for value to keep the correct amount of cols\n",
    "    \n",
    "    spinDirection_stats.append(missing_pitch_arr) # appends missing pitch"
   ]
  },
  {
   "cell_type": "code",
   "execution_count": null,
   "id": "5fcdaf41-43da-4f35-9eb5-00daea1a372f",
   "metadata": {},
   "outputs": [],
   "source": [
    "missing_stats(spinDirectionRows, pitchTrackingRows)"
   ]
  },
  {
   "cell_type": "code",
   "execution_count": null,
   "id": "7daa269c-c43b-4f84-90c3-4b20bf548d31",
   "metadata": {},
   "outputs": [],
   "source": [
    "spinDirection_stats"
   ]
  },
  {
   "cell_type": "code",
   "execution_count": null,
   "id": "eb5cbe82-e823-4076-a7c0-6975f81c27d1",
   "metadata": {},
   "outputs": [],
   "source": [
    "if (len(pitchTrackingRows) > len(pitchMovementRows)) {\n",
    "    \n",
    "}"
   ]
  },
  {
   "cell_type": "code",
   "execution_count": null,
   "id": "3760275f-ddfa-40b5-ad87-a0c56493c6df",
   "metadata": {},
   "outputs": [],
   "source": [
    "spinDirection_stats = []\n",
    "for i in range(len(spinDirectionRows)):\n",
    "        row_cells = []\n",
    "        for td in spinDirectionRows[i].findAll('td'):\n",
    "            row_cells.append(td.getText().strip())\n",
    "        spinDirection_stats.append(row_cells)\n",
    "spinDirection_stats "
   ]
  },
  {
   "cell_type": "code",
   "execution_count": null,
   "id": "23616c00-1375-48e0-a6ec-b76fd853632a",
   "metadata": {},
   "outputs": [],
   "source": [
    "pitches_needed = []\n",
    "for row in pitchTrackingRows:\n",
    "    yearPitch = row.findAll('td')[0].getText().strip() + row.findAll('td')[1].getText().strip()\n",
    "    pitches_needed.append(yearPitch)\n",
    "pitches_needed    "
   ]
  },
  {
   "cell_type": "code",
   "execution_count": null,
   "id": "3f7e436b-4f8d-458f-8519-e805971a032b",
   "metadata": {},
   "outputs": [],
   "source": [
    "pitches_got = []\n",
    "for row in spinDirectionRows:\n",
    "    yearPitch = row.findAll('td')[0].getText().strip() + row.findAll('td')[1].getText().strip()\n",
    "    pitches_got.append(yearPitch)\n",
    "\n",
    "missing_pitch = []\n",
    "for pitch in pitches_needed:\n",
    "    if pitch not in pitches_got:\n",
    "        missing_pitch.append(pitch)\n"
   ]
  },
  {
   "cell_type": "code",
   "execution_count": null,
   "id": "74f5e01c-0aac-48b2-8e20-3e43260ccee0",
   "metadata": {},
   "outputs": [],
   "source": [
    "missing_pitch_arr = []\n",
    "for pitch in missing_pitch:\n",
    "    missing_pitch_arr.append(pitch[0][:4])\n",
    "    missing_pitch_arr.append([0][4:])   \n",
    "    "
   ]
  },
  {
   "cell_type": "code",
   "execution_count": null,
   "id": "0609f654-3b97-4bd3-aacc-bda984378d3e",
   "metadata": {},
   "outputs": [],
   "source": [
    "missing_pitch_arr"
   ]
  },
  {
   "cell_type": "code",
   "execution_count": null,
   "id": "19314716-e36b-4102-9914-4fc688b58a38",
   "metadata": {},
   "outputs": [],
   "source": [
    "missing_pitch_year = missing_pitch[0][:4]"
   ]
  },
  {
   "cell_type": "code",
   "execution_count": null,
   "id": "ab196764-841e-4222-a8a5-42cbf559e2db",
   "metadata": {},
   "outputs": [],
   "source": [
    "missing_pitch_arr = []"
   ]
  },
  {
   "cell_type": "code",
   "execution_count": null,
   "id": "40bbec95-e9aa-4dd2-91c4-24b225e9cfcf",
   "metadata": {},
   "outputs": [],
   "source": [
    "missing_pitch_type = missing_pitch[0][4:]"
   ]
  },
  {
   "cell_type": "code",
   "execution_count": null,
   "id": "4a97cd32-ad4f-43a7-b30c-05daaea96ae7",
   "metadata": {},
   "outputs": [],
   "source": [
    "missing_pitch_arr.append(missing_pitch[0][:4])\n",
    "missing_pitch_arr.append(missing_pitch[0][4:])"
   ]
  },
  {
   "cell_type": "code",
   "execution_count": null,
   "id": "d3a2cb0c-d064-4b91-ae22-632594e6083e",
   "metadata": {},
   "outputs": [],
   "source": [
    "missing_pitch_arr"
   ]
  },
  {
   "cell_type": "code",
   "execution_count": null,
   "id": "7730b60b-7764-4197-a802-2b6f8a203899",
   "metadata": {},
   "outputs": [],
   "source": [
    "for stat in spinDirectionRows[2:]:\n",
    "    missing_pitch_arr.append('') # appends empty string for value to keep the correct amount of cols"
   ]
  },
  {
   "cell_type": "code",
   "execution_count": null,
   "id": "196abbe6-8bac-43a6-bf86-772b436ba1e2",
   "metadata": {},
   "outputs": [],
   "source": [
    "spinDirection_stats.append(missing_pitch_arr) # appends missing pitch"
   ]
  },
  {
   "cell_type": "code",
   "execution_count": null,
   "id": "2db9412b-a668-4373-b5ec-14976fc59103",
   "metadata": {},
   "outputs": [],
   "source": [
    "# len(pitchMovement_stats)\n",
    "# len(pitchTracking_stats)\n",
    "# len(runValues_stats)\n",
    "# len(spinDirection_stats)"
   ]
  },
  {
   "cell_type": "code",
   "execution_count": null,
   "id": "a3771a67-639c-4c29-aad7-3d8bb8016fe6",
   "metadata": {},
   "outputs": [],
   "source": [
    "def largest_pitch_count():\n",
    "    pitch_count = []\n",
    "    pitch_count.append(pitchMovementRows)\n",
    "    pitch_count.append(pitchTrackingRows)\n",
    "    pitch_count.append(runValuesRows)\n",
    "    pitch_count.append(spinDirectionRows)\n",
    "    return max(pitch_count, key=len)\n",
    "\n",
    "if (len(largest_pitch_count()) > 5):    \n",
    "    print(largest_pitch_count)\n",
    "\n",
    "# pitchMovementRows\n",
    "# len(pitchTrackingRows)\n",
    "# len(runValuesRows)\n",
    "# len(spinDirectionRows)"
   ]
  },
  {
   "cell_type": "code",
   "execution_count": null,
   "id": "1ae37758-fa42-41f0-b7a6-1701ca55465f",
   "metadata": {},
   "outputs": [],
   "source": [
    "len(largest_pitch_count())"
   ]
  },
  {
   "cell_type": "code",
   "execution_count": null,
   "id": "fc11617b-fabe-460e-86f7-236d7dee82a5",
   "metadata": {},
   "outputs": [],
   "source": [
    "len(pitch_count[-1])"
   ]
  },
  {
   "cell_type": "code",
   "execution_count": null,
   "id": "4533ed0c-96cf-4d2d-a63e-9fa7ff65829c",
   "metadata": {},
   "outputs": [],
   "source": [
    "runValues_stats[0]"
   ]
  },
  {
   "cell_type": "code",
   "execution_count": 1,
   "id": "63fed15c-8e93-41c6-b40a-0ad18e61cee4",
   "metadata": {},
   "outputs": [
    {
     "name": "stdout",
     "output_type": "stream",
     "text": [
      "             Name  Year            Pitch Team Hand    #   MPH Inches of Drop  \\\n",
      "0   Miguel Castro  2023           Sinker   AZ    R  428  96.8           24.7   \n",
      "1   Miguel Castro  2023           Slider   AZ    R  420  83.8           37.0   \n",
      "2   Miguel Castro  2023         Changeup   AZ    R  160  91.4           30.7   \n",
      "3   Miguel Castro  2022         Changeup  NYY    R   96  92.4           31.6   \n",
      "4   Miguel Castro  2022           Sinker  NYY    R  189  97.9           23.3   \n",
      "5   Miguel Castro  2022           Slider  NYY    R  227  85.8           35.2   \n",
      "6   Miguel Castro  2021         Changeup  NYM    R  270  92.1           30.3   \n",
      "7   Miguel Castro  2021           Slider  NYM    R  433  85.7           36.4   \n",
      "8   Miguel Castro  2021           Sinker  NYM    R  525  98.0           21.7   \n",
      "9   Miguel Castro  2020         Changeup  NYM    R   89  92.3           28.7   \n",
      "10  Miguel Castro  2020           Slider  NYM    R  148  86.8           34.1   \n",
      "11  Miguel Castro  2020           Sinker  NYM    R  238  98.1           21.0   \n",
      "12  Miguel Castro  2019         Changeup  BAL    R  246  90.5           28.9   \n",
      "13  Miguel Castro  2019           Slider  BAL    R  383  86.1           38.1   \n",
      "14  Miguel Castro  2019           Sinker  BAL    R  603  97.3           20.8   \n",
      "15  Miguel Castro  2018         Changeup  BAL    R  222  87.6           28.8   \n",
      "16  Miguel Castro  2018           Slider  BAL    R  382  84.3           39.0   \n",
      "17  Miguel Castro  2018           Sinker  BAL    R  852  95.4           21.3   \n",
      "18  Miguel Castro  2018  4-Seam Fastball  BAL    R    2  96.4           13.1   \n",
      "19  Miguel Castro  2017         Changeup  BAL    R  108  86.2           30.7   \n",
      "20  Miguel Castro  2017           Slider  BAL    R  285  84.5           40.0   \n",
      "21  Miguel Castro  2017  4-Seam Fastball  BAL    R   19  95.0           13.5   \n",
      "22  Miguel Castro  2017           Sinker  BAL    R  618  95.4           20.7   \n",
      "23  Miguel Castro  2016           Slider  COL    R   91  83.4           40.6   \n",
      "24  Miguel Castro  2016         Changeup  COL    R   13  87.9           30.0   \n",
      "25  Miguel Castro  2016  4-Seam Fastball  COL    R  136  96.8           20.8   \n",
      "26  Miguel Castro  2015           Slider  COL    R   64  82.7           43.2   \n",
      "27  Miguel Castro  2015         Changeup  COL    R   48  88.4           31.4   \n",
      "28  Miguel Castro  2015  4-Seam Fastball  COL    R  169  97.1           18.7   \n",
      "\n",
      "   vs Avg % vs Avg  ...   xBA  xSLG xwOBA Hard Hit %   MPH Active Spin %  \\\n",
      "0     1.1        5  ...  .274  .408  .353       33.3  96.8            97   \n",
      "1    -0.7       -2  ...  .194  .360  .246       23.6  83.9            49   \n",
      "2     1.7        6  ...  .246  .370  .315       26.7  91.4            94   \n",
      "3     3.2       11  ...  .223  .289  .272       31.6  92.4            93   \n",
      "4     1.2        5  ...  .411  .741  .548       48.1  97.9            97   \n",
      "5    -0.6       -2  ...  .192  .268  .258       21.2  85.8            44   \n",
      "6     1.8        6  ...  .173  .277  .252       23.5  92.1            92   \n",
      "7     0.2        1  ...  .168  .245  .231       25.5  85.6            47   \n",
      "8     1.2        6  ...  .296  .528  .438       46.7  98.0            98   \n",
      "9     1.3        5  ...  .223  .352  .295       46.2  92.3            91   \n",
      "10   -0.1        0  ...  .148  .188  .200       14.3  86.9            34   \n",
      "11    0.6        3  ...  .264  .437  .357       58.3  98.1            96   \n",
      "12    1.1        4  ...  .106  .172  .217       11.8  None          None   \n",
      "13    2.4        7  ...  .143  .214  .187       19.3  None          None   \n",
      "14    1.5        8  ...  .314  .548  .406       45.7  None          None   \n",
      "15   -1.5       -5  ...  .190  .345  .275       17.8  None          None   \n",
      "16    0.9        2  ...  .213  .259  .237       18.0  None          None   \n",
      "17    0.6        3  ...  .298  .522  .407       43.8  None          None   \n",
      "18    1.6       11  ...    --    --    --         --  None          None   \n",
      "19    1.5        5  ...  .252  .279  .284       18.8  None          None   \n",
      "20    3.7       10  ...  .194  .326  .243       22.9  None          None   \n",
      "21    0.4        3  ...  .382  .783  .455       50.0  None          None   \n",
      "22    1.2        6  ...  .261  .437  .341       30.9  None          None   \n",
      "23    1.9        5  ...  None  None  None       None  None          None   \n",
      "24    0.0        0  ...  None  None  None       None  None          None   \n",
      "25   -5.7      -38  ...  None  None  None       None  None          None   \n",
      "26    3.2        8  ...  None  None  None       None  None          None   \n",
      "27    2.1        7  ...  None  None  None       None  None          None   \n",
      "28   -4.0      -27  ...  None  None  None       None  None          None   \n",
      "\n",
      "   Total Movement (In.) Spin-Based Observed Deviation  \n",
      "0                  18.8       2:15     2:45       -30  \n",
      "1                  11.3       8:30     9:00       -30  \n",
      "2                  17.7       2:15     3:00       -45  \n",
      "3                  18.6       2:30     3:00       -30  \n",
      "4                  18.9       2:15     2:30       -15  \n",
      "5                  11.5       8:30     9:00       -30  \n",
      "6                  19.9       2:15     3:00       -45  \n",
      "7                  12.6       8:15     9:00       -45  \n",
      "8                  20.2       2:15     2:30       -15  \n",
      "9                  19.4       2:00     2:45       -45  \n",
      "10                  7.0       8:00     9:30       -90  \n",
      "11                 20.0       2:00     2:15       -15  \n",
      "12                 None       None     None      None  \n",
      "13                 None       None     None      None  \n",
      "14                 None       None     None      None  \n",
      "15                 None       None     None      None  \n",
      "16                 None       None     None      None  \n",
      "17                 None       None     None      None  \n",
      "18                 None       None     None      None  \n",
      "19                 None       None     None      None  \n",
      "20                 None       None     None      None  \n",
      "21                 None       None     None      None  \n",
      "22                 None       None     None      None  \n",
      "23                 None       None     None      None  \n",
      "24                 None       None     None      None  \n",
      "25                 None       None     None      None  \n",
      "26                 None       None     None      None  \n",
      "27                 None       None     None      None  \n",
      "28                 None       None     None      None  \n",
      "\n",
      "[29 rows x 59 columns]\n",
      "Empty DataFrame\n",
      "Columns: []\n",
      "Index: []\n"
     ]
    }
   ],
   "source": [
    "# from players import players\n",
    "\n",
    "import requests\n",
    "from selenium import webdriver\n",
    "from selenium.webdriver.support.ui import Select\n",
    "from selenium.webdriver.support.ui import WebDriverWait\n",
    "from selenium.webdriver.support import expected_conditions as EC\n",
    "from selenium.webdriver.common.by import By\n",
    "from bs4 import BeautifulSoup\n",
    "from selenium.webdriver.chrome.service import Service\n",
    "from webdriver_manager.chrome import ChromeDriverManager\n",
    "import pandas as pd\n",
    "\n",
    "\n",
    "payload = {}\n",
    "headers = {\n",
    "  'User-Agent': 'Mozilla/5.0 (Macintosh; Intel Mac OS X 10.15; rv:122.0) Gecko/20100101 Firefox/122.0',\n",
    "  'Accept': '*/*',\n",
    "  'Accept-Language': 'en-US,en;q=0.5',\n",
    "  'Accept-Encoding': 'gzip, deflate, br',\n",
    "  'X-Requested-With': 'XMLHttpRequest',\n",
    "  'Connection': 'keep-alive',\n",
    "  'Referer': 'https://baseballsavant.mlb.com/savant-player/alek-thomas-677950?stats=statcast-r-hitting-mlb',\n",
    "  'Cookie': '__cflb=02DiuJFcgbX2zpcHdRurfpjkBTD5BPySo6gPFqPfkQ556; AMCV_A65F776A5245B01B0A490D44%40AdobeOrg=1099438348%7CMCIDTS%7C19755%7CMCMID%7C08223760795725670020171971273569729942%7CMCAAMLH-1707411436%7C7%7CMCAAMB-1707411436%7C6G1ynYcLPuiQxYZrsz_pkqfLG9yMXBpb2zX5dvJdYQJzPXImdj0y%7CMCOPTOUT-1706813836s%7CNONE%7CMCAID%7CNONE%7CMCSYNCSOP%7C411-19762%7CvVersion%7C2.1.0; s_cc=true; s_sq=%5B%5BB%5D%5D; AMCVS_A65F776A5245B01B0A490D44%40AdobeOrg=1; s_vi=[CS]v1|32DDE6B6150B13BF-40000A6BE1F97D36[CE]; s_ecid=MCMID%7C08223760795725670020171971273569729942; _dd_s=rum=0&expire=1706807948264',\n",
    "  'Sec-Fetch-Dest': 'empty',\n",
    "  'Sec-Fetch-Mode': 'cors',\n",
    "  'Sec-Fetch-Site': 'same-origin',\n",
    "  'TE': 'trailers'\n",
    "}\n",
    "\n",
    "handedness =['R', 'L']\n",
    "pitcher_headerlist = []\n",
    "hitter_headerlist = []\n",
    "player_stats = []\n",
    "pitcher_stats = []\n",
    "players = [['dbacks', 'Miguel Castro', 'miguel-castro-612434', 'Pitcher']]\n",
    "\n",
    "# Proxy configuration\n",
    "PROXY = \"127.0.0.1:24000\"\n",
    "# Path to chromedriver executable\n",
    "PATH = \"/opt/homebrew/Caskroom/chromedriver/121.0.6167.85/chromedriver-mac-arm64/chromedriver\"\n",
    "\n",
    "chrome_options = webdriver.ChromeOptions()\n",
    "chrome_options.add_argument('--proxy-server=%s' % PROXY)\n",
    "\n",
    "timeout = 10\n",
    "\n",
    "driver = webdriver.Chrome(service=Service(ChromeDriverManager().install()), options=chrome_options)\n",
    "\n",
    "# pitcher function\n",
    "def missing_stats(pitches_less, pitches_more, pitches_less_stats):  \n",
    "    pitches_needed = []\n",
    "    for row in pitches_more:\n",
    "        yearPitch = row.findAll('td')[0].getText().strip() + row.findAll('td')[1].getText().strip()\n",
    "        pitches_needed.append(yearPitch)\n",
    "    \n",
    "    pitches_got = []\n",
    "    for row in pitches_less:\n",
    "        yearPitch = row.findAll('td')[0].getText().strip() + row.findAll('td')[1].getText().strip()\n",
    "        pitches_got.append(yearPitch)\n",
    "\n",
    "    missing_pitch = []\n",
    "    for pitch in pitches_needed:\n",
    "        if pitch not in pitches_got:\n",
    "            missing_pitch.append(pitch)\n",
    "\n",
    "    missing_pitch_arr = []\n",
    "    for pitch in missing_pitch:\n",
    "        missing_pitch_arr.append(pitch[:4])\n",
    "        missing_pitch_arr.append(pitch[4:])   \n",
    "\n",
    "    for stat in pitches_less[2:]:\n",
    "        missing_pitch_arr.append('') # appends empty string for value to keep the correct amount of cols\n",
    "    \n",
    "    for pitch in missing_pitch_arr:\n",
    "        pitches_less_stats.append(pitch) # appends missing pitch\n",
    "\n",
    "def largest_pitch_count():\n",
    "    pitch_count = []\n",
    "    pitch_count.append(pitchMovementRows)\n",
    "    pitch_count.append(pitchTrackingRows)\n",
    "    pitch_count.append(runValuesRows)\n",
    "    pitch_count.append(spinDirectionRows)\n",
    "    return max(pitch_count, key=len)\n",
    "\n",
    "\n",
    "for player in players:\n",
    "    if player[-1] != \"Pitcher\":    \n",
    "        for hand in handedness:\n",
    "            url = f\"https://baseballsavant.mlb.com/player-services/statcast-pitches-breakdown?playerId={player[2].split('-')[-1]}&position=8&hand={hand}&pitchBreakdown=pitches&timeFrame=yearly&season=&pitchType=&count=&updatePitches=true\"\n",
    "\n",
    "            r = requests.get(url, headers=headers)\n",
    "\n",
    "            parser = BeautifulSoup(r.content, \"html.parser\")\n",
    "            table = parser.find(id=\"detailedPitches\")\n",
    "\n",
    "            headersTH = table.find_all('th')\n",
    "            hitter_headerlist = [h.text.strip() for h in headersTH[:]]\n",
    "            hitter_headerlist.insert(0, \"Name\")\n",
    "            hitter_headerlist.insert(2, \"Team\")\n",
    "            hitter_headerlist.insert(3, \"Hand\") \n",
    "    \n",
    "            rows = table.findAll('tr')[1:]\n",
    "    \n",
    "            for i in range(len(rows)):\n",
    "                row_cells = []\n",
    "                for td in rows[i].findAll('td'):\n",
    "                    row_cells.append(td.getText().strip())\n",
    "                row_cells.insert(0, player[1])\n",
    "                row_cells.insert(2, player[0])\n",
    "                row_cells.insert(3, hand)\n",
    "                player_stats.append(row_cells)\n",
    "    else:\n",
    "\n",
    "        \n",
    "        url = f\"https://baseballsavant.mlb.com/savant-player/{player[2]}?stats=statcast-r-pitching-mlb\"\n",
    "        driver.get(url)\n",
    "\n",
    "        career_minors_locator = (By.XPATH, '//*[@id=\"top-stats\"]/div[1]/table/tbody/tr[2]/td[1]/span')\n",
    "        career_minors_element = WebDriverWait(driver, 10).until(EC.presence_of_element_located(career_minors_locator))\n",
    "        career_minors_text = career_minors_element.text\n",
    "\n",
    "        if (career_minors_text != 'Career Minors'):\n",
    "\n",
    "            detailedPitches_present = EC.presence_of_element_located((By.XPATH, r'//*[@id=\"detailedPitches\"]/tbody/tr[1]/td[2]/span'))\n",
    "            WebDriverWait(driver, timeout).until(detailedPitches_present)\n",
    "\n",
    "            src = driver.page_source\n",
    "            parser = BeautifulSoup(src, \"lxml\")\n",
    "\n",
    "            pitchMovement = parser.find(\"table\", attrs = {\"id\": \"pitchMovement\"})\n",
    "            pitchTracking = parser.find(\"table\", attrs = {\"id\": \"detailedPitches\"})\n",
    "            runValues = parser.find(\"table\", attrs = {\"id\": \"runValues\"})\n",
    "            spinDirection = parser.find(\"table\", attrs = {\"id\": \"spinAxis\"})\n",
    "    \n",
    "            if not pitcher_headerlist:\n",
    "                pitchMovementHeaders = pitchMovement.findAll('th')\n",
    "                pitchMovementHeadersList = [h.text.strip() for h in pitchMovementHeaders[:]]\n",
    "\n",
    "                pitchTrackingHeaders = pitchTracking.findAll('th')\n",
    "                pitchTrackingHeadersList = [h.text.strip() for h in pitchTrackingHeaders[:]]\n",
    "\n",
    "                runValuesHeaders = runValues.findAll('th')\n",
    "                runValuesHeadersList = [h.text.strip() for h in runValuesHeaders[:]]\n",
    "\n",
    "                spinDirectionHeaders = spinDirection.findAll('th')\n",
    "                spinDirectionHeadersList = [h.text.strip() for h in spinDirectionHeaders[:]]\n",
    "    \n",
    "                pitchMovementHeadersList_2 = pitchMovementHeadersList[2:]\n",
    "                pitchMovementHeadersList_2[0] = 'Name'\n",
    "                pitcher_headerlist.extend(pitchMovementHeadersList_2)\n",
    "                pitcher_headerlist.extend(pitchTrackingHeadersList[3:])\n",
    "                pitcher_headerlist.extend(runValuesHeadersList[3:])\n",
    "                pitcher_headerlist.extend(spinDirectionHeadersList[3:])\n",
    "\n",
    "            pitchMovementRows = pitchMovement.findAll('tr')[2:]\n",
    "            pitchTrackingRows = pitchTracking.findAll('tr')[1:]\n",
    "            runValuesRows = runValues.findAll('tr')[1:]\n",
    "            spinDirectionRows = spinDirection.findAll('tr')[1:]\n",
    "    \n",
    "            pitchMovement_stats = []\n",
    "            pitchTracking_stats = []\n",
    "            runValues_stats = []\n",
    "            spinDirection_stats = []\n",
    "\n",
    "            for i in range(len(pitchMovementRows)):\n",
    "                row_cells = []\n",
    "                for td in pitchMovementRows[i].findAll('td'):\n",
    "                    row_cells.append(td.getText().strip())\n",
    "                pitchMovement_stats.append(row_cells)\n",
    "\n",
    "            for i in range(len(pitchTrackingRows)):\n",
    "                row_cells = []\n",
    "                for td in pitchTrackingRows[i].findAll('td'):\n",
    "                    row_cells.append(td.getText().strip())\n",
    "                pitchTracking_stats.append(row_cells)\n",
    "\n",
    "            for i in range(len(runValuesRows)):\n",
    "                row_cells = []\n",
    "                for td in runValuesRows[i].findAll('td'):\n",
    "                    row_cells.append(td.getText().strip())\n",
    "                runValues_stats.append(row_cells)\n",
    "\n",
    "            for i in range(len(spinDirectionRows)):\n",
    "                row_cells = []\n",
    "                for td in spinDirectionRows[i].findAll('td'):\n",
    "                    row_cells.append(td.getText().strip())\n",
    "                spinDirection_stats.append(row_cells)\n",
    "\n",
    "            if (len(largest_pitch_count()) > len(spinDirectionRows)):\n",
    "                missing_stats(spinDirectionRows, largest_pitch_count(), spinDirection_stats)\n",
    "            if (len(largest_pitch_count()) > len(pitchTrackingRows)):\n",
    "                missing_stats(pitchTrackingRows, largest_pitch_count(), pitchTracking_stats)   \n",
    "            if (len(largest_pitch_count()) > len(runValuesRows)):\n",
    "                missing_stats(runValuesRows, largest_pitch_count(), runValues_stats)\n",
    "            if (len(largest_pitch_count()) > len(pitchMovementRows)):\n",
    "                missing_stats(pitchMovementRows, largest_pitch_count(), pitchMovement_stats) \n",
    "            \n",
    "\n",
    "            for i in range(len(pitchMovement_stats)):\n",
    "                for pitch in pitchMovement_stats:\n",
    "                    if pitch[1] == pitchTracking_stats[i][1] and pitch[0] == pitchTracking_stats[i][0]:\n",
    "                        pitch.extend(pitchTracking_stats[i][3:])\n",
    "\n",
    "            for i in range(len(pitchMovement_stats)):\n",
    "                for pitch in pitchMovement_stats:\n",
    "                    if pitch[1] == runValues_stats[i][1] and pitch[0] == runValues_stats[i][0]:\n",
    "                        pitch.extend(runValues_stats[i][3:])\n",
    "\n",
    "            for i in range(len(pitchMovement_stats)):\n",
    "                for pitch in pitchMovement_stats:\n",
    "                    if pitch[1] == spinDirection_stats[i][1] and pitch[0] == spinDirection_stats[i][0]:\n",
    "                        pitch.extend(spinDirection_stats[i][3:])\n",
    "    \n",
    "            for pitch in pitchMovement_stats: \n",
    "                pitch.insert(0, player[1])\n",
    "                pitcher_stats.append(pitch)\n",
    "\n",
    "driver.quit()\n",
    "\n",
    "pitchers_df = pd.DataFrame(pitcher_stats, columns=pitcher_headerlist)\n",
    "hitters_df = pd.DataFrame(player_stats, columns=hitter_headerlist)\n",
    "\n",
    "print(pitchers_df)\n",
    "print(hitters_df)"
   ]
  },
  {
   "cell_type": "code",
   "execution_count": null,
   "id": "c64724dc-6a99-4bc6-af9c-29c83a5ca1be",
   "metadata": {},
   "outputs": [],
   "source": [
    "driver.quit()"
   ]
  },
  {
   "cell_type": "code",
   "execution_count": null,
   "id": "b7233e60-8f4a-4d48-a8df-926b50ebfddd",
   "metadata": {},
   "outputs": [],
   "source": [
    "level = parser.find(\"div\", attrs = {\"id\": \"mlb_career\"})"
   ]
  },
  {
   "cell_type": "code",
   "execution_count": null,
   "id": "309f3972-9877-4a5e-bb36-a323970c9038",
   "metadata": {},
   "outputs": [],
   "source": [
    "career_minors_locator = (By.XPATH, '//*[@id=\"top-stats\"]/div[1]/table/tbody/tr[2]/td[1]/span')"
   ]
  },
  {
   "cell_type": "code",
   "execution_count": null,
   "id": "59dd2fb8-bd83-462e-b31d-706e286ec800",
   "metadata": {},
   "outputs": [],
   "source": [
    "career_minors_locator.element"
   ]
  },
  {
   "cell_type": "code",
   "execution_count": null,
   "id": "890a5b99-6258-4327-9665-4a70c81120d4",
   "metadata": {},
   "outputs": [],
   "source": [
    "career_minors = driver.findElement(By.xpath('//*[@id=\"top-stats\"]/div[1]/table/tbody/tr[2]/td[1]/span'))"
   ]
  },
  {
   "cell_type": "code",
   "execution_count": null,
   "id": "0266fa5b-7bb4-46bd-af75-b003a7c69643",
   "metadata": {},
   "outputs": [],
   "source": [
    "career_minors"
   ]
  },
  {
   "cell_type": "code",
   "execution_count": null,
   "id": "f8002991-dcaf-446e-b0e8-2c693bd58e92",
   "metadata": {},
   "outputs": [],
   "source": [
    "career_minors_locator = (By.XPATH, '//*[@id=\"top-stats\"]/div[1]/table/tbody/tr[2]/td[1]/span')\n",
    "career_minors_element = WebDriverWait(driver, 10).until(EC.presence_of_element_located(career_minors_locator))"
   ]
  },
  {
   "cell_type": "code",
   "execution_count": null,
   "id": "9a115f8c-d044-4e39-8286-495d0a052af4",
   "metadata": {},
   "outputs": [],
   "source": [
    "career_minors_text = career_minors_element.text"
   ]
  },
  {
   "cell_type": "code",
   "execution_count": null,
   "id": "3b8ca2cf-f2ad-429a-85ea-50bc2264c4f5",
   "metadata": {},
   "outputs": [],
   "source": [
    "career_minors_text"
   ]
  }
 ],
 "metadata": {
  "kernelspec": {
   "display_name": "Python 3 (ipykernel)",
   "language": "python",
   "name": "python3"
  },
  "language_info": {
   "codemirror_mode": {
    "name": "ipython",
    "version": 3
   },
   "file_extension": ".py",
   "mimetype": "text/x-python",
   "name": "python",
   "nbconvert_exporter": "python",
   "pygments_lexer": "ipython3",
   "version": "3.12.0"
  }
 },
 "nbformat": 4,
 "nbformat_minor": 5
}
