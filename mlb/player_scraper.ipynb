{
 "cells": [
  {
   "cell_type": "code",
   "execution_count": 1,
   "id": "cd51cb0d-772d-406b-b85f-cf37e372061c",
   "metadata": {},
   "outputs": [],
   "source": [
    "from selenium import webdriver\n",
    "from selenium.webdriver.support.ui import Select\n",
    "from selenium.webdriver.support.ui import WebDriverWait\n",
    "from selenium.webdriver.support import expected_conditions as EC\n",
    "from selenium.webdriver.common.by import By\n",
    "from bs4 import BeautifulSoup\n",
    "from selenium.webdriver.chrome.service import Service\n",
    "from webdriver_manager.chrome import ChromeDriverManager\n",
    "import pandas as pd\n",
    "\n",
    "# Proxy configuration\n",
    "PROXY = \"127.0.0.1:24000\"\n",
    "# Path to chromedriver executable\n",
    "PATH = \"/opt/homebrew/Caskroom/chromedriver/121.0.6167.85/chromedriver-mac-arm64/chromedriver\"\n",
    "\n",
    "chrome_options = webdriver.ChromeOptions()\n",
    "chrome_options.add_argument('--proxy-server=%s' % PROXY)\n",
    "\n",
    "\n",
    "# Initialize Chrome WebDriver with the specified path and options\n",
    "# service = Service(PATH)\n",
    "\n",
    "# player_ids = ['677950', '572233', '682998', '666150', '656896', '553993', '672515', '672695', '607054', '664983', '645444', '606466', '666971', '656976', '592626']\n",
    "timeout = 25\n",
    "mlb_seasons = ['2023', '2022', '2021']\n",
    "player_ids = ['677950']"
   ]
  },
  {
   "cell_type": "code",
   "execution_count": 2,
   "id": "682db800-4a45-41dc-8f1c-6c694d39fcdd",
   "metadata": {},
   "outputs": [],
   "source": [
    "driver = webdriver.Chrome(service=Service(ChromeDriverManager().install()), options=chrome_options)"
   ]
  },
  {
   "cell_type": "code",
   "execution_count": 3,
   "id": "e9e2d426-fe53-4a31-b3fc-3ced412596c0",
   "metadata": {},
   "outputs": [
    {
     "ename": "UnexpectedTagNameException",
     "evalue": "Message: Select only works on <select> elements, not on div\n",
     "output_type": "error",
     "traceback": [
      "\u001b[0;31m---------------------------------------------------------------------------\u001b[0m",
      "\u001b[0;31mUnexpectedTagNameException\u001b[0m                Traceback (most recent call last)",
      "Cell \u001b[0;32mIn[3], line 14\u001b[0m\n\u001b[1;32m     11\u001b[0m parser \u001b[38;5;241m=\u001b[39m BeautifulSoup(src, \u001b[38;5;124m\"\u001b[39m\u001b[38;5;124mlxml\u001b[39m\u001b[38;5;124m\"\u001b[39m)\n\u001b[1;32m     12\u001b[0m table \u001b[38;5;241m=\u001b[39m parser\u001b[38;5;241m.\u001b[39mfind(\u001b[38;5;124m\"\u001b[39m\u001b[38;5;124mdiv\u001b[39m\u001b[38;5;124m\"\u001b[39m, attrs \u001b[38;5;241m=\u001b[39m {\u001b[38;5;124m\"\u001b[39m\u001b[38;5;124mid\u001b[39m\u001b[38;5;124m\"\u001b[39m: \u001b[38;5;124m\"\u001b[39m\u001b[38;5;124mpitchTable\u001b[39m\u001b[38;5;124m\"\u001b[39m})\n\u001b[0;32m---> 14\u001b[0m playerName \u001b[38;5;241m=\u001b[39m \u001b[43mSelect\u001b[49m\u001b[43m(\u001b[49m\u001b[43mdriver\u001b[49m\u001b[38;5;241;43m.\u001b[39;49m\u001b[43mfind_element\u001b[49m\u001b[43m(\u001b[49m\u001b[43mBy\u001b[49m\u001b[38;5;241;43m.\u001b[39;49m\u001b[43mXPATH\u001b[49m\u001b[43m,\u001b[49m\u001b[43m \u001b[49m\u001b[38;5;124;43mr\u001b[39;49m\u001b[38;5;124;43m'\u001b[39;49m\u001b[38;5;124;43m//*[@id=\u001b[39;49m\u001b[38;5;124;43m\"\u001b[39;49m\u001b[38;5;124;43mplayer-info-header\u001b[39;49m\u001b[38;5;124;43m\"\u001b[39;49m\u001b[38;5;124;43m]/div[1]/div/div[1]\u001b[39;49m\u001b[38;5;124;43m'\u001b[39;49m\u001b[43m)\u001b[49m\u001b[43m)\u001b[49m\n\u001b[1;32m     15\u001b[0m headers \u001b[38;5;241m=\u001b[39m table\u001b[38;5;241m.\u001b[39mfindAll(\u001b[38;5;124m'\u001b[39m\u001b[38;5;124mth\u001b[39m\u001b[38;5;124m'\u001b[39m)\n\u001b[1;32m     16\u001b[0m headerlist \u001b[38;5;241m=\u001b[39m [h\u001b[38;5;241m.\u001b[39mtext\u001b[38;5;241m.\u001b[39mstrip() \u001b[38;5;28;01mfor\u001b[39;00m h \u001b[38;5;129;01min\u001b[39;00m headers[:]]\n",
      "File \u001b[0;32m~/anaconda3/envs/lo-env/lib/python3.12/site-packages/selenium/webdriver/support/select.py:39\u001b[0m, in \u001b[0;36mSelect.__init__\u001b[0;34m(self, webelement)\u001b[0m\n\u001b[1;32m     28\u001b[0m \u001b[38;5;250m\u001b[39m\u001b[38;5;124;03m\"\"\"Constructor. A check is made that the given element is, indeed, a\u001b[39;00m\n\u001b[1;32m     29\u001b[0m \u001b[38;5;124;03mSELECT tag. If it is not, then an UnexpectedTagNameException is thrown.\u001b[39;00m\n\u001b[1;32m     30\u001b[0m \n\u001b[0;32m   (...)\u001b[0m\n\u001b[1;32m     36\u001b[0m \u001b[38;5;124;03m    Select(driver.find_element(By.TAG_NAME, \"select\")).select_by_index(2)\u001b[39;00m\n\u001b[1;32m     37\u001b[0m \u001b[38;5;124;03m\"\"\"\u001b[39;00m\n\u001b[1;32m     38\u001b[0m \u001b[38;5;28;01mif\u001b[39;00m webelement\u001b[38;5;241m.\u001b[39mtag_name\u001b[38;5;241m.\u001b[39mlower() \u001b[38;5;241m!=\u001b[39m \u001b[38;5;124m\"\u001b[39m\u001b[38;5;124mselect\u001b[39m\u001b[38;5;124m\"\u001b[39m:\n\u001b[0;32m---> 39\u001b[0m     \u001b[38;5;28;01mraise\u001b[39;00m UnexpectedTagNameException(\u001b[38;5;124mf\u001b[39m\u001b[38;5;124m\"\u001b[39m\u001b[38;5;124mSelect only works on <select> elements, not on \u001b[39m\u001b[38;5;132;01m{\u001b[39;00mwebelement\u001b[38;5;241m.\u001b[39mtag_name\u001b[38;5;132;01m}\u001b[39;00m\u001b[38;5;124m\"\u001b[39m)\n\u001b[1;32m     40\u001b[0m \u001b[38;5;28mself\u001b[39m\u001b[38;5;241m.\u001b[39m_el \u001b[38;5;241m=\u001b[39m webelement\n\u001b[1;32m     41\u001b[0m multi \u001b[38;5;241m=\u001b[39m \u001b[38;5;28mself\u001b[39m\u001b[38;5;241m.\u001b[39m_el\u001b[38;5;241m.\u001b[39mget_dom_attribute(\u001b[38;5;124m\"\u001b[39m\u001b[38;5;124mmultiple\u001b[39m\u001b[38;5;124m\"\u001b[39m)\n",
      "\u001b[0;31mUnexpectedTagNameException\u001b[0m: Message: Select only works on <select> elements, not on div\n"
     ]
    }
   ],
   "source": [
    "from player in players:\n",
    "\n",
    "    url = f\"https://baseballsavant.mlb.com/savant-player/{shohei-ohtani-660271}?stats=statcast-r-hitting-mlb\"\n",
    "    driver.get(url)\n",
    "\n",
    "    pitches = Select(driver.find_element(By.XPATH, r'//*[@id=\"pitchChartBreakdown\"]'))\n",
    "    pitches.select_by_index(0)\n",
    "\n",
    "    handedness = Select(driver.find_element(By.XPATH, r'//*[@id=\"pitchChartHandedness\"]'))\n",
    "    handedness.select_by_index(1)\n",
    "\n",
    "    src = driver.page_source\n",
    "    parser = BeautifulSoup(src, \"lxml\")\n",
    "    table = parser.find(\"div\", attrs = {\"id\": \"pitchTable\"})\n",
    "\n",
    "    headers = table.findAll('th')\n",
    "    headerlist = [h.text.strip() for h in headers[:]]\n",
    "\n",
    "    playerName = parser.find(\"div\", attrs = {\"class\": \"bio-player-name\"})\n"
   ]
  },
  {
   "cell_type": "code",
   "execution_count": null,
   "id": "6c9a807b-5b3c-4554-bc18-8b48be5c7e82",
   "metadata": {},
   "outputs": [],
   "source": [
    "headerlist.insert(0, 'Name')"
   ]
  },
  {
   "cell_type": "code",
   "execution_count": null,
   "id": "8b40a1d0-c90c-42ad-bd91-4c560a6d8951",
   "metadata": {},
   "outputs": [],
   "source": [
    "rows = table.findAll('tr')[1:]\n",
    "player_stats = [[td.getText().strip() for td in rows[i].findAll('td')] for i in range(len(rows))]\n",
    "\n",
    "for player in player_stats:\n",
    "    player.insert(0, playerName.first_selected_option.text)\n"
   ]
  },
  {
   "cell_type": "code",
   "execution_count": null,
   "id": "18aa6e19-246c-4d9b-ab63-c27cd8a35313",
   "metadata": {},
   "outputs": [],
   "source": [
    "range(len(rows))"
   ]
  },
  {
   "cell_type": "code",
   "execution_count": null,
   "id": "a278ffba-4ded-411a-9916-358b143adb32",
   "metadata": {},
   "outputs": [],
   "source": [
    "player_stats"
   ]
  },
  {
   "cell_type": "code",
   "execution_count": 4,
   "id": "3153a458-8403-43b3-9382-1fcde78d0308",
   "metadata": {},
   "outputs": [],
   "source": [
    "playerName = parser.find(\"div\", attrs = {\"class\": \"bio-player-name\"})"
   ]
  },
  {
   "cell_type": "code",
   "execution_count": 6,
   "id": "35ada7f5-95ea-464c-bfb7-1559af630571",
   "metadata": {},
   "outputs": [
    {
     "data": {
      "text/plain": [
       "'Paul Goldschmidt\\n\\n                            1B | Bats/Throws:\\n                            R/R |\\n                            6\\' 3\" 220LBS | Age:\\n                            36\\n                        \\n\\n                            Draft: 2009 | Rd: 8, #246, Arizona Diamondbacks | Texas State \\n                        \\n\\n\\n\\n\\n\\n\\nPA\\nAB\\nR\\nH\\nHR\\nSB\\nAVG\\nOBP\\nSLG\\nOPS\\n\\n\\n\\n\\n2021\\n679\\n603\\n102\\n177\\n31\\n12\\n.294\\n.365\\n.514\\n.879\\n\\n\\n2022\\n651\\n561\\n106\\n178\\n35\\n7\\n.317\\n.404\\n.578\\n.982\\n\\n\\n2023\\n687\\n593\\n89\\n159\\n25\\n11\\n.268\\n.363\\n.447\\n.810\\n\\n\\n13 Seasons\\n7,638\\n6,520\\n1,134\\n1,909\\n340\\n158\\n.293\\n.388\\n.519\\n.907\\n\\n\\n\\n\\n\\n\\n\\n\\n\\nAVG\\nHR\\nSB\\nOPS\\n\\n\\n\\n\\n2021\\n.294\\n31\\n12\\n.879\\n\\n\\n2022\\n.317\\n35\\n7\\n.982\\n\\n\\n2023\\n.268\\n25\\n11\\n.810\\n\\n\\n13 Seasons\\n.293\\n340\\n158\\n.907\\n\\n\\n\\n\\n\\n\\nPlayer Apps\\n\\nillustrator\\nPitch\\xa0Highlighter\\nInfield\\xa0Defense\\nPlayer\\xa0Comparison\\nPlayer\\xa0Similarity\\nRandom\\xa0Video\\nShifts\\nSwing\\xa0Take\\xa0Profile\\nTransaction History\\nZone\\xa0Swing\\xa0Profile'"
      ]
     },
     "execution_count": 6,
     "metadata": {},
     "output_type": "execute_result"
    }
   ],
   "source": [
    "playerName.text.strip()"
   ]
  },
  {
   "cell_type": "code",
   "execution_count": 7,
   "id": "199b196e-9ff1-42b5-ac88-7df7adc43458",
   "metadata": {},
   "outputs": [],
   "source": [
    "driver.quit()"
   ]
  }
 ],
 "metadata": {
  "kernelspec": {
   "display_name": "Python 3 (ipykernel)",
   "language": "python",
   "name": "python3"
  },
  "language_info": {
   "codemirror_mode": {
    "name": "ipython",
    "version": 3
   },
   "file_extension": ".py",
   "mimetype": "text/x-python",
   "name": "python",
   "nbconvert_exporter": "python",
   "pygments_lexer": "ipython3",
   "version": "3.12.0"
  }
 },
 "nbformat": 4,
 "nbformat_minor": 5
}
