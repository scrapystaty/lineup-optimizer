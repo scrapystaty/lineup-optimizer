{
 "cells": [
  {
   "cell_type": "code",
   "execution_count": 1,
   "id": "cd51cb0d-772d-406b-b85f-cf37e372061c",
   "metadata": {},
   "outputs": [],
   "source": [
    "from selenium import webdriver\n",
    "from selenium.webdriver.support.ui import Select\n",
    "from selenium.webdriver.support.ui import WebDriverWait\n",
    "from selenium.webdriver.support import expected_conditions as EC\n",
    "from selenium.webdriver.common.by import By\n",
    "from bs4 import BeautifulSoup\n",
    "from selenium.webdriver.chrome.service import Service\n",
    "from webdriver_manager.chrome import ChromeDriverManager\n",
    "import pandas as pd\n",
    "\n",
    "# Proxy configuration\n",
    "PROXY = \"127.0.0.1:24000\"\n",
    "# Path to chromedriver executable\n",
    "PATH = \"/opt/homebrew/Caskroom/chromedriver/121.0.6167.85/chromedriver-mac-arm64/chromedriver\"\n",
    "\n",
    "chrome_options = webdriver.ChromeOptions()\n",
    "chrome_options.add_argument('--proxy-server=%s' % PROXY)\n",
    "\n",
    "# player_ids = ['677950', '572233', '682998', '666150', '656896', '553993', '672515', '672695', '607054', '664983', '645444', '606466', '666971', '656976', '592626']\n",
    "timeout = 25\n",
    "mlb_seasons = ['2023', '2022', '2021']\n",
    "player_ids = [['dbacks', 'Pavin Smith', 'pavin-smith-656976'], ['dbacks', 'Alek Thomas', 'alek-thomas-677950']]"
   ]
  },
  {
   "cell_type": "code",
   "execution_count": 2,
   "id": "682db800-4a45-41dc-8f1c-6c694d39fcdd",
   "metadata": {},
   "outputs": [],
   "source": [
    "driver = webdriver.Chrome(service=Service(ChromeDriverManager().install()), options=chrome_options)"
   ]
  },
  {
   "cell_type": "code",
   "execution_count": 3,
   "id": "e9e2d426-fe53-4a31-b3fc-3ced412596c0",
   "metadata": {},
   "outputs": [],
   "source": [
    "for player in player_ids:\n",
    "    \n",
    "    url = f\"https://baseballsavant.mlb.com/savant-player/{player[-1]}?stats=statcast-r-hitting-mlb\"\n",
    "    driver.get(url)\n",
    "\n",
    "    pitches = Select(driver.find_element(By.XPATH, r'//*[@id=\"pitchChartBreakdown\"]'))\n",
    "    pitches.select_by_index(0)\n",
    "\n",
    "    handedness = Select(driver.find_element(By.XPATH, r'//*[@id=\"pitchChartHandedness\"]'))\n",
    "    handedness.select_by_index(1)\n",
    "\n",
    "    src = driver.page_source\n",
    "    parser = BeautifulSoup(src, \"lxml\")\n",
    "    table = parser.find(\"div\", attrs = {\"id\": \"pitchTable\"})\n",
    "\n",
    "    headers = table.findAll('th')\n",
    "    headerlist = [h.text.strip() for h in headers[:]]\n",
    "\n",
    "    playerName = parser.find(\"div\", attrs = {\"class\": \"bio-player-name\"})\n"
   ]
  },
  {
   "cell_type": "code",
   "execution_count": null,
   "id": "6c9a807b-5b3c-4554-bc18-8b48be5c7e82",
   "metadata": {},
   "outputs": [],
   "source": [
    "headerlist.insert(0, 'Name')"
   ]
  },
  {
   "cell_type": "code",
   "execution_count": null,
   "id": "8b40a1d0-c90c-42ad-bd91-4c560a6d8951",
   "metadata": {},
   "outputs": [],
   "source": [
    "rows = table.findAll('tr')[1:]\n",
    "player_stats = [[td.getText().strip() for td in rows[i].findAll('td')] for i in range(len(rows))]\n",
    "\n",
    "for player in player_stats:\n",
    "    player.insert(0, playerName.first_selected_option.text)\n"
   ]
  },
  {
   "cell_type": "code",
   "execution_count": null,
   "id": "18aa6e19-246c-4d9b-ab63-c27cd8a35313",
   "metadata": {},
   "outputs": [],
   "source": [
    "range(len(rows))"
   ]
  },
  {
   "cell_type": "code",
   "execution_count": null,
   "id": "a278ffba-4ded-411a-9916-358b143adb32",
   "metadata": {},
   "outputs": [],
   "source": [
    "player_stats"
   ]
  },
  {
   "cell_type": "code",
   "execution_count": null,
   "id": "3153a458-8403-43b3-9382-1fcde78d0308",
   "metadata": {},
   "outputs": [],
   "source": []
  },
  {
   "cell_type": "code",
   "execution_count": null,
   "id": "35ada7f5-95ea-464c-bfb7-1559af630571",
   "metadata": {},
   "outputs": [],
   "source": []
  },
  {
   "cell_type": "code",
   "execution_count": 4,
   "id": "199b196e-9ff1-42b5-ac88-7df7adc43458",
   "metadata": {},
   "outputs": [],
   "source": [
    "driver.quit()"
   ]
  }
 ],
 "metadata": {
  "kernelspec": {
   "display_name": "Python 3 (ipykernel)",
   "language": "python",
   "name": "python3"
  },
  "language_info": {
   "codemirror_mode": {
    "name": "ipython",
    "version": 3
   },
   "file_extension": ".py",
   "mimetype": "text/x-python",
   "name": "python",
   "nbconvert_exporter": "python",
   "pygments_lexer": "ipython3",
   "version": "3.12.0"
  }
 },
 "nbformat": 4,
 "nbformat_minor": 5
}
