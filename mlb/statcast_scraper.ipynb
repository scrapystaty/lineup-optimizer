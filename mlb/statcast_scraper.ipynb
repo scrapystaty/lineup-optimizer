{
 "cells": [
  {
   "cell_type": "code",
   "execution_count": null,
   "id": "d00b6014-3bf7-45d1-b784-8b1a434757aa",
   "metadata": {},
   "outputs": [],
   "source": [
    "from selenium import webdriver\n",
    "from selenium.webdriver.support.ui import Select\n",
    "from selenium.webdriver.support.ui import WebDriverWait\n",
    "from selenium.webdriver.support import expected_conditions as EC\n",
    "from selenium.webdriver.common.by import By\n",
    "from bs4 import BeautifulSoup\n",
    "from selenium.webdriver.chrome.service import Service\n",
    "from webdriver_manager.chrome import ChromeDriverManager\n",
    "import pandas as pd\n",
    "\n",
    "# Proxy configuration\n",
    "PROXY = \"127.0.0.1:24000\"\n",
    "# Path to chromedriver executable\n",
    "PATH = \"/opt/homebrew/Caskroom/chromedriver/121.0.6167.85/chromedriver-mac-arm64/chromedriver\"\n",
    "\n",
    "chrome_options = webdriver.ChromeOptions()\n",
    "chrome_options.add_argument('--proxy-server=%s' % PROXY)\n",
    "\n",
    "# Initialize Chrome WebDriver with the specified path and options\n",
    "service = Service(PATH)\n",
    "# chrome = webdriver.Chrome(service=service, options=chrome_options)\n",
    "\n",
    "# player_ids = ['677950', '572233', '682998', '666150', '656896', '553993', '672515', '672695', '607054', '664983', '645444', '606466', '666971', '656976', '592626']\n",
    "timeout = 25\n",
    "mlb_seasons = ['2023', '2022', '2021']\n",
    "player_ids = ['677950']"
   ]
  },
  {
   "cell_type": "code",
   "execution_count": null,
   "id": "e9cb3311-e4b2-457e-929e-0441974d0f77",
   "metadata": {},
   "outputs": [],
   "source": [
    "driver = webdriver.Chrome(service=Service(ChromeDriverManager().install()), options=chrome_options)"
   ]
  },
  {
   "cell_type": "code",
   "execution_count": null,
   "id": "4c7e4c9a-39a3-4050-b8d1-ee8a369c7406",
   "metadata": {},
   "outputs": [],
   "source": [
    "url = r\"https://baseballsavant.mlb.com/visuals/statcast-pitch-highlighter?playerId=502671&type=&batHand=&pitchHand=&pitchType=&year=2023&zone=\"\n",
    "driver.get(url)\n",
    "\n",
    "element_present = EC.presence_of_element_located((By.XPATH, r'//*[@id=\"ddlPitchTypes\"]'))\n",
    "WebDriverWait(driver, timeout).until(element_present)\n",
    "\n",
    "headers_present = EC.presence_of_element_located((By.XPATH, r'//*[@id=\"calculations\"]/table/thead/tr'))\n",
    "WebDriverWait(driver, timeout).until(headers_present)\n",
    "\n",
    "select = Select(driver.find_element(By.XPATH, r'//*[@id=\"ddlPitchTypes\"]'))\n",
    "select.select_by_index(0)\n",
    "pitchType = select.first_selected_option.text\n",
    "src = driver.page_source\n",
    "parser = BeautifulSoup(src, \"lxml\")\n",
    "table = parser.find(\"div\", attrs = {\"id\": \"calculations\"})\n",
    "headers = table.findAll('th')\n",
    "headerlist = [h.text.strip() for h in headers[:]]\n",
    "headerlist[0] = \"Name\"\n",
    "\n",
    "stats = pd.DataFrame(columns=headerlist)"
   ]
  },
  {
   "cell_type": "code",
   "execution_count": null,
   "id": "2b68470d-fc0f-4c01-8675-4449441af434",
   "metadata": {},
   "outputs": [],
   "source": [
    "for player in player_ids:\n",
    "    for season in mlb_seasons:\n",
    "        for i in range(len(select.options)):\n",
    "            url = f\"https://baseballsavant.mlb.com/visuals/statcast-pitch-highlighter?playerId={player}&type=&batHand=&pitchHand=&pitchType=&year={season}&zone=\"\n",
    "            driver.get(url)\n",
    "\n",
    "            element_present = EC.presence_of_element_located((By.XPATH, r'//*[@id=\"ddlPitchTypes\"]'))\n",
    "            WebDriverWait(driver, timeout).until(element_present)\n",
    "\n",
    "            data_present = EC.presence_of_element_located((By.XPATH, r'//*[@id=\"calculations-tr_0\"]'))\n",
    "            WebDriverWait(driver, timeout).until(data_present)\n",
    "            \n",
    "            select = Select(driver.find_element(By.XPATH, r'//*[@id=\"ddlPitchTypes\"]'))\n",
    "            select.select_by_index(f\"{i}\")\n",
    "\n",
    "            pitches_present = EC.presence_of_element_located((By.XPATH, r'//*[@id=\"viz\"]/div[2]/h6/h6'))\n",
    "            WebDriverWait(driver, timeout).until(pitches_present)\n",
    "            pitches_message = driver.find_element(By.XPATH, r'//*[@id=\"viz\"]/div[2]/h6/h6').text\n",
    "            if pitches_message == 'No Data Found':\n",
    "                break\n",
    "                \n",
    "            pitchType = select.first_selected_option.text\n",
    "            src = driver.page_source\n",
    "            parser = BeautifulSoup(src, \"lxml\")\n",
    "            table = parser.find(\"div\", attrs = {\"id\": \"calculations\"})\n",
    "            headers = table.findAll('th')\n",
    "            headerlist = [h.text.strip() for h in headers[:]]\n",
    "            headerlist[0] = \"Name\"\n",
    "            rows = table.findAll('tr')[1:]\n",
    "            player_stats = [[td.getText().strip() for td in rows[i].findAll('td')] for i in range(len(rows))]\n",
    "            if player_stats[0][4] == \"\": player_stats[0][4] = pitchType\n",
    "            if player_stats[0][1] == \"\": player_stats[0][1] = season\n",
    "\n",
    "            stats2 = pd.DataFrame(player_stats, columns=headerlist)\n",
    "            stats = pd.concat([stats,stats2], ignore_index=True)\n",
    "\n",
    "driver.quit()"
   ]
  },
  {
   "cell_type": "code",
   "execution_count": null,
   "id": "b8cb2707-3f37-4f91-8ecc-954ef1170356",
   "metadata": {},
   "outputs": [],
   "source": [
    "stats"
   ]
  },
  {
   "cell_type": "code",
   "execution_count": null,
   "id": "a73fb653-dfc1-4147-9a92-c60eb19b17a2",
   "metadata": {},
   "outputs": [],
   "source": []
  },
  {
   "cell_type": "code",
   "execution_count": 1,
   "id": "d632188d-ed86-4ec5-bd81-f912ecac9b0d",
   "metadata": {},
   "outputs": [],
   "source": [
    "from selenium import webdriver\n",
    "from selenium.webdriver.support.ui import Select\n",
    "from selenium.webdriver.support.ui import WebDriverWait\n",
    "from selenium.webdriver.support import expected_conditions as EC\n",
    "from selenium.webdriver.common.by import By\n",
    "from bs4 import BeautifulSoup\n",
    "from selenium.webdriver.chrome.service import Service\n",
    "from webdriver_manager.chrome import ChromeDriverManager\n",
    "import pandas as pd"
   ]
  },
  {
   "cell_type": "code",
   "execution_count": 2,
   "id": "7be26d1e-6909-4475-8c2c-85ce06751c38",
   "metadata": {},
   "outputs": [],
   "source": [
    "# Proxy configuration\n",
    "PROXY = \"127.0.0.1:24000\"\n",
    "# Path to chromedriver executable\n",
    "PATH = \"/opt/homebrew/Caskroom/chromedriver/121.0.6167.85/chromedriver-mac-arm64/chromedriver\"\n",
    "\n",
    "chrome_options = webdriver.ChromeOptions()\n",
    "chrome_options.add_argument('--proxy-server=%s' % PROXY)\n",
    "\n",
    "# Initialize Chrome WebDriver with the specified path and options\n",
    "service = Service(PATH)\n",
    "\n",
    "timeout = 25\n",
    "teams = [\"dbacks\", \"braves\", \"orioles\", \"redsox\", \"cubs\", \"whitesox\", \"reds\", \"guardians\", \"rockies\", \"tigers\", \"astros\", \"royals\", \"angels\", \"dodgers\", \"marlins\", \"brewers\", \"twins\", \"mets\", \"yankees\", \"athletics\", \"phillies\", \"rays\", \"rangers\", \"bluejays\", \"rangers\", \"nationals\"]\n",
    "teams = [\"dbacks\"]\n",
    "\n",
    "players = []\n",
    "position = ''"
   ]
  },
  {
   "cell_type": "code",
   "execution_count": 3,
   "id": "22877a1d-e91b-4f97-94d7-c4a861a02140",
   "metadata": {},
   "outputs": [],
   "source": [
    "# Setting up WebDriver\n",
    "driver = webdriver.Chrome(service=Service(ChromeDriverManager().install()), options=chrome_options)"
   ]
  },
  {
   "cell_type": "code",
   "execution_count": 4,
   "id": "32e7ca4a-83a0-4f4f-a2a3-771df54e0168",
   "metadata": {},
   "outputs": [],
   "source": [
    "for team in teams:\n",
    "    # Accessing the URL\n",
    "    url = f\"https://www.mlb.com/{team}/roster\"\n",
    "    driver.get(url)\n",
    "\n",
    "    # Getting the page source\n",
    "    src = driver.page_source\n",
    "    parser = BeautifulSoup(src, \"lxml\")\n",
    "\n",
    "    # Finding the table containing players\n",
    "    table = parser.find(\"div\", attrs = {\"class\": \"players\"})\n",
    "\n",
    "    # Getting all 'tr' elements, excluding the first one \n",
    "    rows = table.findAll('tr')[:]\n",
    "    \n",
    "    # Extracting player information\n",
    "    for row in rows:\n",
    "        positionI = row.find('td', attrs = {\"colspan\": '2'})\n",
    "        if positionI:\n",
    "            position = positionI.get_text()\n",
    "            position = position[:len(position)-1]\n",
    "            \n",
    "        player_info = []\n",
    "        for a in row.find_all('a'):\n",
    "            player_info.append(team)\n",
    "            player_info.append(a.getText().strip())\n",
    "            player_info.append(a.attrs.get('href', 'Not found'))\n",
    "            player_info.append(position)\n",
    "        if player_info !=  []:\n",
    "            players.append(player_info)\n",
    "    "
   ]
  },
  {
   "cell_type": "code",
   "execution_count": 5,
   "id": "e6ca93d2-2239-41ea-a9de-5e7800e1d3ae",
   "metadata": {},
   "outputs": [],
   "source": [
    "driver.quit()"
   ]
  },
  {
   "cell_type": "code",
   "execution_count": 6,
   "id": "62640f34-4899-4e58-958b-01bbb91104f4",
   "metadata": {},
   "outputs": [
    {
     "data": {
      "text/plain": [
       "[['dbacks', 'Miguel Castro', '/player/miguel-castro-612434', 'Pitcher'],\n",
       " ['dbacks', 'Slade Cecconi', '/player/slade-cecconi-677944', 'Pitcher'],\n",
       " ['dbacks', 'Luis Frías', '/player/luis-frías-666818', 'Pitcher'],\n",
       " ['dbacks', 'Zac Gallen', '/player/zac-gallen-668678', 'Pitcher'],\n",
       " ['dbacks', 'Kevin Ginkel', '/player/kevin-ginkel-656464', 'Pitcher'],\n",
       " ['dbacks', 'Tommy Henry', '/player/tommy-henry-674072', 'Pitcher'],\n",
       " ['dbacks', 'Drey Jameson', '/player/drey-jameson-686753', 'Pitcher'],\n",
       " ['dbacks', 'Bryce Jarvis', '/player/bryce-jarvis-686826', 'Pitcher'],\n",
       " ['dbacks', 'Merrill Kelly', '/player/merrill-kelly-518876', 'Pitcher'],\n",
       " ['dbacks', 'Joe Mantiply', '/player/joe-mantiply-573009', 'Pitcher'],\n",
       " ['dbacks', 'Corbin Martin', '/player/corbin-martin-656686', 'Pitcher'],\n",
       " ['dbacks', 'Justin Martinez', '/player/justin-martinez-679885', 'Pitcher'],\n",
       " ['dbacks', 'Scott McGough', '/player/scott-mcgough-543518', 'Pitcher'],\n",
       " ['dbacks', 'Ryne Nelson', '/player/ryne-nelson-669194', 'Pitcher'],\n",
       " ['dbacks', 'Kyle Nelson', '/player/kyle-nelson-669459', 'Pitcher'],\n",
       " ['dbacks', 'Brandon Pfaadt', '/player/brandon-pfaadt-694297', 'Pitcher'],\n",
       " ['dbacks',\n",
       "  'Eduardo Rodriguez',\n",
       "  '/player/eduardo-rodriguez-593958',\n",
       "  'Pitcher'],\n",
       " ['dbacks', 'Andrew Saalfrank', '/player/andrew-saalfrank-685314', 'Pitcher'],\n",
       " ['dbacks', 'Paul Sewald', '/player/paul-sewald-623149', 'Pitcher'],\n",
       " ['dbacks', 'Peter Strzelecki', '/player/peter-strzelecki-657265', 'Pitcher'],\n",
       " ['dbacks', 'Ryan Thompson', '/player/ryan-thompson-657044', 'Pitcher'],\n",
       " ['dbacks', 'Blake Walston', '/player/blake-walston-686796', 'Pitcher'],\n",
       " ['dbacks', 'Jose Herrera', '/player/jose-herrera-645444', 'Catcher'],\n",
       " ['dbacks', 'Gabriel Moreno', '/player/gabriel-moreno-672515', 'Catcher'],\n",
       " ['dbacks', 'Blaze Alexander', '/player/blaze-alexander-677942', 'Infielder'],\n",
       " ['dbacks', 'Jordan Lawlar', '/player/jordan-lawlar-691783', 'Infielder'],\n",
       " ['dbacks', 'Ketel Marte', '/player/ketel-marte-606466', 'Infielder'],\n",
       " ['dbacks', 'Geraldo Perdomo', '/player/geraldo-perdomo-672695', 'Infielder'],\n",
       " ['dbacks', 'Jace Peterson', '/player/jace-peterson-607054', 'Infielder'],\n",
       " ['dbacks', 'Emmanuel Rivera', '/player/emmanuel-rivera-656896', 'Infielder'],\n",
       " ['dbacks', 'Eugenio Suárez', '/player/eugenio-suárez-553993', 'Infielder'],\n",
       " ['dbacks',\n",
       "  'Christian Walker',\n",
       "  '/player/christian-walker-572233',\n",
       "  'Infielder'],\n",
       " ['dbacks', 'Jorge Barrosa', '/player/jorge-barrosa-678489', 'Outfielder'],\n",
       " ['dbacks', 'Corbin Carroll', '/player/corbin-carroll-682998', 'Outfielder'],\n",
       " ['dbacks',\n",
       "  'Dominic Fletcher',\n",
       "  '/player/dominic-fletcher-666150',\n",
       "  'Outfielder'],\n",
       " ['dbacks',\n",
       "  'Lourdes Gurriel Jr.',\n",
       "  '/player/lourdes-gurriel-jr-666971',\n",
       "  'Outfielder'],\n",
       " ['dbacks', 'Jake McCarthy', '/player/jake-mccarthy-664983', 'Outfielder'],\n",
       " ['dbacks', 'Joc Pederson', '/player/joc-pederson-592626', 'Outfielder'],\n",
       " ['dbacks', 'Pavin Smith', '/player/pavin-smith-656976', 'Outfielder'],\n",
       " ['dbacks', 'Alek Thomas', '/player/alek-thomas-677950', 'Outfielder']]"
      ]
     },
     "execution_count": 6,
     "metadata": {},
     "output_type": "execute_result"
    }
   ],
   "source": [
    "players"
   ]
  },
  {
   "cell_type": "code",
   "execution_count": null,
   "id": "dbb60063-112b-4aec-9bec-351bb08ca67c",
   "metadata": {},
   "outputs": [],
   "source": [
    "for row in rows:\n",
    "    positionI = row.find('td', attrs = {\"colspan\": '2'})\n",
    "    # print(positionI)\n",
    "    if positionI:\n",
    "        position = positionI.get_text()\n",
    "        position = position[:len(position)-1]\n",
    "    "
   ]
  },
  {
   "cell_type": "code",
   "execution_count": 7,
   "id": "09156ad2-e3aa-415b-8ef1-f7561ba837cf",
   "metadata": {},
   "outputs": [
    {
     "data": {
      "text/plain": [
       "'Outfielder'"
      ]
     },
     "execution_count": 7,
     "metadata": {},
     "output_type": "execute_result"
    }
   ],
   "source": [
    "position"
   ]
  },
  {
   "cell_type": "code",
   "execution_count": null,
   "id": "e8d8627a-cb60-489f-ae0f-cc3e904efd53",
   "metadata": {},
   "outputs": [],
   "source": []
  }
 ],
 "metadata": {
  "kernelspec": {
   "display_name": "Python 3 (ipykernel)",
   "language": "python",
   "name": "python3"
  },
  "language_info": {
   "codemirror_mode": {
    "name": "ipython",
    "version": 3
   },
   "file_extension": ".py",
   "mimetype": "text/x-python",
   "name": "python",
   "nbconvert_exporter": "python",
   "pygments_lexer": "ipython3",
   "version": "3.12.0"
  }
 },
 "nbformat": 4,
 "nbformat_minor": 5
}
