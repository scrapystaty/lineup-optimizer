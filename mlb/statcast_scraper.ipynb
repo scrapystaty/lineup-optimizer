{
 "cells": [
  {
   "cell_type": "code",
   "execution_count": null,
   "id": "79027eed-fb31-4348-9c30-ec692237d505",
   "metadata": {},
   "outputs": [],
   "source": [
    "from selenium import webdriver\n",
    "from selenium.webdriver.support.ui import Select\n",
    "from selenium.webdriver.support.ui import WebDriverWait\n",
    "from selenium.webdriver.support import expected_conditions as EC\n",
    "from selenium.webdriver.common.by import By\n",
    "from bs4 import BeautifulSoup\n",
    "import pandas as pd\n",
    "player_ids = []"
   ]
  },
  {
   "cell_type": "code",
   "execution_count": null,
   "id": "4941f0ca-5cbb-4845-87e3-d52bbfd49936",
   "metadata": {},
   "outputs": [],
   "source": [
    "driver = webdriver.Firefox()"
   ]
  },
  {
   "cell_type": "code",
   "execution_count": null,
   "id": "85b85a57-2586-408c-a668-490e03bd5e22",
   "metadata": {},
   "outputs": [],
   "source": [
    "url = r\"https://baseballsavant.mlb.com/visuals/statcast-pitch-highlighter?playerId=660670&type=&batHand=&pitchHand=&pitchType=&year=2023&zone=\""
   ]
  },
  {
   "cell_type": "code",
   "execution_count": null,
   "id": "20fc5b79-037a-45cb-afb0-95fb1c114e69",
   "metadata": {},
   "outputs": [],
   "source": [
    "driver.get(url)"
   ]
  },
  {
   "cell_type": "code",
   "execution_count": null,
   "id": "6ec4dbca-a7e3-41cd-a927-9e821d7ce8cb",
   "metadata": {},
   "outputs": [],
   "source": [
    "select = Select(driver.find_element(By.XPATH,r\"/html/body/div[2]/div/div/div[3]/div[1]/form/div[4]/div/select\"))"
   ]
  },
  {
   "cell_type": "code",
   "execution_count": null,
   "id": "04fcf4aa-3945-4102-b29a-1637b44004bc",
   "metadata": {},
   "outputs": [],
   "source": [
    "select.select_by_index(0)"
   ]
  },
  {
   "cell_type": "code",
   "execution_count": null,
   "id": "e09fdc76-e01e-4660-811e-642614c291f1",
   "metadata": {},
   "outputs": [],
   "source": []
  },
  {
   "cell_type": "code",
   "execution_count": null,
   "id": "dc49cbd0-cbda-4cd6-9091-c0f43865ba79",
   "metadata": {},
   "outputs": [],
   "source": [
    "pitchType = select.first_selected_option.text"
   ]
  },
  {
   "cell_type": "code",
   "execution_count": null,
   "id": "5b731e12-591d-4e59-a5f5-78328dd37684",
   "metadata": {},
   "outputs": [],
   "source": [
    "print(pitchType)"
   ]
  },
  {
   "cell_type": "code",
   "execution_count": null,
   "id": "f92b5123-53bb-4250-b10d-96f48f1f6e6f",
   "metadata": {},
   "outputs": [],
   "source": [
    "src = driver.page_source\n",
    "parser = BeautifulSoup(src, \"lxml\")\n",
    "table = parser.find(\"div\", attrs = {\"id\": \"calculations\"})\n",
    "headers = table.findAll('th')\n",
    "headerlist = [h.text.strip() for h in headers[:]]"
   ]
  },
  {
   "cell_type": "code",
   "execution_count": null,
   "id": "124933e6-d9d4-410e-be3d-f254ed1a3d3f",
   "metadata": {},
   "outputs": [],
   "source": [
    "headerlist[0] = \"Name\""
   ]
  },
  {
   "cell_type": "code",
   "execution_count": null,
   "id": "6dd1299f-1a96-4fce-a919-0ac9a6f56051",
   "metadata": {},
   "outputs": [],
   "source": [
    "headerlist"
   ]
  },
  {
   "cell_type": "code",
   "execution_count": null,
   "id": "e937a88f-8c14-4711-adc4-d0aa6ac68e57",
   "metadata": {},
   "outputs": [],
   "source": [
    "rows = table.findAll('tr')[1:]"
   ]
  },
  {
   "cell_type": "raw",
   "id": "1c0a9e67-6bad-4608-a9dd-99a395fe3735",
   "metadata": {},
   "source": [
    "rows"
   ]
  },
  {
   "cell_type": "code",
   "execution_count": null,
   "id": "977f19c5-3ae4-40bf-bc93-724b0a7ec0a4",
   "metadata": {},
   "outputs": [],
   "source": [
    "# player_stats = [[td.getText().strip() for td in rows[i].findAll('td')] for i in range(len(rows))]"
   ]
  },
  {
   "cell_type": "code",
   "execution_count": null,
   "id": "47d736df-e50a-438b-9ba3-e6893e5973c0",
   "metadata": {},
   "outputs": [],
   "source": [
    "player_stats = [[f\"{pitchType}\" if td.getText().strip() == '' else td.getText().strip() for td in rows[i].findAll('td')] for i in range(len(rows))]"
   ]
  },
  {
   "cell_type": "code",
   "execution_count": null,
   "id": "3fbcc84a-9961-428d-8ec5-626b98d96fd6",
   "metadata": {},
   "outputs": [],
   "source": []
  },
  {
   "cell_type": "code",
   "execution_count": null,
   "id": "8ef5a89e-4fbb-4796-b618-438f178fbc8e",
   "metadata": {},
   "outputs": [],
   "source": [
    "stats = pd.DataFrame(player_stats, columns=headerlist)"
   ]
  },
  {
   "cell_type": "code",
   "execution_count": null,
   "id": "11308a72-32da-4604-b60b-a816b54c5a42",
   "metadata": {},
   "outputs": [],
   "source": [
    "stats"
   ]
  },
  {
   "cell_type": "code",
   "execution_count": null,
   "id": "97c0f06b-905c-45d0-9030-30b23fc00d19",
   "metadata": {},
   "outputs": [],
   "source": []
  },
  {
   "cell_type": "code",
   "execution_count": null,
   "id": "1f337567-12bb-4080-a533-c5f02340eca0",
   "metadata": {},
   "outputs": [],
   "source": []
  },
  {
   "cell_type": "code",
   "execution_count": null,
   "id": "d5d6f054-026a-440b-ba3a-0325974f2d50",
   "metadata": {},
   "outputs": [],
   "source": []
  },
  {
   "cell_type": "code",
   "execution_count": null,
   "id": "755b6844-e6ef-4941-826f-06d92bde500e",
   "metadata": {},
   "outputs": [],
   "source": []
  },
  {
   "cell_type": "code",
   "execution_count": null,
   "id": "ff884a4e-5178-4e4f-a0c5-bf0c4b0fa7f4",
   "metadata": {},
   "outputs": [],
   "source": []
  },
  {
   "cell_type": "code",
   "execution_count": 1,
   "id": "d00b6014-3bf7-45d1-b784-8b1a434757aa",
   "metadata": {},
   "outputs": [],
   "source": [
    "from selenium import webdriver\n",
    "from selenium.webdriver.support.ui import Select\n",
    "from selenium.webdriver.support.ui import WebDriverWait\n",
    "from selenium.webdriver.support import expected_conditions as EC\n",
    "from selenium.webdriver.common.by import By\n",
    "from bs4 import BeautifulSoup\n",
    "import pandas as pd\n",
    "\n",
    "player_ids = []\n",
    "timeout = 25"
   ]
  },
  {
   "cell_type": "code",
   "execution_count": 5,
   "id": "4c7e4c9a-39a3-4050-b8d1-ee8a369c7406",
   "metadata": {},
   "outputs": [],
   "source": [
    "driver = webdriver.Firefox()\n",
    "url = r\"https://baseballsavant.mlb.com/visuals/statcast-pitch-highlighter?playerId=660670&type=&batHand=&pitchHand=&pitchType=&year=2023&zone=\"\n",
    "driver.get(url)\n",
    "select = Select(driver.find_element(By.XPATH,r\"/html/body/div[2]/div/div/div[3]/div[1]/form/div[4]/div/select\"))"
   ]
  },
  {
   "cell_type": "code",
   "execution_count": 6,
   "id": "2b68470d-fc0f-4c01-8675-4449441af434",
   "metadata": {},
   "outputs": [],
   "source": [
    "for i in range(len(select.options)):\n",
    "    url = r\"https://baseballsavant.mlb.com/visuals/statcast-pitch-highlighter?playerId=660670&type=&batHand=&pitchHand=&pitchType=&year=2023&zone=\"\n",
    "    driver.get(url)\n",
    "    element_present = EC.presence_of_element_located((By.XPATH, r\"/html/body/div[2]/div/div/div[3]/div[1]/form/div[4]/div/select\"))\n",
    "    WebDriverWait(driver, timeout).until(element_present)\n",
    "    select = Select(driver.find_element(By.XPATH,r\"/html/body/div[2]/div/div/div[3]/div[1]/form/div[4]/div/select\"))\n",
    "    select.select_by_index(f\"{i}\")\n",
    "    pitchType = select.first_selected_option.text\n",
    "    src = driver.page_source\n",
    "    parser = BeautifulSoup(src, \"lxml\")\n",
    "    table = parser.find(\"div\", attrs = {\"id\": \"calculations\"})\n",
    "    headers = table.findAll('th')\n",
    "    headerlist = [h.text.strip() for h in headers[:]]\n",
    "    rows = table.findAll('tr')[1:]\n",
    "    player_stats = [[f\"{pitchType}\" if td.getText().strip() == '' else td.getText().strip() for td in rows[i].findAll('td')] for i in range(len(rows))]\n",
    "    stats = pd.DataFrame(player_stats, columns=headerlist)\n",
    "\n"
   ]
  },
  {
   "cell_type": "code",
   "execution_count": null,
   "id": "b8cb2707-3f37-4f91-8ecc-954ef1170356",
   "metadata": {},
   "outputs": [],
   "source": []
  },
  {
   "cell_type": "code",
   "execution_count": 9,
   "id": "a16f057d-3f65-49b7-b6a9-f820f464a8a8",
   "metadata": {},
   "outputs": [
    {
     "data": {
      "text/html": [
       "<div>\n",
       "<style scoped>\n",
       "    .dataframe tbody tr th:only-of-type {\n",
       "        vertical-align: middle;\n",
       "    }\n",
       "\n",
       "    .dataframe tbody tr th {\n",
       "        vertical-align: top;\n",
       "    }\n",
       "\n",
       "    .dataframe thead th {\n",
       "        text-align: right;\n",
       "    }\n",
       "</style>\n",
       "<table border=\"1\" class=\"dataframe\">\n",
       "  <thead>\n",
       "    <tr style=\"text-align: right;\">\n",
       "      <th></th>\n",
       "      <th></th>\n",
       "      <th>Season</th>\n",
       "      <th>Total Pitches</th>\n",
       "      <th>Pitches</th>\n",
       "      <th>Pitch Types</th>\n",
       "      <th>%</th>\n",
       "      <th>PA</th>\n",
       "      <th>AB</th>\n",
       "      <th>H</th>\n",
       "      <th>1B</th>\n",
       "      <th>...</th>\n",
       "      <th>BA</th>\n",
       "      <th>SO</th>\n",
       "      <th>Swings</th>\n",
       "      <th>Misses</th>\n",
       "      <th>Sw%</th>\n",
       "      <th>Whiff%</th>\n",
       "      <th>K%</th>\n",
       "      <th>wOBA</th>\n",
       "      <th>EV</th>\n",
       "      <th>Spin Rate</th>\n",
       "    </tr>\n",
       "  </thead>\n",
       "  <tbody>\n",
       "    <tr>\n",
       "      <th>0</th>\n",
       "      <td>Acuna</td>\n",
       "      <td>2023</td>\n",
       "      <td>2782</td>\n",
       "      <td>5</td>\n",
       "      <td>Slurve</td>\n",
       "      <td>0.2</td>\n",
       "      <td>2</td>\n",
       "      <td>2</td>\n",
       "      <td>1</td>\n",
       "      <td>0</td>\n",
       "      <td>...</td>\n",
       "      <td>.500</td>\n",
       "      <td>0</td>\n",
       "      <td>4</td>\n",
       "      <td>0</td>\n",
       "      <td>80.0</td>\n",
       "      <td>0.0</td>\n",
       "      <td>0.0</td>\n",
       "      <td>1.002</td>\n",
       "      <td>95.9</td>\n",
       "      <td>2560</td>\n",
       "    </tr>\n",
       "  </tbody>\n",
       "</table>\n",
       "<p>1 rows × 23 columns</p>\n",
       "</div>"
      ],
      "text/plain": [
       "         Season Total Pitches Pitches Pitch Types    % PA AB  H 1B  ...    BA  \\\n",
       "0  Acuna   2023          2782       5      Slurve  0.2  2  2  1  0  ...  .500   \n",
       "\n",
       "  SO Swings Misses   Sw% Whiff%   K%   wOBA    EV Spin Rate  \n",
       "0  0      4      0  80.0    0.0  0.0  1.002  95.9      2560  \n",
       "\n",
       "[1 rows x 23 columns]"
      ]
     },
     "execution_count": 9,
     "metadata": {},
     "output_type": "execute_result"
    }
   ],
   "source": [
    "stats"
   ]
  },
  {
   "cell_type": "code",
   "execution_count": null,
   "id": "cd5eaa56-105a-41ae-b1d8-6be67b3c7298",
   "metadata": {},
   "outputs": [],
   "source": []
  },
  {
   "cell_type": "code",
   "execution_count": null,
   "id": "68549731-9b9d-4ef4-89b1-45f164a1438c",
   "metadata": {},
   "outputs": [],
   "source": [
    "\n",
    "    "
   ]
  },
  {
   "cell_type": "code",
   "execution_count": null,
   "id": "6b28dfc5-6fce-4d95-9fb2-d5ee6d6f9d25",
   "metadata": {},
   "outputs": [],
   "source": []
  },
  {
   "cell_type": "code",
   "execution_count": null,
   "id": "a85ac31c-0699-4d3f-8c21-92b7b28798c4",
   "metadata": {},
   "outputs": [],
   "source": []
  }
 ],
 "metadata": {
  "kernelspec": {
   "display_name": "Python 3 (ipykernel)",
   "language": "python",
   "name": "python3"
  },
  "language_info": {
   "codemirror_mode": {
    "name": "ipython",
    "version": 3
   },
   "file_extension": ".py",
   "mimetype": "text/x-python",
   "name": "python",
   "nbconvert_exporter": "python",
   "pygments_lexer": "ipython3",
   "version": "3.12.0"
  }
 },
 "nbformat": 4,
 "nbformat_minor": 5
}
