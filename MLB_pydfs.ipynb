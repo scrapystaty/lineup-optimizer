{
 "cells": [
  {
   "cell_type": "code",
   "execution_count": null,
   "id": "59ed9295-ae09-4058-9eaf-89f2e2ecd1d7",
   "metadata": {},
   "outputs": [],
   "source": [
    "pip install pydfs-lineup-optimizer"
   ]
  },
  {
   "cell_type": "code",
   "execution_count": 2,
   "id": "280998b5-59ed-485b-aa3f-a668231aadd8",
   "metadata": {},
   "outputs": [],
   "source": [
    "from pydfs_lineup_optimizer import get_optimizer, Site, Sport"
   ]
  },
  {
   "cell_type": "code",
   "execution_count": 4,
   "id": "482c0c9a-fbcf-4a1e-9eb9-ce6214b5b14b",
   "metadata": {},
   "outputs": [],
   "source": [
    "optimizer = get_optimizer(Site.FANDUEL, Sport.BASEBALL)"
   ]
  },
  {
   "cell_type": "code",
   "execution_count": 5,
   "id": "c2d44574-b0b6-4d4d-8e40-80fafc2b4f72",
   "metadata": {},
   "outputs": [
    {
     "data": {
      "text/plain": [
       "<pydfs_lineup_optimizer.lineup_optimizer.LineupOptimizer at 0x1069a7e00>"
      ]
     },
     "execution_count": 5,
     "metadata": {},
     "output_type": "execute_result"
    }
   ],
   "source": [
    "optimizer"
   ]
  }
 ],
 "metadata": {
  "kernelspec": {
   "display_name": "Python 3 (ipykernel)",
   "language": "python",
   "name": "python3"
  },
  "language_info": {
   "codemirror_mode": {
    "name": "ipython",
    "version": 3
   },
   "file_extension": ".py",
   "mimetype": "text/x-python",
   "name": "python",
   "nbconvert_exporter": "python",
   "pygments_lexer": "ipython3",
   "version": "3.12.0"
  }
 },
 "nbformat": 4,
 "nbformat_minor": 5
}
