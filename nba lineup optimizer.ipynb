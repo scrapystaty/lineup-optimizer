{
 "cells": [
  {
   "cell_type": "code",
   "execution_count": null,
   "id": "4ef2d667-a544-4e8d-94f2-98bfb90442cd",
   "metadata": {},
   "outputs": [],
   "source": [
    "from selenium import webdriver\n",
    "from selenium.webdriver.support.ui import Select\n",
    "from selenium.webdriver.support.ui import WebDriverWait\n",
    "from selenium.webdriver.support import expected_conditions as EC\n",
    "from selenium.webdriver.common.by import By\n",
    "from bs4 import BeautifulSoup\n",
    "import pandas as pd\n",
    "\n",
    "nba_seasons = ['2023-24', '2022-23', '2021-22']\n",
    "timeout = 25"
   ]
  },
  {
   "cell_type": "code",
   "execution_count": null,
   "id": "1264e1a6-8a93-413c-b3f4-abd546c415b2",
   "metadata": {},
   "outputs": [],
   "source": [
    "driver = webdriver.Firefox()"
   ]
  },
  {
   "cell_type": "code",
   "execution_count": null,
   "id": "042df0b6-8aa7-4103-ba6a-5773f8ad0fed",
   "metadata": {},
   "outputs": [],
   "source": [
    "url = r\"https://www.nba.com/stats/players/advanced?dir=A&sort=GP&Season=2023-24\""
   ]
  },
  {
   "cell_type": "code",
   "execution_count": null,
   "id": "5b216faa-0877-4580-818c-289a6c2bd20e",
   "metadata": {},
   "outputs": [],
   "source": [
    "driver.get(url)"
   ]
  },
  {
   "cell_type": "code",
   "execution_count": null,
   "id": "19364c77-4ccc-4f75-ba7c-944fd5f82312",
   "metadata": {},
   "outputs": [],
   "source": [
    "select = Select(driver.find_element(By.XPATH,r\"/html/body/div[1]/div[2]/div[2]/div[3]/section[2]/div/div[2]/div[2]/div[1]/div[3]/div/label/div/select\"))"
   ]
  },
  {
   "cell_type": "code",
   "execution_count": null,
   "id": "823508ad-dcd3-48d3-806a-559cce195911",
   "metadata": {},
   "outputs": [],
   "source": [
    "select.select_by_index(0)"
   ]
  },
  {
   "cell_type": "code",
   "execution_count": null,
   "id": "c87c677a-5ce5-4009-b68b-42c7171d8017",
   "metadata": {},
   "outputs": [],
   "source": [
    "src = driver.page_source\n",
    "parser = BeautifulSoup(src, \"lxml\")\n",
    "table = parser.find(\"div\", attrs = {\"class\": \"Crom_container__C45Ti\"})\n",
    "headers = table.findAll('th')\n",
    "headerlist = [h.text.strip() for h in headers[1:]]"
   ]
  },
  {
   "cell_type": "code",
   "execution_count": null,
   "id": "a2592212-888d-407e-95a0-a7d28e0ecb54",
   "metadata": {},
   "outputs": [],
   "source": [
    "headerlist = [a for a in headerlist if not 'RANK' in a]\n",
    "\n",
    "# for header in headerlist: \n",
    "#     if not 'RANK' in header:\n",
    "#         headerlist.append(header"
   ]
  },
  {
   "cell_type": "code",
   "execution_count": null,
   "id": "b7eb5553-d72c-4922-9ccf-d8d13badc2f2",
   "metadata": {},
   "outputs": [],
   "source": [
    "rows = table.findAll('tr')[1:]"
   ]
  },
  {
   "cell_type": "code",
   "execution_count": null,
   "id": "935c6d67-4cdd-4e79-a7d8-8407817ebb44",
   "metadata": {},
   "outputs": [],
   "source": [
    "player_stats = [[td.getText().strip() for td in rows[i].findAll('td')[1:]] for i in range(len(rows))]"
   ]
  },
  {
   "cell_type": "code",
   "execution_count": null,
   "id": "5fe34a83-6ad9-41d2-9ffe-901d90a57352",
   "metadata": {},
   "outputs": [],
   "source": [
    "headerlist = headerlist[:-5]"
   ]
  },
  {
   "cell_type": "code",
   "execution_count": null,
   "id": "4342fbf0-2dd6-4285-bef2-5395f657b3e1",
   "metadata": {},
   "outputs": [],
   "source": [
    "stats = pd.DataFrame(player_stats, columns=headerlist)"
   ]
  },
  {
   "cell_type": "code",
   "execution_count": null,
   "id": "58ebd8d1-c3f6-4aeb-b29f-9e7b64051042",
   "metadata": {},
   "outputs": [],
   "source": [
    "pd.DataFrame.to_excel(stats, r\"nbaStatsExample.xlsx\")"
   ]
  },
  {
   "cell_type": "code",
   "execution_count": null,
   "id": "002ae4ad-0237-4f32-9ab1-401e18e2c454",
   "metadata": {},
   "outputs": [],
   "source": [
    "for season in nbaSeasons:\n",
    "    print(f\"https://www.nba.com/stats/players/advanced?dir=A&sort=GP&Season={season}\")"
   ]
  },
  {
   "cell_type": "code",
   "execution_count": null,
   "id": "ec9bde30-adbc-498c-9324-b759bf1cd744",
   "metadata": {},
   "outputs": [],
   "source": [
    "nbaSeasons = ['2023-24', '2022-23', '2021-22']"
   ]
  },
  {
   "cell_type": "code",
   "execution_count": null,
   "id": "7231e671-af08-4535-982f-fae7a254b56c",
   "metadata": {},
   "outputs": [],
   "source": []
  },
  {
   "cell_type": "code",
   "execution_count": null,
   "id": "be898f3b-39a3-4e11-9542-3f30741e2386",
   "metadata": {},
   "outputs": [],
   "source": []
  },
  {
   "cell_type": "code",
   "execution_count": null,
   "id": "e7b84905-518a-4c8f-888e-c109f186094e",
   "metadata": {},
   "outputs": [],
   "source": []
  },
  {
   "cell_type": "code",
   "execution_count": 1,
   "id": "c1f92253-f9b3-45e3-87a4-14c15df7cbd6",
   "metadata": {},
   "outputs": [],
   "source": [
    "from selenium import webdriver\n",
    "from selenium.webdriver.support.ui import Select\n",
    "from selenium.webdriver.support.ui import WebDriverWait\n",
    "from selenium.webdriver.support import expected_conditions as EC\n",
    "from selenium.webdriver.common.by import By\n",
    "from bs4 import BeautifulSoup\n",
    "import pandas as pd\n",
    "\n",
    "nba_seasons = ['2023-24', '2022-23', '2021-22']\n",
    "timeout = 25"
   ]
  },
  {
   "cell_type": "code",
   "execution_count": 2,
   "id": "9cc0d776-309c-44b5-acef-93da0fc9ab36",
   "metadata": {},
   "outputs": [],
   "source": [
    "driver = webdriver.Firefox()"
   ]
  },
  {
   "cell_type": "code",
   "execution_count": 4,
   "id": "49bca041-253a-45e4-b863-a9194c805093",
   "metadata": {},
   "outputs": [],
   "source": [
    "for season in nba_seasons:\n",
    "    url = f\"https://www.nba.com/stats/players/advanced?dir=A&sort=GP&Season={season}\"\n",
    "    driver.get(url)\n",
    "    element_present = EC.presence_of_element_located((By.XPATH, r\"/html/body/div[1]/div[2]/div[2]/div[3]/section[2]/div/div[2]/div[2]/div[1]/div[3]/div/label/div/select\"))\n",
    "    WebDriverWait(driver, timeout).until(element_present)\n",
    "    select = Select(driver.find_element(By.XPATH,r\"/html/body/div[1]/div[2]/div[2]/div[3]/section[2]/div/div[2]/div[2]/div[1]/div[3]/div/label/div/select\"))\n",
    "    select.select_by_index(0)\n",
    "    src = driver.page_source\n",
    "    parser = BeautifulSoup(src, \"lxml\")\n",
    "    table = parser.find(\"div\", attrs = {\"class\": \"Crom_container__C45Ti\"})\n",
    "    headers = table.findAll('th')\n",
    "    headerlist = [h.text.strip() for h in headers[1:]]\n",
    "    headerlist1 = [a for a in headerlist if not 'RANK' in a]\n",
    "    rows = table.findAll('tr')[1:]\n",
    "    player_stats = [[td.getText().strip() for td in rows[i].findAll('td')[1:]] for i in range(len(rows))]\n",
    "    headerlist1 = headerlist1[:-5]\n",
    "    stats = pd.DataFrame(player_stats, columns=headerlist1)\n",
    "    pd.DataFrame.to_excel(stats, f\"nbaStatsExample{season}.xlsx\")"
   ]
  },
  {
   "cell_type": "code",
   "execution_count": null,
   "id": "703bc951-9955-4960-bad0-4bd3d4a6c13f",
   "metadata": {},
   "outputs": [],
   "source": []
  }
 ],
 "metadata": {
  "kernelspec": {
   "display_name": "Python 3 (ipykernel)",
   "language": "python",
   "name": "python3"
  },
  "language_info": {
   "codemirror_mode": {
    "name": "ipython",
    "version": 3
   },
   "file_extension": ".py",
   "mimetype": "text/x-python",
   "name": "python",
   "nbconvert_exporter": "python",
   "pygments_lexer": "ipython3",
   "version": "3.12.0"
  }
 },
 "nbformat": 4,
 "nbformat_minor": 5
}
