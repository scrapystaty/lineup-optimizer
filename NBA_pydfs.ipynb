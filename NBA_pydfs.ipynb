{
 "cells": [
  {
   "cell_type": "code",
   "execution_count": 1,
   "id": "2243a9e9-1c22-4f55-ad7d-324688b6ab1d",
   "metadata": {},
   "outputs": [],
   "source": [
    "from pydfs_lineup_optimizer import get_optimizer, Site, Sport"
   ]
  },
  {
   "cell_type": "code",
   "execution_count": 2,
   "id": "93f5ad36-a5b2-4531-b165-4fd7033aea5e",
   "metadata": {},
   "outputs": [],
   "source": [
    "optimizer = get_optimizer(Site.FANDUEL, Sport.BASKETBALL)"
   ]
  },
  {
   "cell_type": "code",
   "execution_count": 3,
   "id": "0ee268cb-2ac6-47e1-90b9-2204994cc7ba",
   "metadata": {},
   "outputs": [
    {
     "data": {
      "text/plain": [
       "<pydfs_lineup_optimizer.lineup_optimizer.LineupOptimizer at 0x1174766c0>"
      ]
     },
     "execution_count": 3,
     "metadata": {},
     "output_type": "execute_result"
    }
   ],
   "source": [
    "optimizer"
   ]
  },
  {
   "cell_type": "code",
   "execution_count": 11,
   "id": "bd8e8d57-d97a-4d7c-ae9f-baa83e116711",
   "metadata": {},
   "outputs": [],
   "source": [
    "optimizer.load_players_from_csv(r\"/Users/ericmartinez/Downloads/FanDuel-NBA-2024 ET-01 ET-22 ET-98659-players-list.csv\")"
   ]
  },
  {
   "cell_type": "code",
   "execution_count": 12,
   "id": "4477c67d-8fea-4e20-9ef9-883e6ecc44ad",
   "metadata": {},
   "outputs": [],
   "source": [
    "lineups = optimizer.optimize(n=10)"
   ]
  },
  {
   "cell_type": "code",
   "execution_count": 13,
   "id": "7d0c46f3-98a4-40b1-aa6f-ef6bf3d6d8a6",
   "metadata": {},
   "outputs": [
    {
     "data": {
      "text/plain": [
       "<generator object LineupOptimizer.optimize at 0x112b6ea40>"
      ]
     },
     "execution_count": 13,
     "metadata": {},
     "output_type": "execute_result"
    }
   ],
   "source": [
    "lineups"
   ]
  },
  {
   "cell_type": "code",
   "execution_count": 14,
   "id": "f90d8af0-ca84-4c25-b446-d2f64d067a9a",
   "metadata": {},
   "outputs": [
    {
     "name": "stdout",
     "output_type": "stream",
     "text": [
      " 1. PG      Dennis Schroder               PG    TOR            MEM@TOR  27.995         5600.0$   \n",
      " 2. PG      Kyle Lowry                    PG    MIA            MIA@ORL  21.372         4600.0$   \n",
      " 3. SG      Cole Anthony                  PG/SG ORL            CLE@ORL  25.285         5500.0$   \n",
      " 4. SG      Eric Gordon                   SF/SG PHO            CHI@PHO  21.866         4500.0$   \n",
      " 5. SF      Franz Wagner                  PF/SF ORL            CLE@ORL  36.347         7400.0$   \n",
      " 6. SF      Michael Porter                PF/SF DEN            DEN@WAS  29.626         6500.0$   \n",
      " 7. PF      Obi Toppin                    PF    IND            IND@PHO  20.521         4500.0$   \n",
      " 8. PF      Scottie Barnes                PF/SF TOR            MEM@TOR  44.588         8900.0$   \n",
      " 9. C       Joel Embiid                   C     PHI            SA@PHI   62.997         12500.0$  \n",
      "\n",
      "Fantasy Points 290.60\n",
      "Salary 60000.00\n",
      "\n",
      " 1. PG      Dennis Schroder               PG    TOR            MEM@TOR  27.995         5600.0$   \n",
      " 2. PG      Kyle Lowry                    PG    MIA            MIA@ORL  21.372         4600.0$   \n",
      " 3. SG      Eric Gordon                   SF/SG PHO            CHI@PHO  21.866         4500.0$   \n",
      " 4. SG      Terry Rozier                  PG/SG CHA            CHA@MIN  40.862         8400.0$   \n",
      " 5. SF      Franz Wagner                  PF/SF ORL            CLE@ORL  36.347         7400.0$   \n",
      " 6. SF      Kevin Durant                  PF/SF PHO            IND@PHO  47.674         9700.0$   \n",
      " 7. PF      Michael Porter                PF/SF DEN            DEN@WAS  29.626         6500.0$   \n",
      " 8. PF      Scottie Barnes                PF/SF TOR            MEM@TOR  44.588         8900.0$   \n",
      " 9. C       Moritz Wagner                 C     ORL            CLE@ORL  20.14          4400.0$   \n",
      "\n",
      "Fantasy Points 290.47\n",
      "Salary 60000.00\n",
      "\n",
      " 1. PG      Dennis Schroder               PG    TOR            MEM@TOR  27.995         5600.0$   \n",
      " 2. PG      Kyle Lowry                    PG    MIA            MIA@ORL  21.372         4600.0$   \n",
      " 3. SG      Eric Gordon                   SF/SG PHO            CHI@PHO  21.866         4500.0$   \n",
      " 4. SG      Jalen Suggs                   PG/SG ORL            MIA@ORL  24.792         5500.0$   \n",
      " 5. SF      Franz Wagner                  PF/SF ORL            CLE@ORL  36.347         7400.0$   \n",
      " 6. SF      Michael Porter                PF/SF DEN            DEN@WAS  29.626         6500.0$   \n",
      " 7. PF      Obi Toppin                    PF    IND            IND@PHO  20.521         4500.0$   \n",
      " 8. PF      Scottie Barnes                PF/SF TOR            MEM@TOR  44.588         8900.0$   \n",
      " 9. C       Joel Embiid                   C     PHI            SA@PHI   62.997         12500.0$  \n",
      "\n",
      "Fantasy Points 290.11\n",
      "Salary 60000.00\n",
      "\n",
      " 1. PG      Dennis Schroder               PG    TOR            MEM@TOR  27.995         5600.0$   \n",
      " 2. PG      Kyle Lowry                    PG    MIA            MIA@ORL  21.372         4600.0$   \n",
      " 3. SG      Eric Gordon                   SF/SG PHO            CHI@PHO  21.866         4500.0$   \n",
      " 4. SG      Malik Beasley                 SF/SG MIL            MIL@DET  20.38          4600.0$   \n",
      " 5. SF      Franz Wagner                  PF/SF ORL            CLE@ORL  36.347         7400.0$   \n",
      " 6. SF      Matisse Thybulle              SF    POR            POR@LAL  16.356         3900.0$   \n",
      " 7. PF      Pascal Siakam                 C/PF  IND            IND@PHO  38.11          8000.0$   \n",
      " 8. PF      Scottie Barnes                PF/SF TOR            MEM@TOR  44.588         8900.0$   \n",
      " 9. C       Joel Embiid                   C     PHI            SA@PHI   62.997         12500.0$  \n",
      "\n",
      "Fantasy Points 290.01\n",
      "Salary 60000.00\n",
      "\n",
      " 1. PG      Dennis Schroder               PG    TOR            MEM@TOR  27.995         5600.0$   \n",
      " 2. PG      Tyrese Maxey                  PG    PHI            SA@PHI   43.605         9000.0$   \n",
      " 3. SG      Eric Gordon                   SF/SG PHO            CHI@PHO  21.866         4500.0$   \n",
      " 4. SG      Max Strus                     SF/SG CLE            CLE@ORL  27.248         6000.0$   \n",
      " 5. SF      Franz Wagner                  PF/SF ORL            CLE@ORL  36.347         7400.0$   \n",
      " 6. SF      Kevin Durant                  PF/SF PHO            IND@PHO  47.674         9700.0$   \n",
      " 7. PF      Obi Toppin                    PF    IND            IND@PHO  20.521         4500.0$   \n",
      " 8. PF      Scottie Barnes                PF/SF TOR            MEM@TOR  44.588         8900.0$   \n",
      " 9. C       Moritz Wagner                 C     ORL            CLE@ORL  20.14          4400.0$   \n",
      "\n",
      "Fantasy Points 289.98\n",
      "Salary 60000.00\n",
      "\n",
      " 1. PG      Dennis Schroder               PG    TOR            MEM@TOR  27.995         5600.0$   \n",
      " 2. PG      Kyle Lowry                    PG    MIA            MIA@ORL  21.372         4600.0$   \n",
      " 3. SG      Eric Gordon                   SF/SG PHO            CHI@PHO  21.866         4500.0$   \n",
      " 4. SG      Terry Rozier                  PG/SG CHA            CHA@MIN  40.862         8400.0$   \n",
      " 5. SF      Franz Wagner                  PF/SF ORL            CLE@ORL  36.347         7400.0$   \n",
      " 6. SF      Miles Bridges                 SF    CHA            CHA@MIN  36.214         7600.0$   \n",
      " 7. PF      Jonathan Isaac                PF/SF ORL            MIA@ORL  16.948         4000.0$   \n",
      " 8. PF      Scottie Barnes                PF/SF TOR            MEM@TOR  44.588         8900.0$   \n",
      " 9. C       Bam Adebayo                   C     MIA            MIA@ORL  43.703         8900.0$   \n",
      "\n",
      "Fantasy Points 289.90\n",
      "Salary 59900.00\n",
      "\n",
      " 1. PG      Dennis Schroder               PG    TOR            MEM@TOR  27.995         5600.0$   \n",
      " 2. PG      Kyle Lowry                    PG    MIA            MIA@ORL  21.372         4600.0$   \n",
      " 3. SG      Eric Gordon                   SF/SG PHO            CHI@PHO  21.866         4500.0$   \n",
      " 4. SG      Terry Rozier                  PG/SG CHA            CHA@MIN  40.862         8400.0$   \n",
      " 5. SF      Franz Wagner                  PF/SF ORL            CLE@ORL  36.347         7400.0$   \n",
      " 6. SF      Miles Bridges                 SF    CHA            CHA@MIN  36.214         7600.0$   \n",
      " 7. PF      Jonathan Isaac                PF/SF ORL            CLE@ORL  16.948         4100.0$   \n",
      " 8. PF      Scottie Barnes                PF/SF TOR            MEM@TOR  44.588         8900.0$   \n",
      " 9. C       Bam Adebayo                   C     MIA            MIA@ORL  43.703         8900.0$   \n",
      "\n",
      "Fantasy Points 289.90\n",
      "Salary 60000.00\n",
      "\n",
      " 1. PG      Dennis Schroder               PG    TOR            MEM@TOR  27.995         5600.0$   \n",
      " 2. PG      Kyle Lowry                    PG    MIA            MIA@ORL  21.372         4600.0$   \n",
      " 3. SG      Eric Gordon                   SF/SG PHO            CHI@PHO  21.866         4500.0$   \n",
      " 4. SG      Terry Rozier                  PG/SG CHA            CHA@MIN  40.862         8400.0$   \n",
      " 5. SF      DeMar DeRozan                 SF    CHI            CHI@PHO  38.614         8200.0$   \n",
      " 6. SF      Franz Wagner                  PF/SF ORL            CLE@ORL  36.347         7400.0$   \n",
      " 7. PF      Pascal Siakam                 C/PF  IND            IND@PHO  38.11          8000.0$   \n",
      " 8. PF      Scottie Barnes                PF/SF TOR            MEM@TOR  44.588         8900.0$   \n",
      " 9. C       Moritz Wagner                 C     ORL            CLE@ORL  20.14          4400.0$   \n",
      "\n",
      "Fantasy Points 289.89\n",
      "Salary 60000.00\n",
      "\n",
      " 1. PG      Dennis Schroder               PG    TOR            MEM@TOR  27.995         5600.0$   \n",
      " 2. PG      Kyle Lowry                    PG    MIA            MIA@ORL  21.372         4600.0$   \n",
      " 3. SG      Ausar Thompson                SF/SG DET            MIL@DET  23.852         5300.0$   \n",
      " 4. SG      Eric Gordon                   SF/SG PHO            CHI@PHO  21.866         4500.0$   \n",
      " 5. SF      Franz Wagner                  PF/SF ORL            CLE@ORL  36.347         7400.0$   \n",
      " 6. SF      Kevin Durant                  PF/SF PHO            IND@PHO  47.674         9700.0$   \n",
      " 7. PF      Kevin Love                    C/PF  MIA            MIA@ORL  22.472         5100.0$   \n",
      " 8. PF      Scottie Barnes                PF/SF TOR            MEM@TOR  44.588         8900.0$   \n",
      " 9. C       Bam Adebayo                   C     MIA            MIA@ORL  43.703         8900.0$   \n",
      "\n",
      "Fantasy Points 289.87\n",
      "Salary 60000.00\n",
      "\n",
      " 1. PG      Dennis Schroder               PG    TOR            MEM@TOR  27.995         5600.0$   \n",
      " 2. PG      Kyle Lowry                    PG    MIA            MIA@ORL  21.372         4600.0$   \n",
      " 3. SG      Eric Gordon                   SF/SG PHO            CHI@PHO  21.866         4500.0$   \n",
      " 4. SG      Malik Beasley                 SF/SG MIL            MIL@DET  20.38          4600.0$   \n",
      " 5. SF      Kevin Durant                  PF/SF PHO            IND@PHO  47.674         9700.0$   \n",
      " 6. SF      Scottie Barnes                PF/SF TOR            MEM@TOR  44.588         8900.0$   \n",
      " 7. PF      Kevin Love                    C/PF  MIA            MIA@ORL  22.472         5100.0$   \n",
      " 8. PF      Obi Toppin                    PF    IND            IND@PHO  20.521         4500.0$   \n",
      " 9. C       Joel Embiid                   C     PHI            SA@PHI   62.997         12500.0$  \n",
      "\n",
      "Fantasy Points 289.87\n",
      "Salary 60000.00\n",
      "\n"
     ]
    }
   ],
   "source": [
    "for lineup in lineups: \n",
    "    print(lineup)"
   ]
  }
 ],
 "metadata": {
  "kernelspec": {
   "display_name": "Python 3 (ipykernel)",
   "language": "python",
   "name": "python3"
  },
  "language_info": {
   "codemirror_mode": {
    "name": "ipython",
    "version": 3
   },
   "file_extension": ".py",
   "mimetype": "text/x-python",
   "name": "python",
   "nbconvert_exporter": "python",
   "pygments_lexer": "ipython3",
   "version": "3.12.0"
  }
 },
 "nbformat": 4,
 "nbformat_minor": 5
}
